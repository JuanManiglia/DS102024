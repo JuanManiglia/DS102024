{
 "cells": [
  {
   "cell_type": "markdown",
   "metadata": {},
   "source": [
    "# Sueño"
   ]
  },
  {
   "cell_type": "markdown",
   "metadata": {},
   "source": [
    "## 1. Definición del Problema de Machine Learning"
   ]
  },
  {
   "cell_type": "markdown",
   "metadata": {},
   "source": [
    "El objetivo del siguiente trabajo es predecir la calidad de sueño de una persona basándonos en datos como duración del sueño, niveles de estrés, nivel de actividad física durante el día (ya sea caminando o haciendo deporte), etc."
   ]
  },
  {
   "cell_type": "markdown",
   "metadata": {},
   "source": [
    "El target (calidad de sueño) consiste en un conjunto de valores discretos multiclase (marcados con valores que van del 1 al 5)."
   ]
  },
  {
   "cell_type": "markdown",
   "metadata": {},
   "source": [
    "Las métricas principales de clasificación son: F1-score, precisión, recall o accuracy.\n",
    "\n",
    "La métrica secundaria es la matriz de confusión para ver qué clases se confunden más."
   ]
  },
  {
   "cell_type": "markdown",
   "metadata": {},
   "source": [
    "**Impacto del proyecto**\n",
    "- Si el modelo predice una mala calidad del sueño, el sector hospitalario podrá establecer medidas personalizadas acorde a los problemas de las personas.\n",
    "- Esto podría mejorar la satisfacción del usuario, reduciendo problemas de salud relacionados con el sueño y mejorando la productividad en su día a día.\n",
    "- Tener una un sueño reparador puede evitar accidentes de tráfico, lo que puede ayudar a salvar vidas."
   ]
  },
  {
   "cell_type": "markdown",
   "metadata": {},
   "source": [
    "Los **requisitos mínimos** de rendimiento serán:\n",
    "- El modelo debe alcanzar al menos un 80% de precisión en la exactitud de los datos (si es de 90% o más sería muy bueno) siempre y cuando las clases estén balanceadas.\n",
    "- Los valores de F1-score deben tener un mínimo de 0.60 para ser aceptables, si tiene 0.70 serán buenos y si son mayores a 0.80 será excelente.\n",
    "- La matriz de confusión será buena si no comete errores graves en las clases importantes."
   ]
  },
  {
   "cell_type": "markdown",
   "metadata": {},
   "source": [
    "## 2. Recolección y Exploración de Datos"
   ]
  },
  {
   "cell_type": "markdown",
   "metadata": {},
   "source": [
    "1. Obtener el dataset completo\n",
    "2. Realizar análisis exploratorio inicial:\n",
    "   - Dimensiones del dataset\n",
    "   - Tipos de datos\n",
    "   - Estadísticas descriptivas básicas\n",
    "   - Distribución de variables\n",
    "   - Correlaciones\n",
    "3. Verificar la calidad de los datos:\n",
    "   - Identificar valores faltantes\n",
    "   - Detectar inconsistencias\n",
    "   - Verificar el balance de clases (para clasificación)\n",
    "   - Identificar posibles errores en los datos"
   ]
  },
  {
   "cell_type": "code",
   "execution_count": 1,
   "metadata": {},
   "outputs": [],
   "source": [
    "import warnings\n",
    "import pandas as pd\n",
    "import numpy as np\n",
    "import seaborn as sns\n",
    "import matplotlib.pyplot as plt\n",
    "from scipy import stats\n",
    "\n",
    "from sklearn.model_selection import train_test_split\n",
    "\n",
    "warnings.filterwarnings(\"ignore\")"
   ]
  },
  {
   "cell_type": "code",
   "execution_count": 2,
   "metadata": {},
   "outputs": [],
   "source": [
    "df=pd.read_csv('../data/raw/Sleep.csv')"
   ]
  },
  {
   "cell_type": "code",
   "execution_count": 3,
   "metadata": {},
   "outputs": [
    {
     "data": {
      "text/html": [
       "<div>\n",
       "<style scoped>\n",
       "    .dataframe tbody tr th:only-of-type {\n",
       "        vertical-align: middle;\n",
       "    }\n",
       "\n",
       "    .dataframe tbody tr th {\n",
       "        vertical-align: top;\n",
       "    }\n",
       "\n",
       "    .dataframe thead th {\n",
       "        text-align: right;\n",
       "    }\n",
       "</style>\n",
       "<table border=\"1\" class=\"dataframe\">\n",
       "  <thead>\n",
       "    <tr style=\"text-align: right;\">\n",
       "      <th></th>\n",
       "      <th>Gender</th>\n",
       "      <th>Age</th>\n",
       "      <th>Sleep duration</th>\n",
       "      <th>Sleep quality</th>\n",
       "      <th>Stress level</th>\n",
       "      <th>Blood pressure</th>\n",
       "      <th>Heart rate</th>\n",
       "      <th>Daily steps</th>\n",
       "      <th>Physical activity</th>\n",
       "      <th>Height</th>\n",
       "      <th>...</th>\n",
       "      <th>Smoking</th>\n",
       "      <th>Medical issue</th>\n",
       "      <th>Ongoing medication</th>\n",
       "      <th>Smart device before bed</th>\n",
       "      <th>Average screen time</th>\n",
       "      <th>Blue-light filter</th>\n",
       "      <th>Discomfort Eye-strain</th>\n",
       "      <th>Redness in eye</th>\n",
       "      <th>Itchiness/Irritation in eye</th>\n",
       "      <th>Dry Eye Disease</th>\n",
       "    </tr>\n",
       "  </thead>\n",
       "  <tbody>\n",
       "    <tr>\n",
       "      <th>0</th>\n",
       "      <td>F</td>\n",
       "      <td>24</td>\n",
       "      <td>9.5</td>\n",
       "      <td>2</td>\n",
       "      <td>1</td>\n",
       "      <td>137/89</td>\n",
       "      <td>67</td>\n",
       "      <td>3000</td>\n",
       "      <td>31</td>\n",
       "      <td>161</td>\n",
       "      <td>...</td>\n",
       "      <td>N</td>\n",
       "      <td>Y</td>\n",
       "      <td>Y</td>\n",
       "      <td>N</td>\n",
       "      <td>8.7</td>\n",
       "      <td>N</td>\n",
       "      <td>Y</td>\n",
       "      <td>Y</td>\n",
       "      <td>N</td>\n",
       "      <td>Y</td>\n",
       "    </tr>\n",
       "    <tr>\n",
       "      <th>1</th>\n",
       "      <td>M</td>\n",
       "      <td>39</td>\n",
       "      <td>9.6</td>\n",
       "      <td>2</td>\n",
       "      <td>3</td>\n",
       "      <td>108/64</td>\n",
       "      <td>60</td>\n",
       "      <td>12000</td>\n",
       "      <td>74</td>\n",
       "      <td>164</td>\n",
       "      <td>...</td>\n",
       "      <td>N</td>\n",
       "      <td>Y</td>\n",
       "      <td>Y</td>\n",
       "      <td>N</td>\n",
       "      <td>9.6</td>\n",
       "      <td>Y</td>\n",
       "      <td>N</td>\n",
       "      <td>N</td>\n",
       "      <td>Y</td>\n",
       "      <td>Y</td>\n",
       "    </tr>\n",
       "    <tr>\n",
       "      <th>2</th>\n",
       "      <td>F</td>\n",
       "      <td>45</td>\n",
       "      <td>5.4</td>\n",
       "      <td>1</td>\n",
       "      <td>5</td>\n",
       "      <td>134/81</td>\n",
       "      <td>95</td>\n",
       "      <td>12000</td>\n",
       "      <td>93</td>\n",
       "      <td>179</td>\n",
       "      <td>...</td>\n",
       "      <td>N</td>\n",
       "      <td>N</td>\n",
       "      <td>N</td>\n",
       "      <td>Y</td>\n",
       "      <td>4.0</td>\n",
       "      <td>N</td>\n",
       "      <td>Y</td>\n",
       "      <td>N</td>\n",
       "      <td>N</td>\n",
       "      <td>N</td>\n",
       "    </tr>\n",
       "    <tr>\n",
       "      <th>3</th>\n",
       "      <td>F</td>\n",
       "      <td>45</td>\n",
       "      <td>5.4</td>\n",
       "      <td>4</td>\n",
       "      <td>5</td>\n",
       "      <td>110/90</td>\n",
       "      <td>78</td>\n",
       "      <td>19000</td>\n",
       "      <td>32</td>\n",
       "      <td>160</td>\n",
       "      <td>...</td>\n",
       "      <td>N</td>\n",
       "      <td>Y</td>\n",
       "      <td>N</td>\n",
       "      <td>N</td>\n",
       "      <td>7.6</td>\n",
       "      <td>N</td>\n",
       "      <td>Y</td>\n",
       "      <td>N</td>\n",
       "      <td>Y</td>\n",
       "      <td>N</td>\n",
       "    </tr>\n",
       "    <tr>\n",
       "      <th>4</th>\n",
       "      <td>F</td>\n",
       "      <td>42</td>\n",
       "      <td>5.7</td>\n",
       "      <td>3</td>\n",
       "      <td>2</td>\n",
       "      <td>99/67</td>\n",
       "      <td>72</td>\n",
       "      <td>4000</td>\n",
       "      <td>173</td>\n",
       "      <td>179</td>\n",
       "      <td>...</td>\n",
       "      <td>N</td>\n",
       "      <td>Y</td>\n",
       "      <td>N</td>\n",
       "      <td>N</td>\n",
       "      <td>3.5</td>\n",
       "      <td>N</td>\n",
       "      <td>Y</td>\n",
       "      <td>Y</td>\n",
       "      <td>N</td>\n",
       "      <td>Y</td>\n",
       "    </tr>\n",
       "  </tbody>\n",
       "</table>\n",
       "<p>5 rows × 26 columns</p>\n",
       "</div>"
      ],
      "text/plain": [
       "  Gender  Age  Sleep duration  Sleep quality  Stress level Blood pressure  \\\n",
       "0      F   24             9.5              2             1         137/89   \n",
       "1      M   39             9.6              2             3         108/64   \n",
       "2      F   45             5.4              1             5         134/81   \n",
       "3      F   45             5.4              4             5         110/90   \n",
       "4      F   42             5.7              3             2          99/67   \n",
       "\n",
       "   Heart rate  Daily steps  Physical activity  Height  ...  Smoking  \\\n",
       "0          67         3000                 31     161  ...        N   \n",
       "1          60        12000                 74     164  ...        N   \n",
       "2          95        12000                 93     179  ...        N   \n",
       "3          78        19000                 32     160  ...        N   \n",
       "4          72         4000                173     179  ...        N   \n",
       "\n",
       "  Medical issue Ongoing medication Smart device before bed  \\\n",
       "0             Y                  Y                       N   \n",
       "1             Y                  Y                       N   \n",
       "2             N                  N                       Y   \n",
       "3             Y                  N                       N   \n",
       "4             Y                  N                       N   \n",
       "\n",
       "  Average screen time Blue-light filter Discomfort Eye-strain Redness in eye  \\\n",
       "0                 8.7                 N                     Y              Y   \n",
       "1                 9.6                 Y                     N              N   \n",
       "2                 4.0                 N                     Y              N   \n",
       "3                 7.6                 N                     Y              N   \n",
       "4                 3.5                 N                     Y              Y   \n",
       "\n",
       "  Itchiness/Irritation in eye Dry Eye Disease  \n",
       "0                           N               Y  \n",
       "1                           Y               Y  \n",
       "2                           N               N  \n",
       "3                           Y               N  \n",
       "4                           N               Y  \n",
       "\n",
       "[5 rows x 26 columns]"
      ]
     },
     "execution_count": 3,
     "metadata": {},
     "output_type": "execute_result"
    }
   ],
   "source": [
    "df.head()"
   ]
  },
  {
   "cell_type": "markdown",
   "metadata": {},
   "source": [
    "## Comprensión de variables"
   ]
  },
  {
   "cell_type": "code",
   "execution_count": null,
   "metadata": {},
   "outputs": [],
   "source": []
  },
  {
   "cell_type": "markdown",
   "metadata": {},
   "source": [
    "## Feat. Red. Preliminar"
   ]
  },
  {
   "cell_type": "code",
   "execution_count": null,
   "metadata": {},
   "outputs": [],
   "source": []
  },
  {
   "cell_type": "markdown",
   "metadata": {},
   "source": [
    "## Análisis Univariante"
   ]
  },
  {
   "cell_type": "code",
   "execution_count": null,
   "metadata": {},
   "outputs": [],
   "source": []
  },
  {
   "cell_type": "markdown",
   "metadata": {},
   "source": [
    "## 3. Preprocesamiento de Datos Inicial"
   ]
  },
  {
   "cell_type": "markdown",
   "metadata": {},
   "source": [
    "1. Eliminar duplicados si existen\n",
    "2. Tratar valores faltantes:\n",
    "   - Decidir entre eliminar o imputar\n",
    "   - Documentar la estrategia elegida\n",
    "3. Identificar y tratar outliers:\n",
    "   - Análisis estadístico de outliers\n",
    "   - Decidir estrategia (eliminar, transformar o mantener)\n",
    "4. Limpieza general de datos"
   ]
  },
  {
   "cell_type": "markdown",
   "metadata": {},
   "source": [
    "## 4. Feature Engineering"
   ]
  },
  {
   "cell_type": "markdown",
   "metadata": {},
   "source": [
    "1. Selección inicial de características:\n",
    "   - Análisis de correlaciones\n",
    "   - Importancia de variables\n",
    "2. Creación de nuevas características:\n",
    "   - Combinaciones de variables existentes\n",
    "   - Transformaciones matemáticas\n",
    "3. Aplicación de técnicas no supervisadas (si es necesario):\n",
    "   - PCA para reducción de dimensionalidad\n",
    "   - Clustering para nuevas features"
   ]
  },
  {
   "cell_type": "markdown",
   "metadata": {},
   "source": [
    "## 5. Preparación de Datos"
   ]
  },
  {
   "cell_type": "markdown",
   "metadata": {},
   "source": [
    "1. Split de datos:\n",
    "   - Train/Test/Validation\n",
    "   - Mantener estratificación si es necesario\n",
    "2. Procesamiento de variables (fit solo en train):\n",
    "   - Codificación de variables categóricas\n",
    "   - Normalización/Estandarización de variables numéricas\n",
    "3. Balanceo de clases (solo en train si es necesario):\n",
    "   - Oversampling\n",
    "   - Undersampling\n",
    "   - Técnicas híbridas"
   ]
  },
  {
   "cell_type": "markdown",
   "metadata": {},
   "source": [
    "### Divide en train, test y validation"
   ]
  },
  {
   "cell_type": "code",
   "execution_count": null,
   "metadata": {},
   "outputs": [],
   "source": [
    "X_train, X_test, y_train, y_test = train_test_split(df.drop('Sleep quality', axis=1),\n",
    "                                                    df['Sleep quality'],\n",
    "                                                    test_size=0.2,\n",
    "                                                    random_state=42)"
   ]
  },
  {
   "cell_type": "markdown",
   "metadata": {},
   "source": [
    "### Target"
   ]
  },
  {
   "cell_type": "code",
   "execution_count": 7,
   "metadata": {},
   "outputs": [
    {
     "ename": "NameError",
     "evalue": "name 'y_rus' is not defined",
     "output_type": "error",
     "traceback": [
      "\u001b[1;31m---------------------------------------------------------------------------\u001b[0m",
      "\u001b[1;31mNameError\u001b[0m                                 Traceback (most recent call last)",
      "Cell \u001b[1;32mIn[7], line 6\u001b[0m\n\u001b[0;32m      3\u001b[0m sns\u001b[38;5;241m.\u001b[39mcountplot(x\u001b[38;5;241m=\u001b[39m\u001b[38;5;124m\"\u001b[39m\u001b[38;5;124mSleep quality\u001b[39m\u001b[38;5;124m\"\u001b[39m, data\u001b[38;5;241m=\u001b[39mdf, ax\u001b[38;5;241m=\u001b[39maxes[\u001b[38;5;241m0\u001b[39m])\n\u001b[0;32m      4\u001b[0m axes[\u001b[38;5;241m0\u001b[39m]\u001b[38;5;241m.\u001b[39mset_title(\u001b[38;5;124m\"\u001b[39m\u001b[38;5;124mOriginal target\u001b[39m\u001b[38;5;124m\"\u001b[39m)\n\u001b[1;32m----> 6\u001b[0m sns\u001b[38;5;241m.\u001b[39mcountplot(\u001b[43my_rus\u001b[49m, ax\u001b[38;5;241m=\u001b[39maxes[\u001b[38;5;241m1\u001b[39m])\n\u001b[0;32m      7\u001b[0m axes[\u001b[38;5;241m1\u001b[39m]\u001b[38;5;241m.\u001b[39mset_title(\u001b[38;5;124m\"\u001b[39m\u001b[38;5;124mRandom Under Sampler\u001b[39m\u001b[38;5;124m\"\u001b[39m)\n\u001b[0;32m      9\u001b[0m sns\u001b[38;5;241m.\u001b[39mcountplot(y_ros, ax\u001b[38;5;241m=\u001b[39maxes[\u001b[38;5;241m2\u001b[39m])\n",
      "\u001b[1;31mNameError\u001b[0m: name 'y_rus' is not defined"
     ]
    },
    {
     "data": {
      "image/png": "[encoded data removed]",
      "text/plain": [
       "<Figure size 1500x500 with 3 Axes>"
      ]
     },
     "metadata": {},
     "output_type": "display_data"
    }
   ],
   "source": [
    "fig, axes = plt.subplots(1, 3, figsize= (15,5), sharey=True)\n",
    "\n",
    "sns.countplot(x=\"Sleep quality\", data=df, ax=axes[0])\n",
    "axes[0].set_title(\"Original target\")\n",
    "\n",
    "sns.countplot(y_rus, ax=axes[1])\n",
    "axes[1].set_title(\"Random Under Sampler\")\n",
    "\n",
    "sns.countplot(y_ros, ax=axes[2])\n",
    "axes[2].set_title(\"Random Over Sampler\")"
   ]
  },
  {
   "cell_type": "markdown",
   "metadata": {},
   "source": [
    "## 6. Selección de Modelos Base"
   ]
  },
  {
   "cell_type": "markdown",
   "metadata": {},
   "source": [
    "1. Implementar validación cruzada para varios modelos\n",
    "2. Evaluar modelos básicos según el tipo de problema\n",
    "3. Comparar resultados iniciales\n",
    "4. Seleccionar los 3-5 mejores modelos\n",
    "5. Documentar razones de selección"
   ]
  },
  {
   "cell_type": "markdown",
   "metadata": {},
   "source": [
    "## 7. Optimización de Modelos Seleccionados"
   ]
  },
  {
   "cell_type": "markdown",
   "metadata": {},
   "source": [
    "1. Realizar ajuste de hiperparámetros para cada modelo:\n",
    "   - Grid Search\n",
    "   - Random Search\n",
    "   - Bayesian Optimization\n",
    "2. Evaluar resultados de cada modelo optimizado\n",
    "3. Considerar ensamble de mejores modelos\n",
    "4. Seleccionar el modelo final"
   ]
  },
  {
   "cell_type": "markdown",
   "metadata": {},
   "source": [
    "## 8. Evaluación y Análisis"
   ]
  },
  {
   "cell_type": "markdown",
   "metadata": {},
   "source": [
    "1. Evaluar métricas finales en datos de test\n",
    "2. Realizar análisis detallado de errores\n",
    "3. Interpretar resultados:\n",
    "   - Importancia de características\n",
    "   - SHAP values\n",
    "   - Partial dependence plots\n",
    "4. Validar supuestos del modelo\n",
    "5. Analizar casos específicos de error\n",
    "6. Documentar hallazgos principales"
   ]
  },
  {
   "cell_type": "markdown",
   "metadata": {},
   "source": [
    "## 9. Despliegue y Documentación"
   ]
  },
  {
   "cell_type": "markdown",
   "metadata": {},
   "source": [
    "1. Preparar el modelo para producción:\n",
    "   - Optimizar código\n",
    "   - Crear pipeline de predicción\n",
    "2. Documentar todo el proceso:\n",
    "   - Decisiones tomadas\n",
    "   - Resultados obtenidos\n",
    "   - Limitaciones encontradas\n",
    "3. Establecer plan de monitoreo:\n",
    "   - Métricas a seguir\n",
    "   - Frecuencia de actualización\n",
    "   - Procedimientos de mantenimiento"
   ]
  },
  {
   "cell_type": "markdown",
   "metadata": {},
   "source": [
    "## Análisis Bivariante"
   ]
  },
  {
   "cell_type": "markdown",
   "metadata": {},
   "source": [
    "## Eliminación de Features"
   ]
  },
  {
   "cell_type": "markdown",
   "metadata": {},
   "source": [
    "## Duplicados"
   ]
  },
  {
   "cell_type": "markdown",
   "metadata": {},
   "source": [
    "## Missings"
   ]
  },
  {
   "cell_type": "markdown",
   "metadata": {},
   "source": [
    "## Anomalías y Errores"
   ]
  },
  {
   "cell_type": "markdown",
   "metadata": {},
   "source": [
    "## Outliers"
   ]
  },
  {
   "cell_type": "markdown",
   "metadata": {},
   "source": [
    "## Feature Engineering"
   ]
  },
  {
   "cell_type": "markdown",
   "metadata": {},
   "source": [
    "## Feature Reduction"
   ]
  },
  {
   "cell_type": "markdown",
   "metadata": {},
   "source": [
    "## Escoger Métrica del Modelo"
   ]
  },
  {
   "cell_type": "markdown",
   "metadata": {},
   "source": [
    "## Decidir sobre los Modelos"
   ]
  },
  {
   "cell_type": "markdown",
   "metadata": {},
   "source": [
    "## Elegir Hiperparámetros"
   ]
  },
  {
   "cell_type": "markdown",
   "metadata": {},
   "source": [
    "## Definición de Pipelines y Probamos"
   ]
  },
  {
   "cell_type": "markdown",
   "metadata": {},
   "source": [
    "## Resultados"
   ]
  }
 ],
 "metadata": {
  "kernelspec": {
   "display_name": "bootcamp-ds-gDITtNOb-py3.11",
   "language": "python",
   "name": "python3"
  },
  "language_info": {
   "codemirror_mode": {
    "name": "ipython",
    "version": 3
   },
   "file_extension": ".py",
   "mimetype": "text/x-python",
   "name": "python",
   "nbconvert_exporter": "python",
   "pygments_lexer": "ipython3",
   "version": "3.11.7"
  }
 },
 "nbformat": 4,
 "nbformat_minor": 2
}
