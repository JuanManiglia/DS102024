{
 "cells": [
  {
   "cell_type": "markdown",
   "metadata": {},
   "source": [
    "# Calidad del Sueño"
   ]
  },
  {
   "cell_type": "markdown",
   "metadata": {},
   "source": [
    "## 1. Definición del Problema de Machine Learning"
   ]
  },
  {
   "cell_type": "markdown",
   "metadata": {},
   "source": [
    "El objetivo del siguiente trabajo es predecir la calidad de sueño de una persona basándonos en distintos factores.  \n",
    "El target (calidad de sueño) consiste en un conjunto de valores discretos multiclase (marcados con valores que van del 1 al 5).  \n",
    "Las métricas principales de clasificación son: F1-score, precisión, recall o accuracy.  \n",
    "La métrica secundaria es la matriz de confusión para ver qué clases se confunden más.\n",
    "\n",
    "**Impacto del proyecto**  \n",
    "- Si el modelo predice una mala calidad del sueño, el sector hospitalario podrá establecer medidas personalizadas acorde a los problemas de las personas.  \n",
    "- Tener un sueño reparador podría:  \n",
    "  1. Mejorar la satisfacción personal y laboral del usuario, reduciendo problemas de salud relacionados con el sueño y mejorando la productividad en su día a día  \n",
    "  2. Evitar accidentes de tráfico, lo que puede ayudar a salvar vidas\n",
    "\n",
    "Los **requisitos mínimos** de rendimiento serán:\n",
    "- El modelo debe alcanzar al menos un 80% de precisión en la exactitud de los datos (si es de 90% o más sería muy bueno) siempre y cuando las clases estén balanceadas  \n",
    "- Los valores de F1-score deben tener un mínimo de 0.60 para ser aceptables, si tiene 0.70 serán buenos y si son mayores a 0.80 será excelente  \n",
    "- La matriz de confusión será buena si no comete errores graves en las clases importantes  "
   ]
  },
  {
   "cell_type": "markdown",
   "metadata": {},
   "source": [
    "| Variable | Rol | Tipo\t| Descripción |\tUnidades | Missing |\n",
    "|---|---|---|---|---|---|\n",
    "| Gender | Feature | Categorical | Gender | M / F | No |\n",
    "| Age | Feature | Integer | 18-45 | Years | No |\n",
    "| Sleep duration | Feature | Float | Time Slept | Hours | No |\n",
    "| Sleep quality | Target | Integer | Quality | 1-5 | No |\n",
    "| Stress level | Feature | Integer | Level | 1-5 | No |\n",
    "| Blood pressure | Feature | Categorical | Systolic and Diastolic | Pressure | No |\n",
    "| Heart rate | Feature | Integer | Pulse | Beats/min | No |\n",
    "| Daily steps | Feature | Integer | 1000 units/day | Steps | No |\n",
    "| Physical activity | Feature | Integer | Time/day | Minutes | No |\n",
    "| Height | Feature | Integer | Height of Subject | cm | No |\n",
    "| Weight | Feature | Integer | Weight of Subject | kg | No |\n",
    "| Sleep disorder | Feature | Categorical | Known Sleep Disorder | Y / N | No |\n",
    "| Wake up during night | Feature | Categorical | Wakes during night | Y / N | No |\n",
    "| Feel sleepy during day | Feature | Categorical | Drowsiness | Y / N | No |\n",
    "| Caffeine consumption | Feature | Categorical | Caffeine Consumption | Y / N | No |\n",
    "| Alcohol consumption | Feature | Categorical | Alcohol Consumption | Y / N | No |\n",
    "| Smoking | Feature | Categorical | Smoking habits | Y / N | No |\n",
    "| Medical issue | Feature | Categorical | Medical Issue | Y / N | No |\n",
    "| Ongoing medication | Feature | Categorical | Medical Prescription | Y / N | No |\n",
    "| Smart device before bed | Feature | Categorical | Recent Activity | Y / N | No |\n",
    "| Average screen time | Feature | Float | Screen Time | Time/day | No |\n",
    "| Blue-light filter | Feature | Categorical | Eye Protection | Y / N | No |\n",
    "| Discomfort Eye-strain | Feature | Categorical | Eye Strain | Y / N | No |\n",
    "| Redness in eye | Feature | Categorical | Eye Redness | Y / N | No |\n",
    "| Itchiness/Irritation in eye | Feature | Categorical | Eye Itchiness | Y / N | No |\n",
    "| Dry Eye Disease | Feature | Categorical | Dry Eye | Y / N | No |"
   ]
  },
  {
   "cell_type": "markdown",
   "metadata": {},
   "source": [
    "## 2. Recolección y Exploración de Datos"
   ]
  },
  {
   "cell_type": "markdown",
   "metadata": {},
   "source": [
    "### Librerías y Formato"
   ]
  },
  {
   "cell_type": "code",
   "execution_count": 2,
   "metadata": {},
   "outputs": [],
   "source": [
    "#Tratamiento de Datos\n",
    "import pandas as pd\n",
    "import numpy as np\n",
    "\n",
    "#Gráficos\n",
    "import seaborn as sns\n",
    "import matplotlib.pyplot as plt\n",
    "from scipy import stats\n",
    "\n",
    "#Machine Learning\n",
    "from sklearn.model_selection import train_test_split\n",
    "from sklearn.preprocessing import StandardScaler, OneHotEncoder\n",
    "from sklearn.compose import ColumnTransformer\n",
    "from sklearn.pipeline import Pipeline\n",
    "from sklearn.impute import SimpleImputer\n",
    "from sklearn.feature_selection import SelectKBest, f_regression, RFE\n",
    "from sklearn.decomposition import PCA\n",
    "from sklearn.cluster import KMeans\n",
    "from sklearn.linear_model import LinearRegression, Ridge, Lasso\n",
    "from sklearn.ensemble import RandomForestRegressor, GradientBoostingRegressor\n",
    "from sklearn.svm import SVR\n",
    "from sklearn.metrics import mean_squared_error, r2_score, mean_absolute_error\n",
    "import shap\n",
    "import lime\n",
    "from lime import lime_tabular\n",
    "from skopt import BayesSearchCV\n",
    "from skopt.space import Real, Integer, Categorical\n",
    "\n",
    "import warnings\n",
    "warnings.filterwarnings(\"ignore\")"
   ]
  },
  {
   "cell_type": "code",
   "execution_count": 3,
   "metadata": {},
   "outputs": [],
   "source": [
    "plt.style.use('seaborn-v0_8-whitegrid')\n",
    "plt.rcParams['figure.figsize']=(12,8)\n",
    "plt.rcParams['font.size']=12\n",
    "sns.set_palette(\"ocean_r\")"
   ]
  },
  {
   "cell_type": "markdown",
   "metadata": {},
   "source": [
    "### Carga de Datos"
   ]
  },
  {
   "cell_type": "code",
   "execution_count": 4,
   "metadata": {},
   "outputs": [],
   "source": [
    "sleep=pd.read_csv('../data/raw/Sleep.csv')"
   ]
  },
  {
   "cell_type": "markdown",
   "metadata": {},
   "source": [
    "1. Obtener el dataset completo\n",
    "2. Realizar análisis exploratorio inicial:\n",
    "   - Dimensiones del dataset\n",
    "   - Tipos de datos\n",
    "   - Estadísticas descriptivas básicas\n",
    "   - Distribución de variables\n",
    "   - Correlaciones\n",
    "3. Verificar la calidad de los datos:\n",
    "   - Identificar valores faltantes\n",
    "   - Detectar inconsistencias\n",
    "   - Verificar el balance de clases (para clasificación)\n",
    "   - Identificar posibles errores en los datos"
   ]
  },
  {
   "cell_type": "code",
   "execution_count": 5,
   "metadata": {},
   "outputs": [],
   "source": [
    "df=sleep.copy()"
   ]
  },
  {
   "cell_type": "code",
   "execution_count": 9,
   "metadata": {},
   "outputs": [
    {
     "data": {
      "text/html": [
       "<div>\n",
       "<style scoped>\n",
       "    .dataframe tbody tr th:only-of-type {\n",
       "        vertical-align: middle;\n",
       "    }\n",
       "\n",
       "    .dataframe tbody tr th {\n",
       "        vertical-align: top;\n",
       "    }\n",
       "\n",
       "    .dataframe thead th {\n",
       "        text-align: right;\n",
       "    }\n",
       "</style>\n",
       "<table border=\"1\" class=\"dataframe\">\n",
       "  <thead>\n",
       "    <tr style=\"text-align: right;\">\n",
       "      <th></th>\n",
       "      <th>Gender</th>\n",
       "      <th>Age</th>\n",
       "      <th>Sleep duration</th>\n",
       "      <th>Sleep quality</th>\n",
       "      <th>Stress level</th>\n",
       "      <th>Blood pressure</th>\n",
       "      <th>Heart rate</th>\n",
       "      <th>Daily steps</th>\n",
       "      <th>Physical activity</th>\n",
       "      <th>Height</th>\n",
       "      <th>Weight</th>\n",
       "      <th>Sleep disorder</th>\n",
       "      <th>Wake up during night</th>\n",
       "      <th>Feel sleepy during day</th>\n",
       "      <th>Caffeine consumption</th>\n",
       "      <th>Alcohol consumption</th>\n",
       "      <th>Smoking</th>\n",
       "      <th>Medical issue</th>\n",
       "      <th>Ongoing medication</th>\n",
       "      <th>Smart device before bed</th>\n",
       "      <th>Average screen time</th>\n",
       "      <th>Blue-light filter</th>\n",
       "      <th>Discomfort Eye-strain</th>\n",
       "      <th>Redness in eye</th>\n",
       "      <th>Itchiness/Irritation in eye</th>\n",
       "      <th>Dry Eye Disease</th>\n",
       "    </tr>\n",
       "  </thead>\n",
       "  <tbody>\n",
       "    <tr>\n",
       "      <th>0</th>\n",
       "      <td>F</td>\n",
       "      <td>24</td>\n",
       "      <td>9.5</td>\n",
       "      <td>2</td>\n",
       "      <td>1</td>\n",
       "      <td>137/89</td>\n",
       "      <td>67</td>\n",
       "      <td>3000</td>\n",
       "      <td>31</td>\n",
       "      <td>161</td>\n",
       "      <td>69</td>\n",
       "      <td>Y</td>\n",
       "      <td>N</td>\n",
       "      <td>N</td>\n",
       "      <td>N</td>\n",
       "      <td>N</td>\n",
       "      <td>N</td>\n",
       "      <td>Y</td>\n",
       "      <td>Y</td>\n",
       "      <td>N</td>\n",
       "      <td>8.7</td>\n",
       "      <td>N</td>\n",
       "      <td>Y</td>\n",
       "      <td>Y</td>\n",
       "      <td>N</td>\n",
       "      <td>Y</td>\n",
       "    </tr>\n",
       "    <tr>\n",
       "      <th>1</th>\n",
       "      <td>M</td>\n",
       "      <td>39</td>\n",
       "      <td>9.6</td>\n",
       "      <td>2</td>\n",
       "      <td>3</td>\n",
       "      <td>108/64</td>\n",
       "      <td>60</td>\n",
       "      <td>12000</td>\n",
       "      <td>74</td>\n",
       "      <td>164</td>\n",
       "      <td>87</td>\n",
       "      <td>N</td>\n",
       "      <td>N</td>\n",
       "      <td>N</td>\n",
       "      <td>N</td>\n",
       "      <td>Y</td>\n",
       "      <td>N</td>\n",
       "      <td>Y</td>\n",
       "      <td>Y</td>\n",
       "      <td>N</td>\n",
       "      <td>9.6</td>\n",
       "      <td>Y</td>\n",
       "      <td>N</td>\n",
       "      <td>N</td>\n",
       "      <td>Y</td>\n",
       "      <td>Y</td>\n",
       "    </tr>\n",
       "    <tr>\n",
       "      <th>2</th>\n",
       "      <td>F</td>\n",
       "      <td>45</td>\n",
       "      <td>5.4</td>\n",
       "      <td>1</td>\n",
       "      <td>5</td>\n",
       "      <td>134/81</td>\n",
       "      <td>95</td>\n",
       "      <td>12000</td>\n",
       "      <td>93</td>\n",
       "      <td>179</td>\n",
       "      <td>94</td>\n",
       "      <td>Y</td>\n",
       "      <td>Y</td>\n",
       "      <td>N</td>\n",
       "      <td>Y</td>\n",
       "      <td>Y</td>\n",
       "      <td>N</td>\n",
       "      <td>N</td>\n",
       "      <td>N</td>\n",
       "      <td>Y</td>\n",
       "      <td>4.0</td>\n",
       "      <td>N</td>\n",
       "      <td>Y</td>\n",
       "      <td>N</td>\n",
       "      <td>N</td>\n",
       "      <td>N</td>\n",
       "    </tr>\n",
       "    <tr>\n",
       "      <th>3</th>\n",
       "      <td>F</td>\n",
       "      <td>45</td>\n",
       "      <td>5.4</td>\n",
       "      <td>4</td>\n",
       "      <td>5</td>\n",
       "      <td>110/90</td>\n",
       "      <td>78</td>\n",
       "      <td>19000</td>\n",
       "      <td>32</td>\n",
       "      <td>160</td>\n",
       "      <td>77</td>\n",
       "      <td>N</td>\n",
       "      <td>N</td>\n",
       "      <td>N</td>\n",
       "      <td>Y</td>\n",
       "      <td>N</td>\n",
       "      <td>N</td>\n",
       "      <td>Y</td>\n",
       "      <td>N</td>\n",
       "      <td>N</td>\n",
       "      <td>7.6</td>\n",
       "      <td>N</td>\n",
       "      <td>Y</td>\n",
       "      <td>N</td>\n",
       "      <td>Y</td>\n",
       "      <td>N</td>\n",
       "    </tr>\n",
       "    <tr>\n",
       "      <th>4</th>\n",
       "      <td>F</td>\n",
       "      <td>42</td>\n",
       "      <td>5.7</td>\n",
       "      <td>3</td>\n",
       "      <td>2</td>\n",
       "      <td>99/67</td>\n",
       "      <td>72</td>\n",
       "      <td>4000</td>\n",
       "      <td>173</td>\n",
       "      <td>179</td>\n",
       "      <td>99</td>\n",
       "      <td>N</td>\n",
       "      <td>Y</td>\n",
       "      <td>N</td>\n",
       "      <td>N</td>\n",
       "      <td>N</td>\n",
       "      <td>N</td>\n",
       "      <td>Y</td>\n",
       "      <td>N</td>\n",
       "      <td>N</td>\n",
       "      <td>3.5</td>\n",
       "      <td>N</td>\n",
       "      <td>Y</td>\n",
       "      <td>Y</td>\n",
       "      <td>N</td>\n",
       "      <td>Y</td>\n",
       "    </tr>\n",
       "  </tbody>\n",
       "</table>\n",
       "</div>"
      ],
      "text/plain": [
       "  Gender  Age  Sleep duration  Sleep quality  Stress level Blood pressure  \\\n",
       "0      F   24             9.5              2             1         137/89   \n",
       "1      M   39             9.6              2             3         108/64   \n",
       "2      F   45             5.4              1             5         134/81   \n",
       "3      F   45             5.4              4             5         110/90   \n",
       "4      F   42             5.7              3             2          99/67   \n",
       "\n",
       "   Heart rate  Daily steps  Physical activity  Height  Weight Sleep disorder  \\\n",
       "0          67         3000                 31     161      69              Y   \n",
       "1          60        12000                 74     164      87              N   \n",
       "2          95        12000                 93     179      94              Y   \n",
       "3          78        19000                 32     160      77              N   \n",
       "4          72         4000                173     179      99              N   \n",
       "\n",
       "  Wake up during night Feel sleepy during day Caffeine consumption  \\\n",
       "0                    N                      N                    N   \n",
       "1                    N                      N                    N   \n",
       "2                    Y                      N                    Y   \n",
       "3                    N                      N                    Y   \n",
       "4                    Y                      N                    N   \n",
       "\n",
       "  Alcohol consumption Smoking Medical issue Ongoing medication  \\\n",
       "0                   N       N             Y                  Y   \n",
       "1                   Y       N             Y                  Y   \n",
       "2                   Y       N             N                  N   \n",
       "3                   N       N             Y                  N   \n",
       "4                   N       N             Y                  N   \n",
       "\n",
       "  Smart device before bed  Average screen time Blue-light filter  \\\n",
       "0                       N                  8.7                 N   \n",
       "1                       N                  9.6                 Y   \n",
       "2                       Y                  4.0                 N   \n",
       "3                       N                  7.6                 N   \n",
       "4                       N                  3.5                 N   \n",
       "\n",
       "  Discomfort Eye-strain Redness in eye Itchiness/Irritation in eye  \\\n",
       "0                     Y              Y                           N   \n",
       "1                     N              N                           Y   \n",
       "2                     Y              N                           N   \n",
       "3                     Y              N                           Y   \n",
       "4                     Y              Y                           N   \n",
       "\n",
       "  Dry Eye Disease  \n",
       "0               Y  \n",
       "1               Y  \n",
       "2               N  \n",
       "3               N  \n",
       "4               Y  "
      ]
     },
     "execution_count": 9,
     "metadata": {},
     "output_type": "execute_result"
    }
   ],
   "source": [
    "pd.set_option(\"display.max_columns\", None)\n",
    "df.head()"
   ]
  },
  {
   "cell_type": "markdown",
   "metadata": {},
   "source": [
    "### Primera Observación"
   ]
  },
  {
   "cell_type": "code",
   "execution_count": 10,
   "metadata": {},
   "outputs": [
    {
     "data": {
      "text/plain": [
       "(20000, 26)"
      ]
     },
     "execution_count": 10,
     "metadata": {},
     "output_type": "execute_result"
    }
   ],
   "source": [
    "df.shape"
   ]
  },
  {
   "cell_type": "code",
   "execution_count": 11,
   "metadata": {},
   "outputs": [
    {
     "name": "stdout",
     "output_type": "stream",
     "text": [
      "<class 'pandas.core.frame.DataFrame'>\n",
      "RangeIndex: 20000 entries, 0 to 19999\n",
      "Data columns (total 26 columns):\n",
      " #   Column                       Non-Null Count  Dtype  \n",
      "---  ------                       --------------  -----  \n",
      " 0   Gender                       20000 non-null  object \n",
      " 1   Age                          20000 non-null  int64  \n",
      " 2   Sleep duration               20000 non-null  float64\n",
      " 3   Sleep quality                20000 non-null  int64  \n",
      " 4   Stress level                 20000 non-null  int64  \n",
      " 5   Blood pressure               20000 non-null  object \n",
      " 6   Heart rate                   20000 non-null  int64  \n",
      " 7   Daily steps                  20000 non-null  int64  \n",
      " 8   Physical activity            20000 non-null  int64  \n",
      " 9   Height                       20000 non-null  int64  \n",
      " 10  Weight                       20000 non-null  int64  \n",
      " 11  Sleep disorder               20000 non-null  object \n",
      " 12  Wake up during night         20000 non-null  object \n",
      " 13  Feel sleepy during day       20000 non-null  object \n",
      " 14  Caffeine consumption         20000 non-null  object \n",
      " 15  Alcohol consumption          20000 non-null  object \n",
      " 16  Smoking                      20000 non-null  object \n",
      " 17  Medical issue                20000 non-null  object \n",
      " 18  Ongoing medication           20000 non-null  object \n",
      " 19  Smart device before bed      20000 non-null  object \n",
      " 20  Average screen time          20000 non-null  float64\n",
      " 21  Blue-light filter            20000 non-null  object \n",
      " 22  Discomfort Eye-strain        20000 non-null  object \n",
      " 23  Redness in eye               20000 non-null  object \n",
      " 24  Itchiness/Irritation in eye  20000 non-null  object \n",
      " 25  Dry Eye Disease              20000 non-null  object \n",
      "dtypes: float64(2), int64(8), object(16)\n",
      "memory usage: 4.0+ MB\n",
      "Filas: 20000\n",
      "Columnas: 26\n"
     ]
    }
   ],
   "source": [
    "df.info()\n",
    "print(\"Filas:\", df.shape[0])\n",
    "print(\"Columnas:\", df.shape[1])"
   ]
  },
  {
   "cell_type": "code",
   "execution_count": 12,
   "metadata": {},
   "outputs": [
    {
     "data": {
      "text/plain": [
       "np.int64(0)"
      ]
     },
     "execution_count": 12,
     "metadata": {},
     "output_type": "execute_result"
    }
   ],
   "source": [
    "df.duplicated().sum()"
   ]
  },
  {
   "cell_type": "code",
   "execution_count": 13,
   "metadata": {},
   "outputs": [
    {
     "data": {
      "text/plain": [
       "Gender                         0\n",
       "Age                            0\n",
       "Sleep duration                 0\n",
       "Sleep quality                  0\n",
       "Stress level                   0\n",
       "Blood pressure                 0\n",
       "Heart rate                     0\n",
       "Daily steps                    0\n",
       "Physical activity              0\n",
       "Height                         0\n",
       "Weight                         0\n",
       "Sleep disorder                 0\n",
       "Wake up during night           0\n",
       "Feel sleepy during day         0\n",
       "Caffeine consumption           0\n",
       "Alcohol consumption            0\n",
       "Smoking                        0\n",
       "Medical issue                  0\n",
       "Ongoing medication             0\n",
       "Smart device before bed        0\n",
       "Average screen time            0\n",
       "Blue-light filter              0\n",
       "Discomfort Eye-strain          0\n",
       "Redness in eye                 0\n",
       "Itchiness/Irritation in eye    0\n",
       "Dry Eye Disease                0\n",
       "dtype: int64"
      ]
     },
     "execution_count": 13,
     "metadata": {},
     "output_type": "execute_result"
    }
   ],
   "source": [
    "df.isnull().sum()"
   ]
  },
  {
   "cell_type": "markdown",
   "metadata": {},
   "source": [
    "### Valores únicos"
   ]
  },
  {
   "cell_type": "code",
   "execution_count": 22,
   "metadata": {},
   "outputs": [
    {
     "data": {
      "text/html": [
       "<div>\n",
       "<style scoped>\n",
       "    .dataframe tbody tr th:only-of-type {\n",
       "        vertical-align: middle;\n",
       "    }\n",
       "\n",
       "    .dataframe tbody tr th {\n",
       "        vertical-align: top;\n",
       "    }\n",
       "\n",
       "    .dataframe thead th {\n",
       "        text-align: right;\n",
       "    }\n",
       "</style>\n",
       "<table border=\"1\" class=\"dataframe\">\n",
       "  <thead>\n",
       "    <tr style=\"text-align: right;\">\n",
       "      <th></th>\n",
       "      <th>Category</th>\n",
       "      <th>Counts</th>\n",
       "    </tr>\n",
       "  </thead>\n",
       "  <tbody>\n",
       "    <tr>\n",
       "      <th>0</th>\n",
       "      <td>Gender</td>\n",
       "      <td>{'M': 10028, 'F': 9972}</td>\n",
       "    </tr>\n",
       "    <tr>\n",
       "      <th>1</th>\n",
       "      <td>Sleep disorder</td>\n",
       "      <td>{'N': 10069, 'Y': 9931}</td>\n",
       "    </tr>\n",
       "    <tr>\n",
       "      <th>2</th>\n",
       "      <td>Wake up during night</td>\n",
       "      <td>{'N': 10000, 'Y': 10000}</td>\n",
       "    </tr>\n",
       "    <tr>\n",
       "      <th>3</th>\n",
       "      <td>Feel sleepy during day</td>\n",
       "      <td>{'N': 10178, 'Y': 9822}</td>\n",
       "    </tr>\n",
       "    <tr>\n",
       "      <th>4</th>\n",
       "      <td>Caffeine consumption</td>\n",
       "      <td>{'Y': 10089, 'N': 9911}</td>\n",
       "    </tr>\n",
       "    <tr>\n",
       "      <th>5</th>\n",
       "      <td>Alcohol consumption</td>\n",
       "      <td>{'Y': 10009, 'N': 9991}</td>\n",
       "    </tr>\n",
       "    <tr>\n",
       "      <th>6</th>\n",
       "      <td>Smoking</td>\n",
       "      <td>{'N': 10017, 'Y': 9983}</td>\n",
       "    </tr>\n",
       "    <tr>\n",
       "      <th>7</th>\n",
       "      <td>Medical issue</td>\n",
       "      <td>{'N': 10111, 'Y': 9889}</td>\n",
       "    </tr>\n",
       "    <tr>\n",
       "      <th>8</th>\n",
       "      <td>Ongoing medication</td>\n",
       "      <td>{'Y': 10082, 'N': 9918}</td>\n",
       "    </tr>\n",
       "    <tr>\n",
       "      <th>9</th>\n",
       "      <td>Smart device before bed</td>\n",
       "      <td>{'Y': 10003, 'N': 9997}</td>\n",
       "    </tr>\n",
       "    <tr>\n",
       "      <th>10</th>\n",
       "      <td>Blue-light filter</td>\n",
       "      <td>{'N': 10016, 'Y': 9984}</td>\n",
       "    </tr>\n",
       "  </tbody>\n",
       "</table>\n",
       "</div>"
      ],
      "text/plain": [
       "                   Category                    Counts\n",
       "0                    Gender   {'M': 10028, 'F': 9972}\n",
       "1            Sleep disorder   {'N': 10069, 'Y': 9931}\n",
       "2      Wake up during night  {'N': 10000, 'Y': 10000}\n",
       "3    Feel sleepy during day   {'N': 10178, 'Y': 9822}\n",
       "4      Caffeine consumption   {'Y': 10089, 'N': 9911}\n",
       "5       Alcohol consumption   {'Y': 10009, 'N': 9991}\n",
       "6                   Smoking   {'N': 10017, 'Y': 9983}\n",
       "7             Medical issue   {'N': 10111, 'Y': 9889}\n",
       "8        Ongoing medication   {'Y': 10082, 'N': 9918}\n",
       "9   Smart device before bed   {'Y': 10003, 'N': 9997}\n",
       "10        Blue-light filter   {'N': 10016, 'Y': 9984}"
      ]
     },
     "execution_count": 22,
     "metadata": {},
     "output_type": "execute_result"
    }
   ],
   "source": [
    "summary_data = {\n",
    "    \"Category\": [\n",
    "        \"Gender\", \"Sleep disorder\", \"Wake up during night\", \"Feel sleepy during day\",\n",
    "        \"Caffeine consumption\", \"Alcohol consumption\", \"Smoking\",\n",
    "        \"Medical issue\", \"Ongoing medication\", \"Smart device before bed\", \"Blue-light filter\"\n",
    "    ],\n",
    "\"Counts\": [\n",
    "        df['Gender'].value_counts().to_dict(),\n",
    "        df['Sleep disorder'].value_counts().to_dict(),\n",
    "        df['Wake up during night'].value_counts().to_dict(),\n",
    "        df['Feel sleepy during day'].value_counts().to_dict(),\n",
    "        df['Caffeine consumption'].value_counts().to_dict(),\n",
    "        df['Alcohol consumption'].value_counts().to_dict(),\n",
    "        df['Smoking'].value_counts().to_dict(),\n",
    "        df['Medical issue'].value_counts().to_dict(),\n",
    "        df['Ongoing medication'].value_counts().to_dict(),\n",
    "        df['Smart device before bed'].value_counts().to_dict(),\n",
    "        df['Blue-light filter'].value_counts().to_dict()\n",
    "    ]\n",
    "}\n",
    "summary_df = pd.DataFrame(summary_data)\n",
    "summary_df"
   ]
  },
  {
   "cell_type": "markdown",
   "metadata": {},
   "source": [
    "### Estadísticas descriptivas básicas"
   ]
  },
  {
   "cell_type": "code",
   "execution_count": 25,
   "metadata": {},
   "outputs": [
    {
     "name": "stdout",
     "output_type": "stream",
     "text": [
      "       Gender Blood pressure Sleep disorder Wake up during night  \\\n",
      "count   20000          20000          20000                20000   \n",
      "unique      2           1581              2                    2   \n",
      "top         M         109/73              N                    N   \n",
      "freq    10028             27          10069                10000   \n",
      "\n",
      "       Feel sleepy during day Caffeine consumption Alcohol consumption  \\\n",
      "count                   20000                20000               20000   \n",
      "unique                      2                    2                   2   \n",
      "top                         N                    Y                   Y   \n",
      "freq                    10178                10089               10009   \n",
      "\n",
      "       Smoking Medical issue Ongoing medication Smart device before bed  \\\n",
      "count    20000         20000              20000                   20000   \n",
      "unique       2             2                  2                       2   \n",
      "top          N             N                  Y                       Y   \n",
      "freq     10017         10111              10082                   10003   \n",
      "\n",
      "       Blue-light filter Discomfort Eye-strain Redness in eye  \\\n",
      "count              20000                 20000          20000   \n",
      "unique                 2                     2              2   \n",
      "top                    N                     Y              N   \n",
      "freq               10016                 10037          10129   \n",
      "\n",
      "       Itchiness/Irritation in eye Dry Eye Disease  \n",
      "count                        20000           20000  \n",
      "unique                           2               2  \n",
      "top                              N               Y  \n",
      "freq                         10063           13037  \n"
     ]
    }
   ],
   "source": [
    "print(df.describe(include='object'))"
   ]
  },
  {
   "cell_type": "code",
   "execution_count": 26,
   "metadata": {},
   "outputs": [
    {
     "name": "stdout",
     "output_type": "stream",
     "text": [
      "                Age  Sleep duration  Sleep quality  Stress level  \\\n",
      "count  20000.000000    20000.000000   20000.000000  20000.000000   \n",
      "mean      31.422800        6.998245       2.997250      2.993750   \n",
      "std        8.103717        1.731723       1.412283      1.407235   \n",
      "min       18.000000        4.000000       1.000000      1.000000   \n",
      "25%       24.000000        5.500000       2.000000      2.000000   \n",
      "50%       31.000000        7.000000       3.000000      3.000000   \n",
      "75%       39.000000        8.500000       4.000000      4.000000   \n",
      "max       45.000000       10.000000       5.000000      5.000000   \n",
      "\n",
      "         Heart rate   Daily steps  Physical activity        Height  \\\n",
      "count  20000.000000  20000.000000       20000.000000  20000.000000   \n",
      "mean      79.912200  10536.900000          90.069750    174.865900   \n",
      "std       11.808279   5752.729186          52.317283     14.719903   \n",
      "min       60.000000   1000.000000           0.000000    150.000000   \n",
      "25%       70.000000   6000.000000          45.000000    162.000000   \n",
      "50%       80.000000  11000.000000          91.000000    175.000000   \n",
      "75%       90.000000  16000.000000         135.000000    188.000000   \n",
      "max      100.000000  20000.000000         180.000000    200.000000   \n",
      "\n",
      "             Weight  Average screen time  \n",
      "count  20000.000000         20000.000000  \n",
      "mean      74.891850             5.519885  \n",
      "std       14.733839             2.606305  \n",
      "min       50.000000             1.000000  \n",
      "25%       62.000000             3.300000  \n",
      "50%       75.000000             5.500000  \n",
      "75%       88.000000             7.800000  \n",
      "max      100.000000            10.000000  \n"
     ]
    }
   ],
   "source": [
    "print(df.describe())"
   ]
  },
  {
   "cell_type": "code",
   "execution_count": 42,
   "metadata": {},
   "outputs": [
    {
     "data": {
      "image/png": "[encoded data removed]",
      "text/plain": [
       "<Figure size 1200x800 with 12 Axes>"
      ]
     },
     "metadata": {},
     "output_type": "display_data"
    }
   ],
   "source": [
    "df.hist(figsize=(12, 8), bins=20)\n",
    "plt.tight_layout()\n",
    "plt.show()"
   ]
  },
  {
   "cell_type": "code",
   "execution_count": null,
   "metadata": {},
   "outputs": [],
   "source": [
    "plt.figure(figsize=(6, 4))\n",
    "\n",
    "sns.countplot(x=df[\"Gender\"], palette=\"coolwarm_r\")\n",
    "plt.title(\"Distribution of Gender\")\n",
    "plt.xlabel(\"Gender\")\n",
    "plt.ylabel(\"Count\")\n",
    "plt.show()"
   ]
  },
  {
   "cell_type": "code",
   "execution_count": null,
   "metadata": {},
   "outputs": [],
   "source": [
    "sns.countplot(x='Sleep disorder', data=df)\n",
    "plt.title('Class Distribution of Sleep Disorder')\n",
    "plt.show()"
   ]
  },
  {
   "cell_type": "code",
   "execution_count": null,
   "metadata": {},
   "outputs": [],
   "source": [
    "sns.countplot(x='Wake up during night', data=df)\n",
    "plt.title('Class Distribution of Wake up during night')\n",
    "plt.show()"
   ]
  },
  {
   "cell_type": "code",
   "execution_count": null,
   "metadata": {},
   "outputs": [],
   "source": [
    "sns.countplot(x='Feel sleepy during day', data=df)\n",
    "plt.title('Class Distribution of Feel sleepy during day')\n",
    "plt.show()\n"
   ]
  },
  {
   "cell_type": "code",
   "execution_count": null,
   "metadata": {},
   "outputs": [],
   "source": [
    "sns.countplot(x='Caffeine consumption', data=df)\n",
    "plt.title('Class Distribution of Caffeine consumption')\n",
    "plt.show()"
   ]
  },
  {
   "cell_type": "code",
   "execution_count": null,
   "metadata": {},
   "outputs": [],
   "source": [
    "sns.countplot(x='Alcohol consumption', data=df)\n",
    "plt.title('Class Distribution of Alcohol consumption')\n",
    "plt.show()"
   ]
  },
  {
   "cell_type": "code",
   "execution_count": null,
   "metadata": {},
   "outputs": [],
   "source": [
    "sns.countplot(x='Smoking', data=df)\n",
    "plt.title('Class Distribution of Smoking')\n",
    "plt.show()"
   ]
  },
  {
   "cell_type": "code",
   "execution_count": null,
   "metadata": {},
   "outputs": [],
   "source": [
    "sns.countplot(x='Medical issue', data=df)\n",
    "plt.title('Class Distribution of Medical issue')\n",
    "plt.show()"
   ]
  },
  {
   "cell_type": "code",
   "execution_count": null,
   "metadata": {},
   "outputs": [],
   "source": [
    "sns.countplot(x='Ongoing medication', data=df)\n",
    "plt.title('Class Distribution of Ongoing medication')\n",
    "plt.show()"
   ]
  },
  {
   "cell_type": "code",
   "execution_count": null,
   "metadata": {},
   "outputs": [],
   "source": [
    "sns.countplot(x='Smart device before bed', data=df)\n",
    "plt.title('Class Distribution of Smart device before bed')\n",
    "plt.show()"
   ]
  },
  {
   "cell_type": "code",
   "execution_count": null,
   "metadata": {},
   "outputs": [],
   "source": [
    "sns.countplot(x='Blue-light filter', data=df)\n",
    "plt.title('Class Distribution of Blue-light filter')\n",
    "plt.show()"
   ]
  },
  {
   "cell_type": "markdown",
   "metadata": {},
   "source": [
    "Se observa que hay más de 20000 filas de información y 26 columnas. Lo que es un volumen adecuado para realizar un estudio de machine learning.\n",
    "\n",
    "La población se comprende de individuos entre 18 y 45 años, tanto hombres como mujeres que tienen características diferentes afectando su calidad de sueño.\n",
    "\n",
    "En la sección cualitativa hay una cantidad equilibrada de datos, tanto masculinos y femeninos así como afirmativa y negativa.\n"
   ]
  },
  {
   "cell_type": "markdown",
   "metadata": {},
   "source": [
    "## 3. Preprocesamiento de Datos Inicial"
   ]
  },
  {
   "cell_type": "markdown",
   "metadata": {},
   "source": [
    "Se ha observado en la primera exploración de datos que no hay valores faltantes ni valores duplicados, sin embargo sí hay datos que son poco probables que afecten a la calidad del sueño como Discomfort Eye-strain (molestias fatiga visual), Redness in eye (ojos rojos), Itchiness/Irritation in eye (picor/irritación ocular), Dry Eye Disease (enfermedad del ojo seco)"
   ]
  },
  {
   "cell_type": "markdown",
   "metadata": {},
   "source": [
    "## 4. Feature Engineering"
   ]
  },
  {
   "cell_type": "markdown",
   "metadata": {},
   "source": [
    "1. Selección inicial de características:\n",
    "   - Análisis de correlaciones\n",
    "   - Importancia de variables\n",
    "2. Creación de nuevas características:\n",
    "   - Combinaciones de variables existentes\n",
    "   - Transformaciones matemáticas\n",
    "3. Aplicación de técnicas no supervisadas (si es necesario):\n",
    "   - PCA para reducción de dimensionalidad\n",
    "   - Clustering para nuevas features"
   ]
  },
  {
   "cell_type": "markdown",
   "metadata": {},
   "source": [
    "### Eliminación de Features No Deseadas"
   ]
  },
  {
   "cell_type": "code",
   "execution_count": null,
   "metadata": {},
   "outputs": [],
   "source": [
    "df.drop(columns=['Discomfort Eye-strain', 'Redness in eye', 'Itchiness/Irritation in eye', 'Dry Eye Disease'], inplace=True)"
   ]
  },
  {
   "cell_type": "markdown",
   "metadata": {},
   "source": [
    "### Gender"
   ]
  },
  {
   "cell_type": "code",
   "execution_count": null,
   "metadata": {},
   "outputs": [],
   "source": [
    "df=pd.get_dummies(df, columns=['Gender'])\n",
    "df.rename(columns={'Gender_F': 'Femenine'}, inplace=True)\n",
    "df.rename(columns={'Gender_M': 'Masculine'}, inplace=True)\n",
    "df['Femenine'] = df['Femenine'].replace({True: 1, False: 0})\n",
    "df['Masculine'] = df['Masculine'].replace({True: 1, False: 0})"
   ]
  },
  {
   "cell_type": "code",
   "execution_count": null,
   "metadata": {},
   "outputs": [],
   "source": [
    "col_F = df.pop('Femenine')\n",
    "df.insert(1, 'Femenine', col_F)\n",
    "col_M = df.pop('Masculine')\n",
    "df.insert(2, 'Masculine', col_M)\n",
    "df.head()"
   ]
  },
  {
   "cell_type": "code",
   "execution_count": null,
   "metadata": {},
   "outputs": [],
   "source": [
    "fig, axes = plt.subplots(1,2, figsize=(12,6))\n",
    "sns.countplot(x='Femenine', data=df, ax=axes[0])\n",
    "axes[0].set_title('Distribución Femenine')\n",
    "sns.countplot(x='Masculine', data=df, ax=axes[1])\n",
    "axes[1].set_title('Distribución Masculine')\n",
    "plt.tight_layout()\n",
    "plt.show()"
   ]
  },
  {
   "cell_type": "markdown",
   "metadata": {},
   "source": [
    "### Age"
   ]
  },
  {
   "cell_type": "code",
   "execution_count": null,
   "metadata": {},
   "outputs": [],
   "source": [
    "sns.distplot(df['Age'], kde=False)"
   ]
  },
  {
   "cell_type": "markdown",
   "metadata": {},
   "source": [
    "### Sleep"
   ]
  },
  {
   "cell_type": "markdown",
   "metadata": {},
   "source": [
    "#### Duration"
   ]
  },
  {
   "cell_type": "markdown",
   "metadata": {},
   "source": [
    "American Academy of Sleep Medicine clasifica la duración del sueño en 4 grupos: privación del sueño (<=5h), sueño corto (5-7h), recomendado (7-9h) y largo (>9h)"
   ]
  },
  {
   "cell_type": "code",
   "execution_count": null,
   "metadata": {},
   "outputs": [],
   "source": [
    "sns.boxplot(df['Sleep duration'])"
   ]
  },
  {
   "cell_type": "code",
   "execution_count": null,
   "metadata": {},
   "outputs": [],
   "source": [
    "sns.distplot(df['Sleep duration'], kde=True)"
   ]
  },
  {
   "cell_type": "code",
   "execution_count": null,
   "metadata": {},
   "outputs": [],
   "source": [
    "def Sleep_Duration (h):\n",
    "    if h >= 9:\n",
    "        return \"Long Sleep\"\n",
    "    elif h >= 7:\n",
    "        return \"Recommended Sleep\"\n",
    "    elif h >= 5:\n",
    "        return \"Short Sleep\"\n",
    "    else:\n",
    "        return \"Sleep Deprivation\"\n",
    "\n",
    "df[\"Sleep duration\"] = df.apply(lambda row: Sleep_Duration(row[\"Sleep duration\"]), axis=1)"
   ]
  },
  {
   "cell_type": "code",
   "execution_count": null,
   "metadata": {},
   "outputs": [],
   "source": [
    "df.head()"
   ]
  },
  {
   "cell_type": "code",
   "execution_count": null,
   "metadata": {},
   "outputs": [],
   "source": [
    "pd.crosstab(df['Sleep duration'], df['Sleep quality'])"
   ]
  },
  {
   "cell_type": "code",
   "execution_count": null,
   "metadata": {},
   "outputs": [],
   "source": [
    "pd.crosstab(df['Sleep duration'], df['Sleep quality'], normalize=True, margins=True).mul(100).round(2)"
   ]
  },
  {
   "cell_type": "markdown",
   "metadata": {},
   "source": [
    "#### Quality"
   ]
  },
  {
   "cell_type": "code",
   "execution_count": null,
   "metadata": {},
   "outputs": [],
   "source": [
    "sns.distplot(df['Sleep quality'], kde=False)"
   ]
  },
  {
   "cell_type": "markdown",
   "metadata": {},
   "source": [
    "### Stress level"
   ]
  },
  {
   "cell_type": "code",
   "execution_count": null,
   "metadata": {},
   "outputs": [],
   "source": [
    "sns.distplot(df['Stress level'], kde=False)"
   ]
  },
  {
   "cell_type": "code",
   "execution_count": null,
   "metadata": {},
   "outputs": [],
   "source": [
    "pd.crosstab(df['Stress level'], df['Sleep quality'], normalize=True, margins=True).mul(100).round(2)"
   ]
  },
  {
   "cell_type": "markdown",
   "metadata": {},
   "source": [
    "### Blood Pressure"
   ]
  },
  {
   "cell_type": "code",
   "execution_count": null,
   "metadata": {},
   "outputs": [],
   "source": [
    "# División de presión sanguínea entre sistólica y diastólica\n",
    "\n",
    "df[['systolic', 'diastolic']] = df['Blood pressure'].str.split('/', expand=True).astype(int)\n",
    "df"
   ]
  },
  {
   "cell_type": "code",
   "execution_count": null,
   "metadata": {},
   "outputs": [],
   "source": [
    "# Comprobación de valores máximos y mínimos presentes en el dataframe\n",
    "print(\"syst_max:\", df['systolic'].max())\n",
    "print(\"syst_min:\", df['systolic'].min())\n",
    "print(\"dias_max:\", df['diastolic'].max())\n",
    "print(\"dias_min:\", df['diastolic'].min())"
   ]
  },
  {
   "cell_type": "markdown",
   "metadata": {},
   "source": [
    "Los valores de presión sanguínea son los siguientes:\n",
    "- **Low:** <=90 and <=60\n",
    "- **Normal:** 120 and 80\n",
    "- **Elevated:** 120-129 and <80\n",
    "- **High/Hypertension:** 130-139 or 80-89\n",
    "- **High/Hypertension 2:** >=140 or >=90"
   ]
  },
  {
   "cell_type": "code",
   "execution_count": null,
   "metadata": {},
   "outputs": [],
   "source": [
    "def blood_pressure(systolic, diastolic):\n",
    "    if systolic >= 140 or diastolic >= 90:\n",
    "        return \"Hypertension 2\"\n",
    "    elif systolic >= 130 or diastolic >= 80:\n",
    "        return \"Hypertension 1\"\n",
    "    elif systolic >= 120 and diastolic < 80:\n",
    "        return \"Elevated\"\n",
    "    elif systolic > 90 and diastolic > 60:\n",
    "        return \"Normal\"\n",
    "    else:\n",
    "        return \"Low\"\n",
    "\n",
    "df[\"Blood Pressure\"] = df.apply(lambda row: blood_pressure(row[\"systolic\"], row[\"diastolic\"]), axis=1)"
   ]
  },
  {
   "cell_type": "code",
   "execution_count": null,
   "metadata": {},
   "outputs": [],
   "source": [
    "# Eliminamos las columnas que ya no son necesarias\n",
    "df= df.drop(['Blood pressure', 'systolic', 'diastolic'], axis=1)"
   ]
  },
  {
   "cell_type": "code",
   "execution_count": null,
   "metadata": {},
   "outputs": [],
   "source": [
    "df.rename(columns={'Blood Pressure': 'Blood pressure'}, inplace=True)\n",
    "pressure=df.pop('Blood pressure')\n",
    "df.insert(6, 'Blood pressure', pressure)\n",
    "df.head()"
   ]
  },
  {
   "cell_type": "code",
   "execution_count": null,
   "metadata": {},
   "outputs": [],
   "source": [
    "pd.crosstab(df['Blood pressure'], df['Sleep quality'], normalize=True, margins=True).mul(100).round(2)"
   ]
  },
  {
   "cell_type": "markdown",
   "metadata": {},
   "source": [
    "### Heart rate"
   ]
  },
  {
   "cell_type": "code",
   "execution_count": null,
   "metadata": {},
   "outputs": [],
   "source": []
  },
  {
   "cell_type": "markdown",
   "metadata": {},
   "source": [
    "### Exercise"
   ]
  },
  {
   "cell_type": "markdown",
   "metadata": {},
   "source": [
    "#### Daily steps"
   ]
  },
  {
   "cell_type": "markdown",
   "metadata": {},
   "source": [
    "#### Physical activity"
   ]
  },
  {
   "cell_type": "markdown",
   "metadata": {},
   "source": [
    "### BMI"
   ]
  },
  {
   "cell_type": "markdown",
   "metadata": {},
   "source": [
    "### Sleep"
   ]
  },
  {
   "cell_type": "markdown",
   "metadata": {},
   "source": [
    "#### Sleep disorder"
   ]
  },
  {
   "cell_type": "markdown",
   "metadata": {},
   "source": [
    "#### Wake up during night"
   ]
  },
  {
   "cell_type": "markdown",
   "metadata": {},
   "source": [
    "#### Feel sleepy during day"
   ]
  },
  {
   "cell_type": "markdown",
   "metadata": {},
   "source": [
    "### Substances"
   ]
  },
  {
   "cell_type": "markdown",
   "metadata": {},
   "source": [
    "#### Caffeine consumption"
   ]
  },
  {
   "cell_type": "markdown",
   "metadata": {},
   "source": [
    "#### Alcohol consumption"
   ]
  },
  {
   "cell_type": "markdown",
   "metadata": {},
   "source": [
    "#### Smoking"
   ]
  },
  {
   "cell_type": "markdown",
   "metadata": {},
   "source": [
    "### Medicine"
   ]
  },
  {
   "cell_type": "markdown",
   "metadata": {},
   "source": [
    "#### Medical issue"
   ]
  },
  {
   "cell_type": "markdown",
   "metadata": {},
   "source": [
    "#### Ongoing medication"
   ]
  },
  {
   "cell_type": "markdown",
   "metadata": {},
   "source": [
    "### Technology"
   ]
  },
  {
   "cell_type": "markdown",
   "metadata": {},
   "source": [
    "#### Smart-device before bed"
   ]
  },
  {
   "cell_type": "markdown",
   "metadata": {},
   "source": [
    "#### Average screen time"
   ]
  },
  {
   "cell_type": "markdown",
   "metadata": {},
   "source": [
    "#### Blue-light filter"
   ]
  },
  {
   "cell_type": "markdown",
   "metadata": {},
   "source": [
    "## 5. Preparación de Datos"
   ]
  },
  {
   "cell_type": "markdown",
   "metadata": {},
   "source": [
    "1. Split de datos:\n",
    "   - Train/Test/Validation\n",
    "   - Mantener estratificación si es necesario\n",
    "2. Procesamiento de variables (fit solo en train):\n",
    "   - Codificación de variables categóricas\n",
    "   - Normalización/Estandarización de variables numéricas\n",
    "3. Balanceo de clases (solo en train si es necesario):\n",
    "   - Oversampling\n",
    "   - Undersampling\n",
    "   - Técnicas híbridas"
   ]
  },
  {
   "cell_type": "markdown",
   "metadata": {},
   "source": [
    "### Divide en train, test y validation"
   ]
  },
  {
   "cell_type": "code",
   "execution_count": null,
   "metadata": {},
   "outputs": [],
   "source": [
    "X_train, X_test, y_train, y_test = train_test_split(df.drop('Sleep quality', axis=1),\n",
    "                                                    df['Sleep quality'],\n",
    "                                                    test_size=0.2,\n",
    "                                                    random_state=42)"
   ]
  },
  {
   "cell_type": "markdown",
   "metadata": {},
   "source": [
    "### Target"
   ]
  },
  {
   "cell_type": "code",
   "execution_count": null,
   "metadata": {},
   "outputs": [],
   "source": [
    "fig, axes = plt.subplots(1, 3, figsize= (15,5), sharey=True)\n",
    "\n",
    "sns.countplot(x=\"Sleep quality\", data=df, ax=axes[0])\n",
    "axes[0].set_title(\"Original target\")\n",
    "\n",
    "sns.countplot(y_rus, ax=axes[1])\n",
    "axes[1].set_title(\"Random Under Sampler\")\n",
    "\n",
    "sns.countplot(y_ros, ax=axes[2])\n",
    "axes[2].set_title(\"Random Over Sampler\")"
   ]
  },
  {
   "cell_type": "markdown",
   "metadata": {},
   "source": [
    "## 6. Selección de Modelos Base"
   ]
  },
  {
   "cell_type": "markdown",
   "metadata": {},
   "source": [
    "1. Implementar validación cruzada para varios modelos\n",
    "2. Evaluar modelos básicos según el tipo de problema\n",
    "3. Comparar resultados iniciales\n",
    "4. Seleccionar los 3-5 mejores modelos\n",
    "5. Documentar razones de selección"
   ]
  },
  {
   "cell_type": "markdown",
   "metadata": {},
   "source": [
    "## 7. Optimización de Modelos Seleccionados"
   ]
  },
  {
   "cell_type": "markdown",
   "metadata": {},
   "source": [
    "1. Realizar ajuste de hiperparámetros para cada modelo:\n",
    "   - Grid Search\n",
    "   - Random Search\n",
    "   - Bayesian Optimization\n",
    "2. Evaluar resultados de cada modelo optimizado\n",
    "3. Considerar ensamble de mejores modelos\n",
    "4. Seleccionar el modelo final"
   ]
  },
  {
   "cell_type": "markdown",
   "metadata": {},
   "source": [
    "## 8. Evaluación y Análisis"
   ]
  },
  {
   "cell_type": "markdown",
   "metadata": {},
   "source": [
    "1. Evaluar métricas finales en datos de test\n",
    "2. Realizar análisis detallado de errores\n",
    "3. Interpretar resultados:\n",
    "   - Importancia de características\n",
    "   - SHAP values\n",
    "   - Partial dependence plots\n",
    "4. Validar supuestos del modelo\n",
    "5. Analizar casos específicos de error\n",
    "6. Documentar hallazgos principales"
   ]
  },
  {
   "cell_type": "markdown",
   "metadata": {},
   "source": [
    "## 9. Despliegue y Documentación"
   ]
  },
  {
   "cell_type": "markdown",
   "metadata": {},
   "source": [
    "1. Preparar el modelo para producción:\n",
    "   - Optimizar código\n",
    "   - Crear pipeline de predicción\n",
    "2. Documentar todo el proceso:\n",
    "   - Decisiones tomadas\n",
    "   - Resultados obtenidos\n",
    "   - Limitaciones encontradas\n",
    "3. Establecer plan de monitoreo:\n",
    "   - Métricas a seguir\n",
    "   - Frecuencia de actualización\n",
    "   - Procedimientos de mantenimiento"
   ]
  },
  {
   "cell_type": "markdown",
   "metadata": {},
   "source": [
    "## Análisis Bivariante"
   ]
  },
  {
   "cell_type": "markdown",
   "metadata": {},
   "source": [
    "## Eliminación de Features"
   ]
  },
  {
   "cell_type": "markdown",
   "metadata": {},
   "source": [
    "## Duplicados"
   ]
  },
  {
   "cell_type": "markdown",
   "metadata": {},
   "source": [
    "## Missings"
   ]
  },
  {
   "cell_type": "markdown",
   "metadata": {},
   "source": [
    "## Anomalías y Errores"
   ]
  },
  {
   "cell_type": "markdown",
   "metadata": {},
   "source": [
    "## Outliers"
   ]
  },
  {
   "cell_type": "markdown",
   "metadata": {},
   "source": [
    "## Feature Engineering"
   ]
  },
  {
   "cell_type": "markdown",
   "metadata": {},
   "source": [
    "## Feature Reduction"
   ]
  },
  {
   "cell_type": "markdown",
   "metadata": {},
   "source": [
    "## Escoger Métrica del Modelo"
   ]
  },
  {
   "cell_type": "markdown",
   "metadata": {},
   "source": [
    "## Decidir sobre los Modelos"
   ]
  },
  {
   "cell_type": "markdown",
   "metadata": {},
   "source": [
    "## Elegir Hiperparámetros"
   ]
  },
  {
   "cell_type": "markdown",
   "metadata": {},
   "source": [
    "## Definición de Pipelines y Probamos"
   ]
  },
  {
   "cell_type": "markdown",
   "metadata": {},
   "source": [
    "## Resultados"
   ]
  }
 ],
 "metadata": {
  "kernelspec": {
   "display_name": "bootcamp-ds-gDITtNOb-py3.11",
   "language": "python",
   "name": "python3"
  },
  "language_info": {
   "codemirror_mode": {
    "name": "ipython",
    "version": 3
   },
   "file_extension": ".py",
   "mimetype": "text/x-python",
   "name": "python",
   "nbconvert_exporter": "python",
   "pygments_lexer": "ipython3",
   "version": "3.11.7"
  }
 },
 "nbformat": 4,
 "nbformat_minor": 2
}
