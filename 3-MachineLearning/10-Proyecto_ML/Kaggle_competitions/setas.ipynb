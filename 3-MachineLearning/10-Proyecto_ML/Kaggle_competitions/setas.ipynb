{
 "cells": [
  {
   "cell_type": "markdown",
   "metadata": {},
   "source": [
    "# Sobreviviendo en la Selva"
   ]
  },
  {
   "cell_type": "markdown",
   "metadata": {},
   "source": [
    "## Carga de Datos"
   ]
  },
  {
   "cell_type": "code",
   "execution_count": 1,
   "metadata": {},
   "outputs": [],
   "source": [
    "import warnings\n",
    "\n",
    "#Tratamiento de Datos\n",
    "import pandas as pd\n",
    "import numpy as np\n",
    "\n",
    "#Gráficos\n",
    "import seaborn as sns\n",
    "import matplotlib.pyplot as plt\n",
    "from scipy import stats\n",
    "\n",
    "#Machine Learning\n",
    "from sklearn.model_selection import train_test_split\n",
    "\n",
    "warnings.filterwarnings(\"ignore\")"
   ]
  },
  {
   "cell_type": "code",
   "execution_count": 3,
   "metadata": {},
   "outputs": [],
   "source": [
    "setas=pd.read_parquet('sostenme-el-cubata/train.parquet')"
   ]
  },
  {
   "cell_type": "code",
   "execution_count": 5,
   "metadata": {},
   "outputs": [],
   "source": [
    "df=setas.copy()"
   ]
  },
  {
   "cell_type": "markdown",
   "metadata": {},
   "source": [
    "## Exploración de Datos"
   ]
  },
  {
   "cell_type": "code",
   "execution_count": 6,
   "metadata": {},
   "outputs": [
    {
     "data": {
      "text/html": [
       "<div>\n",
       "<style scoped>\n",
       "    .dataframe tbody tr th:only-of-type {\n",
       "        vertical-align: middle;\n",
       "    }\n",
       "\n",
       "    .dataframe tbody tr th {\n",
       "        vertical-align: top;\n",
       "    }\n",
       "\n",
       "    .dataframe thead th {\n",
       "        text-align: right;\n",
       "    }\n",
       "</style>\n",
       "<table border=\"1\" class=\"dataframe\">\n",
       "  <thead>\n",
       "    <tr style=\"text-align: right;\">\n",
       "      <th></th>\n",
       "      <th>id</th>\n",
       "      <th>class</th>\n",
       "      <th>cap_shape</th>\n",
       "      <th>cap_surface</th>\n",
       "      <th>cap_color</th>\n",
       "      <th>odor</th>\n",
       "      <th>gill_attachment</th>\n",
       "      <th>gill_spacing</th>\n",
       "      <th>gill_size</th>\n",
       "      <th>gill_color</th>\n",
       "      <th>...</th>\n",
       "      <th>stalk_color_above_ring</th>\n",
       "      <th>stalk_color_below_ring</th>\n",
       "      <th>veil_type</th>\n",
       "      <th>veil_color</th>\n",
       "      <th>ring_number</th>\n",
       "      <th>ring_type</th>\n",
       "      <th>spore_print_color</th>\n",
       "      <th>population</th>\n",
       "      <th>habitat</th>\n",
       "      <th>bruises</th>\n",
       "    </tr>\n",
       "  </thead>\n",
       "  <tbody>\n",
       "    <tr>\n",
       "      <th>0</th>\n",
       "      <td>367</td>\n",
       "      <td>edible</td>\n",
       "      <td>bell</td>\n",
       "      <td>scaly</td>\n",
       "      <td>yellow</td>\n",
       "      <td>almond</td>\n",
       "      <td>free</td>\n",
       "      <td>close</td>\n",
       "      <td>broad</td>\n",
       "      <td>black</td>\n",
       "      <td>...</td>\n",
       "      <td>white</td>\n",
       "      <td>white</td>\n",
       "      <td>partial</td>\n",
       "      <td>white</td>\n",
       "      <td>one</td>\n",
       "      <td>pendant</td>\n",
       "      <td>brown</td>\n",
       "      <td>scattered</td>\n",
       "      <td>grasses</td>\n",
       "      <td>Bruises</td>\n",
       "    </tr>\n",
       "    <tr>\n",
       "      <th>1</th>\n",
       "      <td>5123</td>\n",
       "      <td>poisonous</td>\n",
       "      <td>convex</td>\n",
       "      <td>smooth</td>\n",
       "      <td>red</td>\n",
       "      <td>foul</td>\n",
       "      <td>free</td>\n",
       "      <td>close</td>\n",
       "      <td>narrow</td>\n",
       "      <td>buff</td>\n",
       "      <td>...</td>\n",
       "      <td>white</td>\n",
       "      <td>pink</td>\n",
       "      <td>partial</td>\n",
       "      <td>white</td>\n",
       "      <td>one</td>\n",
       "      <td>evanescent</td>\n",
       "      <td>white</td>\n",
       "      <td>several</td>\n",
       "      <td>paths</td>\n",
       "      <td>No presenta</td>\n",
       "    </tr>\n",
       "    <tr>\n",
       "      <th>2</th>\n",
       "      <td>2864</td>\n",
       "      <td>edible</td>\n",
       "      <td>convex</td>\n",
       "      <td>fibrous</td>\n",
       "      <td>green</td>\n",
       "      <td>null</td>\n",
       "      <td>free</td>\n",
       "      <td>close</td>\n",
       "      <td>broad</td>\n",
       "      <td>pink</td>\n",
       "      <td>...</td>\n",
       "      <td>pink</td>\n",
       "      <td>white</td>\n",
       "      <td>partial</td>\n",
       "      <td>white</td>\n",
       "      <td>one</td>\n",
       "      <td>pendant</td>\n",
       "      <td>brown</td>\n",
       "      <td>several</td>\n",
       "      <td>wood</td>\n",
       "      <td>Bruises</td>\n",
       "    </tr>\n",
       "    <tr>\n",
       "      <th>3</th>\n",
       "      <td>4674</td>\n",
       "      <td>poisonous</td>\n",
       "      <td>flat</td>\n",
       "      <td>smooth</td>\n",
       "      <td>white</td>\n",
       "      <td>foul</td>\n",
       "      <td>free</td>\n",
       "      <td>close</td>\n",
       "      <td>broad</td>\n",
       "      <td>pink</td>\n",
       "      <td>...</td>\n",
       "      <td>white</td>\n",
       "      <td>white</td>\n",
       "      <td>partial</td>\n",
       "      <td>white</td>\n",
       "      <td>one</td>\n",
       "      <td>pendant</td>\n",
       "      <td>chocolate</td>\n",
       "      <td>scattered</td>\n",
       "      <td>grasses</td>\n",
       "      <td>Bruises</td>\n",
       "    </tr>\n",
       "    <tr>\n",
       "      <th>4</th>\n",
       "      <td>1210</td>\n",
       "      <td>edible</td>\n",
       "      <td>convex</td>\n",
       "      <td>smooth</td>\n",
       "      <td>white</td>\n",
       "      <td>null</td>\n",
       "      <td>free</td>\n",
       "      <td>crowded</td>\n",
       "      <td>broad</td>\n",
       "      <td>black</td>\n",
       "      <td>...</td>\n",
       "      <td>white</td>\n",
       "      <td>white</td>\n",
       "      <td>partial</td>\n",
       "      <td>white</td>\n",
       "      <td>one</td>\n",
       "      <td>evanescent</td>\n",
       "      <td>black</td>\n",
       "      <td>abundant</td>\n",
       "      <td>grasses</td>\n",
       "      <td>No presenta</td>\n",
       "    </tr>\n",
       "  </tbody>\n",
       "</table>\n",
       "<p>5 rows × 24 columns</p>\n",
       "</div>"
      ],
      "text/plain": [
       "     id      class cap_shape cap_surface cap_color    odor gill_attachment  \\\n",
       "0   367     edible      bell       scaly    yellow  almond            free   \n",
       "1  5123  poisonous    convex      smooth       red    foul            free   \n",
       "2  2864     edible    convex     fibrous     green    null            free   \n",
       "3  4674  poisonous      flat      smooth     white    foul            free   \n",
       "4  1210     edible    convex      smooth     white    null            free   \n",
       "\n",
       "  gill_spacing gill_size gill_color  ... stalk_color_above_ring  \\\n",
       "0        close     broad      black  ...                  white   \n",
       "1        close    narrow       buff  ...                  white   \n",
       "2        close     broad       pink  ...                   pink   \n",
       "3        close     broad       pink  ...                  white   \n",
       "4      crowded     broad      black  ...                  white   \n",
       "\n",
       "  stalk_color_below_ring veil_type veil_color ring_number   ring_type  \\\n",
       "0                  white   partial      white         one     pendant   \n",
       "1                   pink   partial      white         one  evanescent   \n",
       "2                  white   partial      white         one     pendant   \n",
       "3                  white   partial      white         one     pendant   \n",
       "4                  white   partial      white         one  evanescent   \n",
       "\n",
       "  spore_print_color population  habitat      bruises  \n",
       "0             brown  scattered  grasses      Bruises  \n",
       "1             white    several    paths  No presenta  \n",
       "2             brown    several     wood      Bruises  \n",
       "3         chocolate  scattered  grasses      Bruises  \n",
       "4             black   abundant  grasses  No presenta  \n",
       "\n",
       "[5 rows x 24 columns]"
      ]
     },
     "execution_count": 6,
     "metadata": {},
     "output_type": "execute_result"
    }
   ],
   "source": [
    "df.head()"
   ]
  },
  {
   "cell_type": "code",
   "execution_count": 7,
   "metadata": {},
   "outputs": [
    {
     "data": {
      "text/plain": [
       "(4603, 24)"
      ]
     },
     "execution_count": 7,
     "metadata": {},
     "output_type": "execute_result"
    }
   ],
   "source": [
    "df.shape"
   ]
  },
  {
   "cell_type": "code",
   "execution_count": 8,
   "metadata": {},
   "outputs": [
    {
     "name": "stdout",
     "output_type": "stream",
     "text": [
      "<class 'pandas.core.frame.DataFrame'>\n",
      "RangeIndex: 4603 entries, 0 to 4602\n",
      "Data columns (total 24 columns):\n",
      " #   Column                    Non-Null Count  Dtype \n",
      "---  ------                    --------------  ----- \n",
      " 0   id                        4603 non-null   object\n",
      " 1   class                     4603 non-null   object\n",
      " 2   cap_shape                 4603 non-null   object\n",
      " 3   cap_surface               4603 non-null   object\n",
      " 4   cap_color                 4603 non-null   object\n",
      " 5   odor                      4603 non-null   object\n",
      " 6   gill_attachment           4603 non-null   object\n",
      " 7   gill_spacing              4603 non-null   object\n",
      " 8   gill_size                 4603 non-null   object\n",
      " 9   gill_color                4603 non-null   object\n",
      " 10  stalk_shape               4603 non-null   object\n",
      " 11  stalk_root                4603 non-null   object\n",
      " 12  stalk_surface_above_ring  4603 non-null   object\n",
      " 13  stalk_surface_below_ring  4603 non-null   object\n",
      " 14  stalk_color_above_ring    4603 non-null   object\n",
      " 15  stalk_color_below_ring    4603 non-null   object\n",
      " 16  veil_type                 4603 non-null   object\n",
      " 17  veil_color                4603 non-null   object\n",
      " 18  ring_number               4603 non-null   object\n",
      " 19  ring_type                 4603 non-null   object\n",
      " 20  spore_print_color         4603 non-null   object\n",
      " 21  population                4603 non-null   object\n",
      " 22  habitat                   4603 non-null   object\n",
      " 23  bruises                   4603 non-null   object\n",
      "dtypes: object(24)\n",
      "memory usage: 863.2+ KB\n",
      "Filas: 4603\n",
      "Columnas: 24\n"
     ]
    }
   ],
   "source": [
    "df.info()\n",
    "print(\"Filas:\", df.shape[0])\n",
    "print(\"Columnas:\", df.shape[1])"
   ]
  },
  {
   "cell_type": "code",
   "execution_count": 9,
   "metadata": {},
   "outputs": [
    {
     "data": {
      "text/plain": [
       "np.int64(0)"
      ]
     },
     "execution_count": 9,
     "metadata": {},
     "output_type": "execute_result"
    }
   ],
   "source": [
    "df.duplicated().sum()"
   ]
  },
  {
   "cell_type": "code",
   "execution_count": 10,
   "metadata": {},
   "outputs": [
    {
     "data": {
      "text/plain": [
       "id                          0\n",
       "class                       0\n",
       "cap_shape                   0\n",
       "cap_surface                 0\n",
       "cap_color                   0\n",
       "odor                        0\n",
       "gill_attachment             0\n",
       "gill_spacing                0\n",
       "gill_size                   0\n",
       "gill_color                  0\n",
       "stalk_shape                 0\n",
       "stalk_root                  0\n",
       "stalk_surface_above_ring    0\n",
       "stalk_surface_below_ring    0\n",
       "stalk_color_above_ring      0\n",
       "stalk_color_below_ring      0\n",
       "veil_type                   0\n",
       "veil_color                  0\n",
       "ring_number                 0\n",
       "ring_type                   0\n",
       "spore_print_color           0\n",
       "population                  0\n",
       "habitat                     0\n",
       "bruises                     0\n",
       "dtype: int64"
      ]
     },
     "execution_count": 10,
     "metadata": {},
     "output_type": "execute_result"
    }
   ],
   "source": [
    "df.isnull().sum()"
   ]
  },
  {
   "cell_type": "markdown",
   "metadata": {},
   "source": [
    "## Preprocesamiento de Datos Inicial"
   ]
  },
  {
   "cell_type": "code",
   "execution_count": null,
   "metadata": {},
   "outputs": [],
   "source": []
  },
  {
   "cell_type": "markdown",
   "metadata": {},
   "source": [
    "## Feature Engineering"
   ]
  },
  {
   "cell_type": "code",
   "execution_count": null,
   "metadata": {},
   "outputs": [],
   "source": []
  },
  {
   "cell_type": "markdown",
   "metadata": {},
   "source": [
    "## Preparación de Datos"
   ]
  },
  {
   "cell_type": "code",
   "execution_count": null,
   "metadata": {},
   "outputs": [],
   "source": []
  },
  {
   "cell_type": "markdown",
   "metadata": {},
   "source": [
    "## Selección de Modelos Base"
   ]
  },
  {
   "cell_type": "code",
   "execution_count": null,
   "metadata": {},
   "outputs": [],
   "source": []
  },
  {
   "cell_type": "markdown",
   "metadata": {},
   "source": [
    "## Optimización de Modelos Seleccionados"
   ]
  },
  {
   "cell_type": "code",
   "execution_count": null,
   "metadata": {},
   "outputs": [],
   "source": []
  },
  {
   "cell_type": "markdown",
   "metadata": {},
   "source": [
    "## Evaluación y Análisis"
   ]
  },
  {
   "cell_type": "code",
   "execution_count": null,
   "metadata": {},
   "outputs": [],
   "source": []
  },
  {
   "cell_type": "markdown",
   "metadata": {},
   "source": [
    "## Despliegue y Documentación"
   ]
  },
  {
   "cell_type": "code",
   "execution_count": null,
   "metadata": {},
   "outputs": [],
   "source": []
  }
 ],
 "metadata": {
  "kernelspec": {
   "display_name": "bootcamp-ds-gDITtNOb-py3.11",
   "language": "python",
   "name": "python3"
  },
  "language_info": {
   "codemirror_mode": {
    "name": "ipython",
    "version": 3
   },
   "file_extension": ".py",
   "mimetype": "text/x-python",
   "name": "python",
   "nbconvert_exporter": "python",
   "pygments_lexer": "ipython3",
   "version": "3.11.7"
  }
 },
 "nbformat": 4,
 "nbformat_minor": 2
}
