{
 "cells": [
  {
   "cell_type": "markdown",
   "metadata": {},
   "source": [
    " ># APTITUDES DATA SCIENCE\n",
    "\n",
    "  >#### **LO MAS IMPORTANTE**\n",
    " >* MATEMATICAS\n",
    " >* PYTHON\n",
    " >* SQL\n",
    "\n",
    ">![imagen](../Teoria/img/python.png)\n",
    "\n",
    ">##### _OTRO TEMA IMPORTANTE ES EL BUSINESS INTELLIGENCE_\n",
    "\n",
    ">SI TIENES DUDAS PUEDES ESCRIBIRME AL: [abdon.ramirez@gmail.com](https://mail.google.com/mail/u/0/#inbox/FMfcgzQXJQSTkSTsmnPntcPLFWfmtmpk)\n",
    "\n",
    ">EN ESTA PAGINA PUEDES APRENDER MUCHO SOBRE MACHINE LEARNING [**PAGINA CON ml**](https://www.kaggle.com/)"
   ]
  },
  {
   "cell_type": "markdown",
   "metadata": {},
   "source": [
    "| RAMP UP | DATA ANALYST | MACHINE LEARNING | DATA & BUSINESS |\n",
    "|---------|--------------|------------------|-----------------|\n",
    "| Python | Eda | Supervised | Productivizacion |\n",
    "| Estdistica | R | Non supervised | Storytelling |\n",
    "| SQL | Feat. Eng. | Deep learning | API |"
   ]
  },
  {
   "cell_type": "markdown",
   "metadata": {},
   "source": [
    "$$\\sqrt 3x -1 + (1 + x)^2 $$"
   ]
  }
 ],
 "metadata": {
  "language_info": {
   "name": "python"
  }
 },
 "nbformat": 4,
 "nbformat_minor": 2
}
