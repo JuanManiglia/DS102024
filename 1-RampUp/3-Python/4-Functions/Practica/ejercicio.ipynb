{
  "cells": [
    {
      "cell_type": "markdown",
      "metadata": {
        "id": "WxAL6VsU2Wuo"
      },
      "source": [
        "# Ejercicios III"
      ]
    },
    {
      "cell_type": "markdown",
      "metadata": {
        "id": "y4fgNZK42Wuq"
      },
      "source": [
        "## Factoriales\n",
        "\n",
        "El factorial de un número natural es la multiplicación de todos los números anteriores hasta llegar a 1. Por ejemplo el factorial de 5 es igual a $5* 4* 3* 2* 1$, es decir, 120.\n",
        "\n",
        "Igual que con la serie Fibonacci, hay dos formas de resolver este problema: una con un loop for y la otra utilizando funciones recursivas.  Recuerden que cada función recursiva tiene que tener una condición terminal.\n",
        "En el caso de Fibonacci, la condición terminal es que fibo(1) = 1. \n",
        "\n",
        "En el caso de factorial, la condición terminal será factorial(1) = 1 \n",
        "\n",
        "Escriban ahora las dos versiones posibles de la función factorial(x). "
      ]
    },
    {
      "cell_type": "code",
      "execution_count": null,
      "metadata": {
        "id": "AI0nQ8vL2Wux"
      },
      "outputs": [],
      "source": [
        "# Solución recursiva. \n",
        "def factorial(num:int)->int:\n",
        "    if num == 1:\n",
        "        return 1\n",
        "    else:\n",
        "        return num * factorial(num-1)\n",
        "\n",
        "factorial(5)"
      ]
    },
    {
      "cell_type": "code",
      "execution_count": 22,
      "metadata": {
        "id": "WsRV3pZU2Wu3"
      },
      "outputs": [
        {
          "data": {
            "text/plain": [
              "720"
            ]
          },
          "execution_count": 22,
          "metadata": {},
          "output_type": "execute_result"
        }
      ],
      "source": [
        "# Solución iterativa. \n",
        "def facto(numero:int)->int:\n",
        "    resultado = 1\n",
        "    for num in range(1,numero+1):\n",
        "        resultado = resultado * num\n",
        "    return resultado\n",
        " \n",
        "facto(6)\n",
        "\n",
        "\n"
      ]
    },
    {
      "cell_type": "markdown",
      "metadata": {
        "id": "_RnUbcaR2Wu4"
      },
      "source": [
        "Ahora construyan un módulo que se llame \"operaciones\" con cualquiera de las dos versiones de la función y luego invoquen a la función factorial del módulo."
      ]
    },
    {
      "cell_type": "code",
      "execution_count": null,
      "metadata": {
        "id": "amURxY7Q2Wu5"
      },
      "outputs": [],
      "source": [
        "# Escriban el archivo operaciones.py\n"
      ]
    },
    {
      "cell_type": "code",
      "execution_count": null,
      "metadata": {
        "id": "MjA4BPw92Wu6"
      },
      "outputs": [],
      "source": [
        "# Importen operaciones\n"
      ]
    },
    {
      "cell_type": "code",
      "execution_count": null,
      "metadata": {
        "id": "ltadgg2C2Wu9"
      },
      "outputs": [],
      "source": [
        "# Invoquen con cualquier valor a operaciones.factorial()\n"
      ]
    },
    {
      "cell_type": "markdown",
      "metadata": {
        "id": "uyHeMHAwJ1Ro"
      },
      "source": [
        "Módulos de búsqueda. Ahora crea un paquete (carpeta con varios módulos) donde haya al menos dos algorítmos de búsqueda vistos que funcionen sobre listas de número. \n",
        "Extra: que la busqueda permita diccionarios"
      ]
    },
    {
      "cell_type": "code",
      "execution_count": null,
      "metadata": {
        "id": "XRBF8JHLKFvS"
      },
      "outputs": [],
      "source": []
    }
  ],
  "metadata": {
    "colab": {
      "name": "ejercicio.ipynb",
      "provenance": []
    },
    "kernelspec": {
      "display_name": "Python 3",
      "language": "python",
      "name": "python3"
    },
    "language_info": {
      "codemirror_mode": {
        "name": "ipython",
        "version": 3
      },
      "file_extension": ".py",
      "mimetype": "text/x-python",
      "name": "python",
      "nbconvert_exporter": "python",
      "pygments_lexer": "ipython3",
      "version": "3.12.6"
    }
  },
  "nbformat": 4,
  "nbformat_minor": 0
}
