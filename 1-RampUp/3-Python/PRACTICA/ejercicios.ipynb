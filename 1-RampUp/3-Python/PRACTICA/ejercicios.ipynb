{
 "cells": [
  {
   "cell_type": "markdown",
   "metadata": {},
   "source": [
    "1. Escribir un programa que pregunte al usuario su edad y muestre por pantalla si es mayor de edad o no"
   ]
  },
  {
   "cell_type": "code",
   "execution_count": 6,
   "metadata": {},
   "outputs": [
    {
     "name": "stdout",
     "output_type": "stream",
     "text": [
      "Eres mayor de edad\n"
     ]
    }
   ],
   "source": [
    "edad = int(input(\"¿Cual es tu edad?\"))\n",
    "\n",
    "if edad > 18:\n",
    "    print(\"Eres mayor de edad\")\n",
    "else:\n",
    "    print(\"eres menor\")"
   ]
  },
  {
   "cell_type": "markdown",
   "metadata": {},
   "source": [
    "2. Escribir un programa que pida al usuario un numero entero y muestre por pantalla si es par o impar"
   ]
  },
  {
   "cell_type": "code",
   "execution_count": 8,
   "metadata": {},
   "outputs": [
    {
     "name": "stdout",
     "output_type": "stream",
     "text": [
      "el numero es impar\n"
     ]
    }
   ],
   "source": [
    "numero = int(input(\"¿Como es el numero?\"))\n",
    "if numero % 2 == 0:\n",
    "    print(\"el numero es par\")\n",
    "else:\n",
    "    print(\"el numero es impar\")\n"
   ]
  },
  {
   "cell_type": "markdown",
   "metadata": {},
   "source": [
    "\n",
    "*\n",
    "**\n",
    "***\n",
    "****\n",
    "*****"
   ]
  },
  {
   "cell_type": "markdown",
   "metadata": {},
   "source": [
    "4. Escribir un programa que pida al usuario una palabra y luego muestre por pantalla una a una las letras de la palabra introducida empezando por la última"
   ]
  },
  {
   "cell_type": "code",
   "execution_count": 20,
   "metadata": {},
   "outputs": [
    {
     "name": "stdout",
     "output_type": "stream",
     "text": [
      "n o m e k o p "
     ]
    }
   ],
   "source": [
    "palabra = str((input(\"¿escribe una palabra?\")))\n",
    "for letra in reversed(palabra):\n",
    "    print(letra,end=' ')\n",
    "\n"
   ]
  },
  {
   "cell_type": "markdown",
   "metadata": {},
   "source": [
    "5. Escribir un programa que almacene el abecedario en una lista, elimine de la lista las letras que ocupen posiciones multiplos de 3, y muestre por pantalla la lista resultante"
   ]
  },
  {
   "cell_type": "code",
   "execution_count": 24,
   "metadata": {},
   "outputs": [
    {
     "name": "stdout",
     "output_type": "stream",
     "text": [
      "['b', 'c', 'e', 'f', 'h', 'i', 'k', 'l', 'n', 'o', 'q', 'r', 't', 'u', 'w', 'x', 'z']\n"
     ]
    }
   ],
   "source": [
    "import string\n",
    "\n",
    "abc =string.ascii_lowercase\n",
    "\n",
    "lista = []\n",
    "\n",
    "for i in range(len(abc)):\n",
    "    if i % 3 == 0:\n",
    "        continue\n",
    "    else:\n",
    "        lista.append(abc[i])\n",
    "print(lista)"
   ]
  },
  {
   "cell_type": "markdown",
   "metadata": {},
   "source": [
    "6. Escribir un programa que guarde en un diccionario los precios de las frutas de la tabla, pregunte al usuario por una fruta, un numero de kilos y muestre por pantalla el precio de ese numero de kilos de fruta. Si la fruta no esta en el diccionario debe mostrar un mensaje informando de ello."
   ]
  },
  {
   "cell_type": "code",
   "execution_count": 3,
   "metadata": {},
   "outputs": [
    {
     "name": "stdout",
     "output_type": "stream",
     "text": [
      "-16.0\n"
     ]
    }
   ],
   "source": [
    "precios_fruta = {\"pera\":8,\"manzana\":5,\"melon\":3,\"naranja\":2}\n",
    "fruta = input(\"¿que fruta quieres?\")\n",
    "kilos = float(input(\"¿cuantos kilos quieres?\"))\n",
    "if fruta in precios_fruta:\n",
    "    precio_total = precios_fruta[fruta] * kilos\n",
    "    print(precio_total)\n",
    "else:\n",
    "    fruta != precios_fruta\n",
    "    print(\"No tenemos esa fruta\")"
   ]
  },
  {
   "cell_type": "markdown",
   "metadata": {},
   "source": [
    "7. Escribir una función que reciba una muestra de números en una lista y devuelva su media y su mediana."
   ]
  },
  {
   "cell_type": "code",
   "execution_count": null,
   "metadata": {},
   "outputs": [],
   "source": [
    "import math\n"
   ]
  },
  {
   "cell_type": "code",
   "execution_count": 4,
   "metadata": {},
   "outputs": [],
   "source": [
    "def muestra(lista_numeros:list) -> float:\n",
    "    promedio = sum(lista_numeros)/len(lista_numeros)\n",
    "    mediana = \n",
    "    return promedio"
   ]
  },
  {
   "cell_type": "code",
   "execution_count": 5,
   "metadata": {},
   "outputs": [
    {
     "data": {
      "text/plain": [
       "3.5"
      ]
     },
     "execution_count": 5,
     "metadata": {},
     "output_type": "execute_result"
    }
   ],
   "source": [
    "muestra([1,2,3,4,5,6])"
   ]
  },
  {
   "cell_type": "markdown",
   "metadata": {},
   "source": [
    "8. Crear un programa que sin utilizar if-else si le pasas la variable XX te devuelve el pais, ejemplo: ES -> España, US -> Estados unidos"
   ]
  },
  {
   "cell_type": "markdown",
   "metadata": {},
   "source": []
  }
 ],
 "metadata": {
  "kernelspec": {
   "display_name": "Python 3",
   "language": "python",
   "name": "python3"
  },
  "language_info": {
   "codemirror_mode": {
    "name": "ipython",
    "version": 3
   },
   "file_extension": ".py",
   "mimetype": "text/x-python",
   "name": "python",
   "nbconvert_exporter": "python",
   "pygments_lexer": "ipython3",
   "version": "3.10.11"
  }
 },
 "nbformat": 4,
 "nbformat_minor": 2
}
