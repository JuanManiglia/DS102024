{
 "cells": [
  {
   "cell_type": "markdown",
   "metadata": {},
   "source": [
    "# Ejercicios Adicionales II\n",
    "\n",
    "Estos ejercicios tienen un nivel de dificultad un poco mas elevado. Cada ejercicio tiene una función de test para chequear si lo que hicieron esta bien. "
   ]
  },
  {
   "cell_type": "code",
   "execution_count": 1,
   "metadata": {},
   "outputs": [
    {
     "name": "stderr",
     "output_type": "stream",
     "text": [
      "\"unzip\" no se reconoce como un comando interno o externo,\n",
      "programa o archivo por lotes ejecutable.\n"
     ]
    }
   ],
   "source": [
    "!unzip test_intro_clase2.zip"
   ]
  },
  {
   "cell_type": "code",
   "execution_count": 2,
   "metadata": {},
   "outputs": [
    {
     "name": "stderr",
     "output_type": "stream",
     "text": [
      "<>:2: SyntaxWarning: invalid escape sequence '\\P'\n",
      "<>:2: SyntaxWarning: invalid escape sequence '\\P'\n",
      "C:\\Users\\denis\\AppData\\Local\\Temp\\ipykernel_20192\\1348912818.py:2: SyntaxWarning: invalid escape sequence '\\P'\n",
      "  with zipfile.ZipFile('DS102024\\1-RampUp\\3-Python\\2-Flujos de control\\Practica\\test_intro_clase2.zip', 'r') as zip_ref:\n",
      "C:\\Users\\denis\\AppData\\Local\\Temp\\ipykernel_20192\\1348912818.py:2: SyntaxWarning: invalid escape sequence '\\P'\n",
      "  with zipfile.ZipFile('DS102024\\1-RampUp\\3-Python\\2-Flujos de control\\Practica\\test_intro_clase2.zip', 'r') as zip_ref:\n"
     ]
    },
    {
     "ename": "OSError",
     "evalue": "[Errno 22] Invalid argument: 'DS102024\\x01-RampUp\\x03-Python\\x02-Flujos de control\\\\Practica\\test_intro_clase2.zip'",
     "output_type": "error",
     "traceback": [
      "\u001b[1;31m---------------------------------------------------------------------------\u001b[0m",
      "\u001b[1;31mOSError\u001b[0m                                   Traceback (most recent call last)",
      "Cell \u001b[1;32mIn[2], line 2\u001b[0m\n\u001b[0;32m      1\u001b[0m \u001b[38;5;28;01mimport\u001b[39;00m \u001b[38;5;21;01mzipfile\u001b[39;00m\n\u001b[1;32m----> 2\u001b[0m \u001b[38;5;28;01mwith\u001b[39;00m \u001b[43mzipfile\u001b[49m\u001b[38;5;241;43m.\u001b[39;49m\u001b[43mZipFile\u001b[49m\u001b[43m(\u001b[49m\u001b[38;5;124;43m'\u001b[39;49m\u001b[38;5;124;43mDS102024\u001b[39;49m\u001b[38;5;130;43;01m\\1\u001b[39;49;00m\u001b[38;5;124;43m-RampUp\u001b[39;49m\u001b[38;5;130;43;01m\\3\u001b[39;49;00m\u001b[38;5;124;43m-Python\u001b[39;49m\u001b[38;5;130;43;01m\\2\u001b[39;49;00m\u001b[38;5;124;43m-Flujos de control\u001b[39;49m\u001b[38;5;124;43m\\\u001b[39;49m\u001b[38;5;124;43mPractica\u001b[39;49m\u001b[38;5;130;43;01m\\t\u001b[39;49;00m\u001b[38;5;124;43mest_intro_clase2.zip\u001b[39;49m\u001b[38;5;124;43m'\u001b[39;49m\u001b[43m,\u001b[49m\u001b[43m \u001b[49m\u001b[38;5;124;43m'\u001b[39;49m\u001b[38;5;124;43mr\u001b[39;49m\u001b[38;5;124;43m'\u001b[39;49m\u001b[43m)\u001b[49m \u001b[38;5;28;01mas\u001b[39;00m zip_ref:\n\u001b[0;32m      3\u001b[0m     zip_ref\u001b[38;5;241m.\u001b[39mextractall(\u001b[38;5;124m'\u001b[39m\u001b[38;5;124mtest_intro_clase2\u001b[39m\u001b[38;5;124m'\u001b[39m)\n",
      "File \u001b[1;32mc:\\Program Files\\Python312\\Lib\\zipfile\\__init__.py:1331\u001b[0m, in \u001b[0;36mZipFile.__init__\u001b[1;34m(self, file, mode, compression, allowZip64, compresslevel, strict_timestamps, metadata_encoding)\u001b[0m\n\u001b[0;32m   1329\u001b[0m \u001b[38;5;28;01mwhile\u001b[39;00m \u001b[38;5;28;01mTrue\u001b[39;00m:\n\u001b[0;32m   1330\u001b[0m     \u001b[38;5;28;01mtry\u001b[39;00m:\n\u001b[1;32m-> 1331\u001b[0m         \u001b[38;5;28mself\u001b[39m\u001b[38;5;241m.\u001b[39mfp \u001b[38;5;241m=\u001b[39m \u001b[43mio\u001b[49m\u001b[38;5;241;43m.\u001b[39;49m\u001b[43mopen\u001b[49m\u001b[43m(\u001b[49m\u001b[43mfile\u001b[49m\u001b[43m,\u001b[49m\u001b[43m \u001b[49m\u001b[43mfilemode\u001b[49m\u001b[43m)\u001b[49m\n\u001b[0;32m   1332\u001b[0m     \u001b[38;5;28;01mexcept\u001b[39;00m \u001b[38;5;167;01mOSError\u001b[39;00m:\n\u001b[0;32m   1333\u001b[0m         \u001b[38;5;28;01mif\u001b[39;00m filemode \u001b[38;5;129;01min\u001b[39;00m modeDict:\n",
      "\u001b[1;31mOSError\u001b[0m: [Errno 22] Invalid argument: 'DS102024\\x01-RampUp\\x03-Python\\x02-Flujos de control\\\\Practica\\test_intro_clase2.zip'"
     ]
    }
   ],
   "source": [
    "import zipfile\n",
    "with zipfile.ZipFile('DS102024\\1-RampUp\\3-Python\\2-Flujos de control\\Practica\\test_intro_clase2.zip', 'r') as zip_ref:\n",
    "    zip_ref.extractall('test_intro_clase2')"
   ]
  },
  {
   "cell_type": "code",
   "execution_count": null,
   "metadata": {},
   "outputs": [],
   "source": [
    "from test import *"
   ]
  },
  {
   "cell_type": "markdown",
   "metadata": {},
   "source": [
    "### Juego de espías (Fácil)\n",
    "El espía Ramsay debe codificar los mensajes que le mandan otros espías sobre la cantidad de tropas que tiene el enemigo en distintos cuarteles. Para esto, otro espía le manda una tira de números con un pequeño truco. Esta tira de números estan separados por `-`, pero para que no sea tan fácil saber que esta informando, la cantidad de tropas esta levemente escondida y también esta escondido el número del cuartel. El cuartel estará escondido en el último lugar de la tira y para obtener la cantidad de tropas aproximadas se deben sumar todos los números que son divisibles por el número del cuartel de la tira. Crear una función que reciba el string de la tira de números y devuelva la cantidad de tropas que hay en el cuartel enemigo como una tupla. Adicionalmente, podria imprimir un mensaje con la información requerida.\n",
    "\n",
    "Ej:\n",
    "```Python\n",
    "INPUT:\n",
    "tira_numeros = '29-32-1-5-65-12345-0-12-2'\n",
    "OUTPUT: \n",
    "(2, 44)\n",
    "    \"En el cuartel número 2 hay 44 soldados\"\n",
    "```"
   ]
  },
  {
   "cell_type": "code",
   "execution_count": null,
   "metadata": {},
   "outputs": [],
   "source": [
    "# Corre para ver si tu código esta bien\n",
    "def informe_espia(tira_numeros):\n",
    "    # Hacer la magia\n",
    "    \n",
    "    return (cuartel,informe)"
   ]
  },
  {
   "cell_type": "code",
   "execution_count": null,
   "metadata": {},
   "outputs": [],
   "source": [
    "test1(informe_espia)"
   ]
  },
  {
   "cell_type": "markdown",
   "metadata": {},
   "source": [
    "***\n",
    "### Codificador César (Intermedio)\n",
    "Una de las formas mas antiguas de crear un código encriptado es lo que se conoce como el encriptado César <https://es.wikipedia.org/wiki/Cifrado_C%C3%A9sar>. En este tipo de encriptado lo que se hace es \"girar\" el abecedario una determinada cantidad de pasos según una clave numérica (ver ejemplo). Crear una función que lea un string dentro de un txt en la misma ruta que esta notebook, tome una clave y devuelva el string encriptado con la clave César en minúsculas(asumir que el texto esta en castellano).\n",
    "\n",
    "Ej: Clave = 2\n",
    "\n",
    "| Letra   | Letra encriptada |\n",
    "| ------------- |:-------------:| \n",
    "| A | C | \n",
    "| B | D |\n",
    "| C | E |\n",
    "| ... | ... |\n",
    "| Y | A |\n",
    "| Z | B |\n",
    "\n",
    "```Python\n",
    "INPUT:\n",
    "'mi_archivo.txt' (\"Hola estudiante\"), clave = 1\n",
    "OUTPUT:\n",
    "\"Jqnc guvwfkcovg\"\n",
    "```\n",
    "\n",
    "*AYUDA*\n",
    "\n",
    "El método `mi_lista.index(elemento)` búsca el `elemento` en la lista `mi_lista` y devuelve la posición del elemento si lo encontró. Si no lo encontró devuelve un `ValueError`."
   ]
  },
  {
   "cell_type": "code",
   "execution_count": null,
   "metadata": {},
   "outputs": [],
   "source": [
    "def codificador_cesar(mensaje_path, clave):\n",
    "    # Un ayudin\n",
    "    abecedario = 'abcdefghijklmnñopqrstuvwxyz'\n",
    "    # Ahora hagan su magia (ojo con las mayúsculas)\n",
    "\n",
    "    return cifrado"
   ]
  },
  {
   "cell_type": "code",
   "execution_count": null,
   "metadata": {},
   "outputs": [],
   "source": [
    "# Corre para ver si tu código esta bien\n",
    "test2(codificador_cesar)"
   ]
  },
  {
   "cell_type": "markdown",
   "metadata": {},
   "source": [
    "**OPCIONALES** \n",
    "\n",
    "- Hacer que la función guarde la salida como un archivo de texto.\n",
    "- Podemos encriptar respetando mayúsculas. Adaptar la función para que lo haga. Se puede usar la funcion test2_mayusculas para probarla. Sugerencia: Mirar el método `isupper()` para los strings.\n",
    "- Adaptar la función anterior pero para desencriptar, una función que cree una lista con todas las posibles rotaciones del texto."
   ]
  },
  {
   "cell_type": "markdown",
   "metadata": {},
   "source": [
    "***\n",
    "### La carrusel (Rompecoco) \n",
    "El señor Jacinto es dueño de una antigua carrusel con animalitos que no funciona hace varios años y quiere volver a ponerla en funcionamiento. Para eso va a probarla prendiendola y viendo cuanto rota segun la cantidad de movimientos. \n",
    "\n",
    "Crear una función que reciba una lista de strings (con la primera en mayúscula) con los animales que componen la carrusel, una cantidad de ciclos(n_ciclos) y devuelva la misma lista pero rotada hacia la derecha esa cantidad de movimientos, donde un movimiento es cambiar todos los animales una posición hacia la derecha:\n",
    "\n",
    "Ej:\n",
    "``` Python\n",
    "INPUT:\n",
    "['Unicornio','Oso','Jirafa', 'Pato'. 'Elefante'], movimiento = 1\n",
    "OUTPUT:\n",
    "['Elefante', 'Unicornio', 'Oso', 'Jirafa', 'Pato']\n",
    "```"
   ]
  },
  {
   "cell_type": "code",
   "execution_count": null,
   "metadata": {},
   "outputs": [],
   "source": [
    "def probar_carrusel(carrusel, n_movimientos):\n",
    "    # Proba la carrusel\n",
    "    \n",
    "    return carrusel_girada"
   ]
  },
  {
   "cell_type": "code",
   "execution_count": null,
   "metadata": {},
   "outputs": [],
   "source": [
    "# Corre para ver si tu código esta bien\n",
    "test3(probar_carrusel)"
   ]
  },
  {
   "cell_type": "markdown",
   "metadata": {},
   "source": [
    "Cuando prueba la carrusel se da cuenta que es muy lenta. Debe sacar uno de los animales para que pueda funcionar correctamente. Para eso los manda a pesar y le dicen cual es el que hay que sacar para que funcione perfectamente.\n",
    "\n",
    "Modificar la función anterior para que reciba un string, que es un animal en MAYÚSCULAS (animal_quitar) para sacar y pruebe la función nuevamente.\n",
    "\n",
    "Ej:\n",
    "```Python\n",
    "INPUT:\n",
    "['Unicornio','Oso','Jirafa', 'Pato'. 'Elefante'], animal_quitar = 'JIRAFA', movimientos = 1\n",
    "OUTPUT:\n",
    "['Elefante', 'Unicornio', 'Oso', 'Pato']\n",
    "```"
   ]
  },
  {
   "cell_type": "code",
   "execution_count": null,
   "metadata": {},
   "outputs": [],
   "source": [
    "def probar_carrusel_arreglada(carrusel, n_mov, animal_quitar):\n",
    "    # Arregla la carrusel\n",
    "    \n",
    "    return carrusel_arreglada"
   ]
  },
  {
   "cell_type": "code",
   "execution_count": null,
   "metadata": {},
   "outputs": [],
   "source": [
    "# Corre para ver si tu código esta bien\n",
    "test4(probar_carrusel_arreglada)"
   ]
  }
 ],
 "metadata": {
  "kernelspec": {
   "display_name": "Python 3",
   "language": "python",
   "name": "python3"
  },
  "language_info": {
   "codemirror_mode": {
    "name": "ipython",
    "version": 3
   },
   "file_extension": ".py",
   "mimetype": "text/x-python",
   "name": "python",
   "nbconvert_exporter": "python",
   "pygments_lexer": "ipython3",
   "version": "3.12.6"
  }
 },
 "nbformat": 4,
 "nbformat_minor": 4
}
