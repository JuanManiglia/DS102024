{
 "cells": [
  {
   "cell_type": "markdown",
   "metadata": {},
   "source": [
    "![imagen](./img/ejercicios.png)"
   ]
  },
  {
   "cell_type": "markdown",
   "metadata": {},
   "source": [
    "## Ejercicio 1\n",
    "Dada la siguiente lista:\n",
    "> ```ejer_1 = [1,2,3,4,5]```\n",
    "\n",
    "Inviértela para que quede de la siguiente manera\n",
    "> ```ejer_1 = [5,4,3,2,1]```"
   ]
  },
  {
   "cell_type": "code",
   "execution_count": 4,
   "metadata": {},
   "outputs": [
    {
     "name": "stdout",
     "output_type": "stream",
     "text": [
      "[5, 4, 3, 2, 1]\n"
     ]
    }
   ],
   "source": [
    "ejer_1 = [1,2,3,4,5]\n",
    "ejer_1.reverse()\n",
    "print(ejer_1)"
   ]
  },
  {
   "cell_type": "markdown",
   "metadata": {},
   "source": [
    "## Ejercicio 2\n",
    "Eleva todos los elementos de la lista al cuadrado\n",
    "> ```ejer_2 = [1,2,3,4,5]```"
   ]
  },
  {
   "cell_type": "code",
   "execution_count": 16,
   "metadata": {},
   "outputs": [
    {
     "name": "stdout",
     "output_type": "stream",
     "text": [
      "[1, 4, 9, 16, 25]\n"
     ]
    }
   ],
   "source": [
    "ejer_2 = [1,2,3,4,5]\n",
    "i=0\n",
    "for var in ejer_2:\n",
    "    ejer_2[i]=var**2\n",
    "    i=i+1\n",
    "\n",
    "print(ejer_2)"
   ]
  },
  {
   "cell_type": "markdown",
   "metadata": {},
   "source": [
    "## Ejercicio 3\n",
    "Crea una lista nueva con todas las combinaciones de las siguientes dos listas:\n",
    "> ```ejer_3_1 = [\"Hola\", \"amigo\"]```\n",
    ">\n",
    "> ```ejer_3_2 = [\"Que\", \"tal\"]```\n",
    "\n",
    "Obten el siguiente output:\n",
    "\n",
    "['Hola Que', 'Hola tal', 'amigo Que', 'amigo tal']"
   ]
  },
  {
   "cell_type": "code",
   "execution_count": 20,
   "metadata": {},
   "outputs": [
    {
     "name": "stdout",
     "output_type": "stream",
     "text": [
      "['Hola Que', 'Hola tal', 'amigo Que', 'amigo tal']\n"
     ]
    }
   ],
   "source": [
    "ejer_3_1 = [\"Hola\", \"amigo\"]\n",
    "ejer_3_2 = [\"Que\", \"tal\"]\n",
    "ejer_3=[]\n",
    "for var_1 in ejer_3_1:\n",
    "    for var_2 in ejer_3_2:\n",
    "        ejer_3.append(var_1+\" \"+ var_2)\n",
    "\n",
    "print(ejer_3)"
   ]
  },
  {
   "cell_type": "markdown",
   "metadata": {},
   "source": [
    "## Ejercicio 4\n",
    "Dada la siguiente lista, encuentra el índice del valor 45 y sustitúyelo por el 0\n",
    "> ```ejer_4 = [20, 47, 19, 29, 45, 67, 78, 90]```"
   ]
  },
  {
   "cell_type": "code",
   "execution_count": 21,
   "metadata": {},
   "outputs": [
    {
     "name": "stdout",
     "output_type": "stream",
     "text": [
      "[20, 47, 19, 29, 0, 67, 78, 90]\n"
     ]
    }
   ],
   "source": [
    "ejer_4 = [20, 47, 19, 29, 45, 67, 78, 90]\n",
    "x=0\n",
    "for i in ejer_4:\n",
    "    if i== 45 :\n",
    "        ejer_4[x]=0\n",
    "        x=x+1\n",
    "    x=x+1\n",
    "\n",
    "print(ejer_4)"
   ]
  },
  {
   "cell_type": "markdown",
   "metadata": {},
   "source": [
    "## Ejercicio 5\n",
    "Dada la siguiente lista, elimina todos los valores iguales a 3\n",
    "> ```ejer_5 = [3, 20, 3, 47, 19, 3, 29, 45, 67, 78, 90, 3, 3]```\n",
    "\n",
    "TIP: No intentes eliminar elementos sobre la lista que estás iterando. Haz una copia con `ejer_5.copy()`."
   ]
  },
  {
   "cell_type": "code",
   "execution_count": 22,
   "metadata": {},
   "outputs": [],
   "source": [
    "ejer_5 = [3, 20, 3, 47, 19, 3, 29, 45, 67, 78, 90, 3, 3]"
   ]
  },
  {
   "cell_type": "code",
   "execution_count": 25,
   "metadata": {},
   "outputs": [
    {
     "name": "stdout",
     "output_type": "stream",
     "text": [
      "[3, 20, 3, 47, 19, 3, 29, 45, 67, 78, 90, 3, 3]\n",
      "[20, 47, 19, 29, 45, 67, 78, 90]\n"
     ]
    }
   ],
   "source": [
    "ejer_5_copy=ejer_5.copy()\n",
    "\n",
    "for valor in ejer_5:\n",
    "    if valor==3:\n",
    "        ejer_5_copy.remove(valor)\n",
    "\n",
    "print(ejer_5)\n",
    "print(ejer_5_copy)"
   ]
  },
  {
   "cell_type": "markdown",
   "metadata": {},
   "source": [
    "## Ejercicio 6\n",
    "1. Crea una tupla con 3 elementos\n",
    "2. Crea otra tupla con un elemento y comprueba su tipo\n",
    "3. Crea una tupla con elementos de diferentes tipos\n",
    "4. Imprime por pantalla el primer y ultimo elemento de la tupla del apartado 3. Usa `len` para el ultimo\n",
    "5. Añade un elemento a la tupla del apartado 3.\n",
    "6. Eliminar un elemento de la tupla del apartado 5, que se encuentre más o menos en la mitad.\n",
    "7. Convierte la tupla del apartado 5 en una lista"
   ]
  },
  {
   "cell_type": "code",
   "execution_count": 3,
   "metadata": {},
   "outputs": [
    {
     "name": "stdout",
     "output_type": "stream",
     "text": [
      "<class 'tuple'>\n",
      "<class 'int'>\n",
      "4\n",
      "True\n",
      "(4, 'hola', True, 5)\n",
      "(4, 'hola', 5)\n",
      "[4, 'hola', 5]\n"
     ]
    }
   ],
   "source": [
    "tupla_1=(1,2,4)\n",
    "No_tupla=(1)\n",
    "print(type(tupla_1))\n",
    "print(type(No_tupla))\n",
    "tupla_2=(4,'hola',True)\n",
    "print(tupla_2[0])\n",
    "print(tupla_2[len(tupla_2)-1])\n",
    "tupla_2=tupla_2+(5,)\n",
    "print(tupla_2)\n",
    "#6. Eliminar un elemento de la tupla del apartado 5, que se encuentre más o menos en la mitad.\n",
    "mitad=int(len(tupla_2)/2)\n",
    "tupla_2=tupla_2[:mitad]+tupla_2[mitad+1:]\n",
    "print(tupla_2)\n",
    "#7. Convierte la tupla del apartado 5 en una lista\n",
    "lista=list(tupla_2)\n",
    "print(lista)"
   ]
  },
  {
   "cell_type": "markdown",
   "metadata": {},
   "source": [
    "## Ejercicio 7\n",
    "Concatena todos los elementos de la tupla en un unico string. Para ello utiliza el metodo `.join()` de los Strings\n",
    "> ```ejer_7 = (\"cien\", \"cañones\", \"por\", \"banda\")```\n",
    "\n",
    "Resultado: `cien cañones por banda`"
   ]
  },
  {
   "cell_type": "code",
   "execution_count": 4,
   "metadata": {},
   "outputs": [
    {
     "name": "stdout",
     "output_type": "stream",
     "text": [
      "cien cañones por banda\n"
     ]
    }
   ],
   "source": [
    "ejer_7 = (\"cien\", \"cañones\", \"por\", \"banda\")\n",
    "print(\" \".join(ejer_7))"
   ]
  },
  {
   "cell_type": "markdown",
   "metadata": {},
   "source": [
    "## Ejercicio 8\n",
    "Obten el tercer elemento de la siguiente tupla, y el tercero empezando por la cola\n",
    "> ```ejer_8 = (3, 20, 3, 47, 19, 3, 29, 45, 67, 78, 90, 3, 3)```"
   ]
  },
  {
   "cell_type": "code",
   "execution_count": 5,
   "metadata": {},
   "outputs": [
    {
     "name": "stdout",
     "output_type": "stream",
     "text": [
      "3\n",
      "90\n"
     ]
    }
   ],
   "source": [
    "ejer_8 = (3, 20, 3, 47, 19, 3, 29, 45, 67, 78, 90, 3, 3)\n",
    "print(ejer_8[2])\n",
    "print(ejer_8[-3])"
   ]
  },
  {
   "cell_type": "markdown",
   "metadata": {},
   "source": [
    "## Ejercicio 9\n",
    "1. ¿Cuántas veces se repite el 3 en la siguiente tupla?\n",
    "2. Crea una tupla nueva con los elementos desde la posicion 5 a la 10.\n",
    "3. ¿Cuántos elementos tiene la tupla `ejer_9`?\n",
    "> ```ejer_9 = (3, 20, 3, 47, 19, 3, 29, 45, 67, 78, 90, 3, 3, 5, 2, 4, 7, 9, 4, 2, 4, 3, 3, 4, 6, 7)```"
   ]
  },
  {
   "cell_type": "code",
   "execution_count": 6,
   "metadata": {},
   "outputs": [],
   "source": [
    "ejer_9 = (3, 20, 3, 47, 19, 3, 29, 45, 67, 78, 90, 3, 3, 5, 2, 4, 7, 9, 4, 2, 4, 3, 3, 4, 6, 7)\n"
   ]
  },
  {
   "cell_type": "code",
   "execution_count": 8,
   "metadata": {},
   "outputs": [
    {
     "name": "stdout",
     "output_type": "stream",
     "text": [
      "7\n"
     ]
    }
   ],
   "source": [
    "x=0\n",
    "for valor in ejer_9:\n",
    "    if valor==3:\n",
    "        x=x+1\n",
    "\n",
    "print(x)"
   ]
  },
  {
   "cell_type": "markdown",
   "metadata": {},
   "source": [
    "## Ejercicio 10\n",
    "Comprueba si el numero 60 esta en la tupla del ejercicio 9"
   ]
  },
  {
   "cell_type": "code",
   "execution_count": 9,
   "metadata": {},
   "outputs": [],
   "source": [
    "for valor in ejer_9:\n",
    "    if valor==60:\n",
    "        print(\"El numero 60 esta en la tupla\")\n",
    "        break"
   ]
  },
  {
   "cell_type": "markdown",
   "metadata": {},
   "source": [
    "## Ejercicio 11\n",
    "1. Convierte la tupla del apartado 10 en una lista\n",
    "2. Convierte la tupla del apartado 10 en un set\n",
    "3. Convierte la tupla del apartado 10 en un diccionario. Usa también los indices"
   ]
  },
  {
   "cell_type": "code",
   "execution_count": 10,
   "metadata": {},
   "outputs": [
    {
     "name": "stdout",
     "output_type": "stream",
     "text": [
      "[3, 20, 3, 47, 19, 3, 29, 45, 67, 78, 90, 3, 3, 5, 2, 4, 7, 9, 4, 2, 4, 3, 3, 4, 6, 7]\n",
      "{2, 3, 67, 5, 4, 7, 6, 9, 45, 78, 47, 19, 20, 90, 29}\n",
      "{0: 3, 1: 20, 2: 3, 3: 47, 4: 19, 5: 3, 6: 29, 7: 45, 8: 67, 9: 78, 10: 90, 11: 3, 12: 3, 13: 5, 14: 2, 15: 4, 16: 7, 17: 9, 18: 4, 19: 2, 20: 4, 21: 3, 22: 3, 23: 4, 24: 6, 25: 7}\n"
     ]
    }
   ],
   "source": [
    "lista=list(ejer_9)\n",
    "print(lista)\n",
    "set=set(ejer_9)\n",
    "print(set)\n",
    "dic=dict(enumerate(ejer_9))\n",
    "print(dic)\n"
   ]
  },
  {
   "cell_type": "code",
   "execution_count": null,
   "metadata": {},
   "outputs": [],
   "source": []
  },
  {
   "cell_type": "markdown",
   "metadata": {},
   "source": [
    "## Ejercicio 12\n",
    "Convierte la siguiente lista en un diccionario\n",
    "> ```ejer_12 = [(\"x\", 1), (\"x\", 2), (\"x\", 3), (\"y\", 1), (\"y\", 2), (\"z\", 1)]```\n",
    "\n",
    "TIP: Puedes usar dos variables de control en un bucle `for`. Una por cada valor de las tuplas."
   ]
  },
  {
   "cell_type": "markdown",
   "metadata": {},
   "source": [
    "- tenemos 2 maneras de hacerlo"
   ]
  },
  {
   "cell_type": "markdown",
   "metadata": {},
   "source": [
    "- 1. Pasando directamente la lista a diccionario"
   ]
  },
  {
   "cell_type": "code",
   "execution_count": 11,
   "metadata": {},
   "outputs": [
    {
     "name": "stdout",
     "output_type": "stream",
     "text": [
      "{'x': 3, 'y': 2, 'z': 1}\n"
     ]
    }
   ],
   "source": [
    "ejer_12 = [(\"x\", 1), (\"x\", 2), (\"x\", 3), (\"y\", 1), (\"y\", 2), (\"z\", 1)]\n",
    "\n",
    "diccionario=dict(ejer_12)\n",
    "print(diccionario)"
   ]
  },
  {
   "cell_type": "markdown",
   "metadata": {},
   "source": [
    "- 2. Separando las variables y uniendolas en una lista y despues pasandola a diccionario"
   ]
  },
  {
   "cell_type": "code",
   "execution_count": 12,
   "metadata": {},
   "outputs": [
    {
     "data": {
      "text/plain": [
       "{0: 'x',\n",
       " 1: 1,\n",
       " 2: 'x',\n",
       " 3: 2,\n",
       " 4: 'x',\n",
       " 5: 3,\n",
       " 6: 'y',\n",
       " 7: 1,\n",
       " 8: 'y',\n",
       " 9: 2,\n",
       " 10: 'z',\n",
       " 11: 1}"
      ]
     },
     "execution_count": 12,
     "metadata": {},
     "output_type": "execute_result"
    }
   ],
   "source": [
    "lista=[]\n",
    "for i,x in ejer_12:\n",
    "    lista.append(i)\n",
    "    lista.append(x)\n",
    "\n",
    "dic=dict(enumerate(lista))\n",
    "dic"
   ]
  },
  {
   "cell_type": "markdown",
   "metadata": {},
   "source": [
    "## Ejercicio 13\n",
    "1. Crea una lista ordenada ascendente con las claves del diccionario\n",
    "2. Crea otra lista ordenada descendente con los valores\n",
    "3. Añade una nueva clave/valor\n",
    "4. Busca la clave con el valor de 2 dentro del diccionario\n",
    "5. Itera la clave y el valor del diccionario con un unico for\n",
    "> ```ejer_13 = {4:78, 2:98, 8:234, 5:29}```"
   ]
  },
  {
   "cell_type": "code",
   "execution_count": 24,
   "metadata": {},
   "outputs": [
    {
     "name": "stdout",
     "output_type": "stream",
     "text": [
      "[2, 4, 5, 8]\n",
      "[234, 98, 78, 29]\n",
      "{4: 78, 2: 98, 8: 234, 5: 29, 1: 100}\n",
      "la clave con el valor 2 es 2  y el valor es 98\n",
      "4 78\n",
      "2 98\n",
      "8 234\n",
      "5 29\n",
      "1 100\n"
     ]
    }
   ],
   "source": [
    "ejer_13 = {4:78, 2:98, 8:234, 5:29}\n",
    "lista=list(ejer_13.keys())\n",
    "lista.sort()\n",
    "print(lista)\n",
    "lista_2=list(ejer_13.values())\n",
    "lista_2.sort(reverse=True)\n",
    "print(lista_2)\n",
    "ejer_13[1]=100  \n",
    "print(ejer_13)\n",
    "\n",
    "for i,j in ejer_13.items():\n",
    "    if i==2:\n",
    "        print('la clave con el valor 2 es',i,' y el valor es',j)\n",
    "        break\n",
    "\n",
    "for i,x in ejer_13.items():\n",
    "    print(i,x)"
   ]
  },
  {
   "cell_type": "markdown",
   "metadata": {},
   "source": [
    "## Ejercicio 14\n",
    "Junta ambos diccionarios. Para ello, utiliza `update`\n",
    "> ```ejer_14_1 = {1: 11, 2: 22}```\n",
    ">\n",
    "> ```ejer_14_2 = {3: 33, 4: 44}```"
   ]
  },
  {
   "cell_type": "code",
   "execution_count": 25,
   "metadata": {},
   "outputs": [
    {
     "name": "stdout",
     "output_type": "stream",
     "text": [
      "{1: 11, 2: 22, 3: 33, 4: 44}\n"
     ]
    }
   ],
   "source": [
    "ejer_14_1 = {1: 11, 2: 22}\n",
    "ejer_14_2 = {3: 33, 4: 44}\n",
    "ejer_14_1.update(ejer_14_2)\n",
    "print(ejer_14_1)"
   ]
  },
  {
   "cell_type": "markdown",
   "metadata": {},
   "source": [
    "## Ejercicio 15\n",
    "Suma todos los valores del dicionario\n",
    "> ```ejer_15 = {1: 11, 2: 22, 3: 33, 4: 44, 5: 55}```"
   ]
  },
  {
   "cell_type": "code",
   "execution_count": 26,
   "metadata": {},
   "outputs": [
    {
     "name": "stdout",
     "output_type": "stream",
     "text": [
      "165\n"
     ]
    }
   ],
   "source": [
    "ejer_15 = {1: 11, 2: 22, 3: 33, 4: 44, 5: 55}\n",
    "suma=0\n",
    "for i in ejer_15.values():\n",
    "    suma=suma+i\n",
    "\n",
    "print(suma)"
   ]
  },
  {
   "cell_type": "markdown",
   "metadata": {},
   "source": [
    "## Ejercicio 16\n",
    "Multiplica todos los valores del diccionario\n",
    "> ```ejer_16 = {1: 11, 2: 22, 3: 33, 4: 44, 5: 55}```"
   ]
  },
  {
   "cell_type": "code",
   "execution_count": 27,
   "metadata": {},
   "outputs": [
    {
     "name": "stdout",
     "output_type": "stream",
     "text": [
      "19326120\n"
     ]
    }
   ],
   "source": [
    "ejer_15 = {1: 11, 2: 22, 3: 33, 4: 44, 5: 55}\n",
    "multiplicacion=1\n",
    "for i in ejer_15.values():\n",
    "    multiplicacion=multiplicacion*i\n",
    "\n",
    "print(multiplicacion)"
   ]
  },
  {
   "cell_type": "markdown",
   "metadata": {},
   "source": [
    "## Ejercicio 17\n",
    "1. Crea un set de tres elementos\n",
    "2. Añade un cuarto\n",
    "3. Elimina el utlimo elemento añadido\n",
    "4. Elimina el elemento 10, si está presente. Usa `discard()`"
   ]
  },
  {
   "cell_type": "code",
   "execution_count": 35,
   "metadata": {},
   "outputs": [
    {
     "name": "stdout",
     "output_type": "stream",
     "text": [
      "{1, 2, 3, 4}\n",
      "{1, 2, 3}\n",
      "{1, 2, 3}\n"
     ]
    }
   ],
   "source": [
    "\n",
    "eje_17={1,2,3}\n",
    "eje_17.add(4)\n",
    "print(eje_17)\n",
    "#Elimina el utlimo elemento añadido\n",
    "eje_17.remove(4)\n",
    "print(eje_17)\n",
    "eje_17.discard(10)\n",
    "print(eje_17)"
   ]
  }
 ],
 "metadata": {
  "kernelspec": {
   "display_name": "Python 3",
   "language": "python",
   "name": "python3"
  },
  "language_info": {
   "codemirror_mode": {
    "name": "ipython",
    "version": 3
   },
   "file_extension": ".py",
   "mimetype": "text/x-python",
   "name": "python",
   "nbconvert_exporter": "python",
   "pygments_lexer": "ipython3",
   "version": "3.12.6"
  }
 },
 "nbformat": 4,
 "nbformat_minor": 4
}
