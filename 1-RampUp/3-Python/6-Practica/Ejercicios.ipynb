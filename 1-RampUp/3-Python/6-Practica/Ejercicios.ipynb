{
 "cells": [
  {
   "cell_type": "code",
   "execution_count": 6,
   "metadata": {},
   "outputs": [
    {
     "name": "stdout",
     "output_type": "stream",
     "text": [
      "Eres menor de edad\n"
     ]
    }
   ],
   "source": [
    "pregunta_edad = int(input('Cual es tu edad?'))\n",
    "\n",
    "if pregunta_edad > 18:\n",
    "    print('Eres mayor de edad')\n",
    "else:\n",
    "    print('Eres menor de edad')"
   ]
  },
  {
   "cell_type": "code",
   "execution_count": 8,
   "metadata": {},
   "outputs": [
    {
     "name": "stdout",
     "output_type": "stream",
     "text": [
      "El numero 7 es impar\n"
     ]
    }
   ],
   "source": [
    "par_o_impar = int(input('Dime un numero y te dire si es par o impar: '))\n",
    "\n",
    "if par_o_impar % 2 == 0:\n",
    "    print(f'El numero {par_o_impar} es par')\n",
    "else:\n",
    "    print(f'El numero {par_o_impar} es impar')"
   ]
  },
  {
   "cell_type": "code",
   "execution_count": 18,
   "metadata": {},
   "outputs": [
    {
     "name": "stdout",
     "output_type": "stream",
     "text": [
      "[1]\n",
      "[1, 2]\n",
      "[1, 2, 3]\n",
      "[1, 2, 3, 4]\n",
      "[1, 2, 3, 4, 5]\n"
     ]
    }
   ],
   "source": [
    "lista = [1,2,3,4,5]\n",
    "lista2 = []\n",
    "\n",
    "for num in lista:\n",
    "    lista2.append(num)\n",
    "    print(lista2)"
   ]
  },
  {
   "cell_type": "code",
   "execution_count": 29,
   "metadata": {},
   "outputs": [
    {
     "name": "stdout",
     "output_type": "stream",
     "text": [
      "['o', 'n', 'd', 'b', 'a']\n"
     ]
    }
   ],
   "source": [
    "palabra = list(input('Escribe aca una palabra: '))\n",
    "\n",
    "palabra.sort()\n",
    "palabra.reverse()\n",
    "print(palabra)\n",
    "\n"
   ]
  },
  {
   "cell_type": "code",
   "execution_count": 11,
   "metadata": {},
   "outputs": [
    {
     "name": "stdout",
     "output_type": "stream",
     "text": [
      "['a', 'd', 'h']\n"
     ]
    }
   ],
   "source": [
    "abecedario = ['a','b','c','d','f','g','h','i']\n",
    "abecedario_nuevo = []\n",
    "\n",
    "for letra in range(len(abecedario)):\n",
    "    if letra % 3 == 0:\n",
    "        abecedario_nuevo.append(abecedario[letra])\n",
    "print(abecedario_nuevo)\n"
   ]
  }
 ],
 "metadata": {
  "kernelspec": {
   "display_name": "Python 3",
   "language": "python",
   "name": "python3"
  },
  "language_info": {
   "codemirror_mode": {
    "name": "ipython",
    "version": 3
   },
   "file_extension": ".py",
   "mimetype": "text/x-python",
   "name": "python",
   "nbconvert_exporter": "python",
   "pygments_lexer": "ipython3",
   "version": "3.12.6"
  }
 },
 "nbformat": 4,
 "nbformat_minor": 2
}
