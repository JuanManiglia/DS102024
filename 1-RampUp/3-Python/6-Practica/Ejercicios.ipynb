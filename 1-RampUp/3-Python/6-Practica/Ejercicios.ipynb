{
 "cells": [
  {
   "cell_type": "code",
   "execution_count": 49,
   "metadata": {},
   "outputs": [
    {
     "name": "stdout",
     "output_type": "stream",
     "text": [
      "Eres menor de edad\n"
     ]
    }
   ],
   "source": [
    "pregunta_edad = int(input('Cual es tu edad?'))\n",
    "\n",
    "if pregunta_edad > 18:\n",
    "    print('Eres mayor de edad')\n",
    "else:\n",
    "    print('Eres menor de edad')"
   ]
  },
  {
   "cell_type": "code",
   "execution_count": 8,
   "metadata": {},
   "outputs": [
    {
     "name": "stdout",
     "output_type": "stream",
     "text": [
      "El numero 7 es impar\n"
     ]
    }
   ],
   "source": [
    "par_o_impar = int(input('Dime un numero y te dire si es par o impar: '))\n",
    "\n",
    "if par_o_impar % 2 == 0:\n",
    "    print(f'El numero {par_o_impar} es par')\n",
    "else:\n",
    "    print(f'El numero {par_o_impar} es impar')"
   ]
  },
  {
   "cell_type": "code",
   "execution_count": 50,
   "metadata": {},
   "outputs": [
    {
     "name": "stdout",
     "output_type": "stream",
     "text": [
      "*\n",
      "**\n",
      "***\n",
      "****\n",
      "*****\n"
     ]
    }
   ],
   "source": [
    "filas = 6\n",
    "\n",
    "for i in range(1, filas):\n",
    "    print('*' * i)\n"
   ]
  },
  {
   "cell_type": "code",
   "execution_count": 29,
   "metadata": {},
   "outputs": [
    {
     "name": "stdout",
     "output_type": "stream",
     "text": [
      "['o', 'n', 'd', 'b', 'a']\n"
     ]
    }
   ],
   "source": [
    "palabra = list(input('Escribe aca una palabra: '))\n",
    "\n",
    "palabra.sort()\n",
    "palabra.reverse()\n",
    "print(palabra)\n",
    "\n"
   ]
  },
  {
   "cell_type": "code",
   "execution_count": 2,
   "metadata": {},
   "outputs": [
    {
     "name": "stdout",
     "output_type": "stream",
     "text": [
      "['b', 'c', 'f', 'g', 'i', ' j', 'l', 'm', 'ñ', 'o', 'q', 'r', 't', 'u', 'w', 'x', 'z']\n"
     ]
    }
   ],
   "source": [
    "abecedario = ['a','b','c','d','f','g','h','i',' j', 'k', 'l', 'm', 'n', 'ñ', 'o', 'p', 'q', 'r', 's', 't', 'u', 'v', 'w', 'x', 'y', 'z' ]\n",
    "abecedario_nuevo = []\n",
    "\n",
    "for letra in range(len(abecedario)):\n",
    "    if letra % 3 == 0:\n",
    "        continue \n",
    "    else:\n",
    "        abecedario_nuevo.append(abecedario[letra])\n",
    "print(abecedario_nuevo)\n"
   ]
  },
  {
   "cell_type": "code",
   "execution_count": null,
   "metadata": {},
   "outputs": [],
   "source": [
    "frutas = {'Pera':2.5,\n",
    "          'Manzana':3.0,\n",
    "          'Platano':2.2,\n",
    "          'Uva':1.5,\n",
    "          'Mandarina':3.5}\n",
    "\n",
    "pregunta = input('Que fruta deseas?: ')\n",
    "a = pregunta.title()\n",
    "pregunta2 = int(input('Cuantos kilos deseas?: '))\n",
    "\n",
    "for key,value in frutas.items():\n",
    "    if key == a:\n",
    "        print(f'El precio total es de: {pregunta2 * value}')\n",
    "        break\n",
    "else:\n",
    "    print('La fruta seleccioanda no esta disponible')"
   ]
  },
  {
   "cell_type": "code",
   "execution_count": 44,
   "metadata": {},
   "outputs": [
    {
     "data": {
      "text/plain": [
       "'La media de los nuemros que indicas es: 225.83333333333334 y la mediana: 172.5'"
      ]
     },
     "execution_count": 44,
     "metadata": {},
     "output_type": "execute_result"
    }
   ],
   "source": [
    "from numpy import *\n",
    "\n",
    "def media_mediana(*args):\n",
    "    a = mean(args)\n",
    "    b = median(args)\n",
    "    return f'La media de los nuemros que indicas es: {a} y la mediana: {b}'\n",
    "\n",
    "lista3 = [150, 400, 160, 300, 170, 175]\n",
    "\n",
    "media_mediana(lista3)"
   ]
  },
  {
   "cell_type": "code",
   "execution_count": 48,
   "metadata": {},
   "outputs": [
    {
     "name": "stdout",
     "output_type": "stream",
     "text": [
      "El pais con las iniciales \"ES\" es: España\n"
     ]
    }
   ],
   "source": [
    "paises = {\n",
    "    \"ES\": \"España\",\n",
    "    \"US\": \"Estados Unidos\",\n",
    " }\n",
    "codigo_pais = input(\"Introduce el código del país \").upper()\n",
    "pais = paises.get(codigo_pais, \"Código de país no encontrado\")\n",
    "print(f'El pais con las iniciales \"{codigo_pais}\" es: {pais}')\n"
   ]
  },
  {
   "cell_type": "code",
   "execution_count": 23,
   "metadata": {},
   "outputs": [
    {
     "data": {
      "text/plain": [
       "'brazos'"
      ]
     },
     "execution_count": 23,
     "metadata": {},
     "output_type": "execute_result"
    }
   ],
   "source": [
    "# def que_hago(dia):\n",
    "\n",
    "#   diccionario = {'lunes':'piernas',\n",
    "# 'martes':'brazos',\n",
    "# 'miercoles':'abdomen',\n",
    "# 'jueves':'cardio',\n",
    "# 'viernes':'cerveza',\n",
    "# 'sabado':'pizza',\n",
    "# 'domingo':'descansa',}\n",
    "  \n",
    "  \n",
    "#   try:\n",
    "#       return diccionario[dia]\n",
    "\n",
    "#   except KeyError:\n",
    "#     print('Error')\n",
    "\n",
    "\n",
    "# que_hago('martes')\n",
    "\n",
    "\n",
    "    \n",
    "\n",
    "\n",
    "\n"
   ]
  },
  {
   "cell_type": "code",
   "execution_count": 37,
   "metadata": {},
   "outputs": [],
   "source": [
    "def que_hago(dia):\n",
    "\n",
    "    diccionario = {'lunes':'piernas',\n",
    "'martes':'brazos',\n",
    "'miercoles':'abdomen',\n",
    "'jueves':'cardio',\n",
    "'viernes':'cerveza',\n",
    "'sabado':'pizza',\n",
    "'domingo':'descansa',}\n",
    " \n",
    "\n",
    "# while dia in diccionario.items():\n",
    "    # return diccionario.keys()\n",
    " \n",
    "que_hago('martes')"
   ]
  },
  {
   "cell_type": "code",
   "execution_count": 43,
   "metadata": {},
   "outputs": [
    {
     "name": "stdout",
     "output_type": "stream",
     "text": [
      "brazos\n"
     ]
    }
   ],
   "source": [
    "diccionario = {'lunes':'piernas',\n",
    "'martes':'brazos',\n",
    "'miercoles':'abdomen',\n",
    "'jueves':'cardio',\n",
    "'viernes':'cerveza',\n",
    "'sabado':'pizza',\n",
    "'domingo':'descansa',}\n",
    "\n",
    "dia='martes'\n",
    "\n",
    "i = 0\n",
    "\n",
    "for i in range(len(diccionario.keys())):\n",
    "    while dia == list(diccionario.items())[i][0]:\n",
    "        print(diccionario[dia])\n",
    "        break\n",
    "\n",
    "\n",
    "    "
   ]
  },
  {
   "cell_type": "code",
   "execution_count": 149,
   "metadata": {},
   "outputs": [
    {
     "name": "stdout",
     "output_type": "stream",
     "text": [
      "1 2 3 4 5 6 7 8 9 10\n"
     ]
    }
   ],
   "source": [
    "lista = []\n",
    "\n",
    "for num in range(1,11):\n",
    "    lista.append(num)\n",
    "print(*lista)"
   ]
  },
  {
   "cell_type": "code",
   "execution_count": 53,
   "metadata": {},
   "outputs": [
    {
     "data": {
      "text/plain": [
       "7"
      ]
     },
     "execution_count": 53,
     "metadata": {},
     "output_type": "execute_result"
    }
   ],
   "source": [
    "def suma(x:int,y:int)->int:\n",
    "    return x+y\n",
    "\n",
    "suma(5,2)"
   ]
  },
  {
   "cell_type": "code",
   "execution_count": 54,
   "metadata": {},
   "outputs": [
    {
     "name": "stdout",
     "output_type": "stream",
     "text": [
      "El numero 6 es par\n"
     ]
    }
   ],
   "source": [
    "par_o_impar = int(input('Dime un numero y te dire si es par o impar: '))\n",
    "\n",
    "if par_o_impar % 2 == 0:\n",
    "    print(f'El numero {par_o_impar} es par')\n",
    "else:\n",
    "    print(f'El numero {par_o_impar} es impar')"
   ]
  },
  {
   "cell_type": "code",
   "execution_count": 170,
   "metadata": {},
   "outputs": [
    {
     "data": {
      "text/plain": [
       "'satse omoc aloh'"
      ]
     },
     "execution_count": 170,
     "metadata": {},
     "output_type": "execute_result"
    }
   ],
   "source": [
    "def reverso(arg):\n",
    "   return arg[::-1]\n",
    "\n",
    "\n",
    "reverso('hola como estas')\n",
    "  "
   ]
  },
  {
   "cell_type": "code",
   "execution_count": 69,
   "metadata": {},
   "outputs": [
    {
     "name": "stdout",
     "output_type": "stream",
     "text": [
      "tu numero es positivo\n"
     ]
    }
   ],
   "source": [
    "dime_numero = int(input('Dime un numero: '))\n",
    "\n",
    "if dime_numero > 0:\n",
    "    print('tu numero es positivo')\n",
    "elif dime_numero == 0:\n",
    "    print('Tu numero es un 0')\n",
    "else:\n",
    "    print('tu numero es negativo')"
   ]
  },
  {
   "cell_type": "code",
   "execution_count": 70,
   "metadata": {},
   "outputs": [
    {
     "data": {
      "text/plain": [
       "21"
      ]
     },
     "execution_count": 70,
     "metadata": {},
     "output_type": "execute_result"
    }
   ],
   "source": [
    "lista_contar = [1,2,3,4,5,6]\n",
    "\n",
    "sum(lista_contar)"
   ]
  },
  {
   "cell_type": "code",
   "execution_count": 181,
   "metadata": {},
   "outputs": [
    {
     "name": "stdout",
     "output_type": "stream",
     "text": [
      "4\n"
     ]
    }
   ],
   "source": [
    "hay_vocales = input('Dime una plabra te dira cuantas vocales tiene')\n",
    "contador = 0\n",
    "\n",
    "for letra in hay_vocales:\n",
    "     if 'a' in letra:\n",
    "          contador = contador + 1\n",
    "     elif 'e' in letra:\n",
    "          contador = contador + 1\n",
    "     elif 'i' in letra:\n",
    "          contador = contador + 1\n",
    "     elif 'o' in letra:\n",
    "          contador = contador + 1\n",
    "     elif 'u' in letra:\n",
    "          contador = contador + 1\n",
    "          \n",
    "else:\n",
    "     print(contador)\n",
    "     \n",
    "          "
   ]
  },
  {
   "cell_type": "code",
   "execution_count": 82,
   "metadata": {},
   "outputs": [
    {
     "data": {
      "text/plain": [
       "120"
      ]
     },
     "execution_count": 82,
     "metadata": {},
     "output_type": "execute_result"
    }
   ],
   "source": [
    "def factorial(x:int) -> int:\n",
    "    \n",
    "    if x == 1:\n",
    "        return 1\n",
    "    \n",
    "    else:\n",
    "        return x * factorial(x-1)\n",
    "    \n",
    "\n",
    "factorial(5)"
   ]
  },
  {
   "cell_type": "code",
   "execution_count": 200,
   "metadata": {},
   "outputs": [
    {
     "data": {
      "text/plain": [
       "['♠️4', '♥️9', '♠️3', '♦️J', '♠️2']"
      ]
     },
     "execution_count": 200,
     "metadata": {},
     "output_type": "execute_result"
    }
   ],
   "source": [
    "import random\n",
    "\n",
    "palos = ['♥️', '♦️', '♣️', '♠️']\n",
    "valores = ['2', '3', '4', \n",
    "         '5', '6', '7', '8', \n",
    "         '9', '10', 'J', 'Q', 'K','A']\n",
    "barajas_entera = []\n",
    "\n",
    "for palo in palos:\n",
    "    for valor in valores:\n",
    "        a = \"\".join(palo+valor)\n",
    "        barajas_entera.append(a)\n",
    "random.sample(barajas_entera,5)\n",
    "\n",
    "        "
   ]
  },
  {
   "cell_type": "code",
   "execution_count": 188,
   "metadata": {},
   "outputs": [],
   "source": [
    "from random import sample\n",
    "def contrasena(longitud):\n",
    "\n",
    " letras = 'abcdefghijklmnopqrstuxyzABCDEFGHIJKLMOPQRSTUXYZ'\n",
    " simbolos = '{}[]()*;/,_-'\n",
    " numeros = '1234567890'\n",
    "\n",
    " contrasena = letras + simbolos + numeros\n",
    " resultado = sample(contrasena,longitud)\n",
    " password = ''.join(resultado)\n",
    "\n",
    " return password\n"
   ]
  },
  {
   "cell_type": "code",
   "execution_count": 195,
   "metadata": {},
   "outputs": [
    {
     "data": {
      "text/plain": [
       "'GcO/Af*M-8'"
      ]
     },
     "execution_count": 195,
     "metadata": {},
     "output_type": "execute_result"
    }
   ],
   "source": [
    "contrasena(10)"
   ]
  }
 ],
 "metadata": {
  "kernelspec": {
   "display_name": "Python 3",
   "language": "python",
   "name": "python3"
  },
  "language_info": {
   "codemirror_mode": {
    "name": "ipython",
    "version": 3
   },
   "file_extension": ".py",
   "mimetype": "text/x-python",
   "name": "python",
   "nbconvert_exporter": "python",
   "pygments_lexer": "ipython3",
   "version": "3.12.6"
  }
 },
 "nbformat": 4,
 "nbformat_minor": 2
}
