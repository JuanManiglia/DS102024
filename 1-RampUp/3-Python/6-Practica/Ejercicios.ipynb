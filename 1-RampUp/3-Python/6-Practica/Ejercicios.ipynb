{
 "cells": [
  {
   "cell_type": "code",
   "execution_count": 49,
   "metadata": {},
   "outputs": [
    {
     "name": "stdout",
     "output_type": "stream",
     "text": [
      "Eres menor de edad\n"
     ]
    }
   ],
   "source": [
    "pregunta_edad = int(input('Cual es tu edad?'))\n",
    "\n",
    "if pregunta_edad > 18:\n",
    "    print('Eres mayor de edad')\n",
    "else:\n",
    "    print('Eres menor de edad')"
   ]
  },
  {
   "cell_type": "code",
   "execution_count": 8,
   "metadata": {},
   "outputs": [
    {
     "name": "stdout",
     "output_type": "stream",
     "text": [
      "El numero 7 es impar\n"
     ]
    }
   ],
   "source": [
    "par_o_impar = int(input('Dime un numero y te dire si es par o impar: '))\n",
    "\n",
    "if par_o_impar % 2 == 0:\n",
    "    print(f'El numero {par_o_impar} es par')\n",
    "else:\n",
    "    print(f'El numero {par_o_impar} es impar')"
   ]
  },
  {
   "cell_type": "code",
   "execution_count": 50,
   "metadata": {},
   "outputs": [
    {
     "name": "stdout",
     "output_type": "stream",
     "text": [
      "*\n",
      "**\n",
      "***\n",
      "****\n",
      "*****\n"
     ]
    }
   ],
   "source": [
    "filas = 6\n",
    "\n",
    "for i in range(1, filas):\n",
    "    print('*' * i)\n"
   ]
  },
  {
   "cell_type": "code",
   "execution_count": 29,
   "metadata": {},
   "outputs": [
    {
     "name": "stdout",
     "output_type": "stream",
     "text": [
      "['o', 'n', 'd', 'b', 'a']\n"
     ]
    }
   ],
   "source": [
    "palabra = list(input('Escribe aca una palabra: '))\n",
    "\n",
    "palabra.sort()\n",
    "palabra.reverse()\n",
    "print(palabra)\n",
    "\n"
   ]
  },
  {
   "cell_type": "code",
   "execution_count": 40,
   "metadata": {},
   "outputs": [
    {
     "name": "stdout",
     "output_type": "stream",
     "text": [
      "['a', 'd', 'h', 'k', 'n', 'p', 's', 'v', 'y']\n"
     ]
    }
   ],
   "source": [
    "abecedario = ['a','b','c','d','f','g','h','i',' j', 'k', 'l', 'm', 'n', 'ñ', 'o', 'p', 'q', 'r', 's', 't', 'u', 'v', 'w', 'x', 'y', 'z' ]\n",
    "abecedario_nuevo = []\n",
    "\n",
    "for letra in range(len(abecedario)):\n",
    "    if letra % 3 == 0:\n",
    "        abecedario_nuevo.append(abecedario[letra])\n",
    "print(abecedario_nuevo)\n"
   ]
  },
  {
   "cell_type": "code",
   "execution_count": null,
   "metadata": {},
   "outputs": [],
   "source": [
    "frutas = {'Pera':2.5,\n",
    "          'Manzana':3.0,\n",
    "          'Platano':2.2,\n",
    "          'Uva':1.5,\n",
    "          'Mandarina':3.5}\n",
    "\n",
    "pregunta = input('Que fruta deseas?: ')\n",
    "a = pregunta.title()\n",
    "pregunta2 = int(input('Cuantos kilos deseas?: '))\n",
    "\n",
    "for key,value in frutas.items():\n",
    "    if key == a:\n",
    "        print(f'El precio total es de: {pregunta2 * value}')\n",
    "        break\n",
    "else:\n",
    "    print('La fruta seleccioanda no esta disponible')"
   ]
  },
  {
   "cell_type": "code",
   "execution_count": 44,
   "metadata": {},
   "outputs": [
    {
     "data": {
      "text/plain": [
       "'La media de los nuemros que indicas es: 225.83333333333334 y la mediana: 172.5'"
      ]
     },
     "execution_count": 44,
     "metadata": {},
     "output_type": "execute_result"
    }
   ],
   "source": [
    "from numpy import *\n",
    "\n",
    "def media_mediana(*args):\n",
    "    a = mean(args)\n",
    "    b = median(args)\n",
    "    return f'La media de los nuemros que indicas es: {a} y la mediana: {b}'\n",
    "\n",
    "lista3 = [150, 400, 160, 300, 170, 175]\n",
    "\n",
    "media_mediana(lista3)"
   ]
  },
  {
   "cell_type": "code",
   "execution_count": 48,
   "metadata": {},
   "outputs": [
    {
     "name": "stdout",
     "output_type": "stream",
     "text": [
      "El pais con las iniciales \"ES\" es: España\n"
     ]
    }
   ],
   "source": [
    "paises = {\n",
    "    \"ES\": \"España\",\n",
    "    \"US\": \"Estados Unidos\",\n",
    " }\n",
    "codigo_pais = input(\"Introduce el código del país \").upper()\n",
    "pais = paises.get(codigo_pais, \"Código de país no encontrado\")\n",
    "print(f'El pais con las iniciales \"{codigo_pais}\" es: {pais}')\n"
   ]
  }
 ],
 "metadata": {
  "kernelspec": {
   "display_name": "Python 3",
   "language": "python",
   "name": "python3"
  },
  "language_info": {
   "codemirror_mode": {
    "name": "ipython",
    "version": 3
   },
   "file_extension": ".py",
   "mimetype": "text/x-python",
   "name": "python",
   "nbconvert_exporter": "python",
   "pygments_lexer": "ipython3",
   "version": "3.12.6"
  }
 },
 "nbformat": 4,
 "nbformat_minor": 2
}
