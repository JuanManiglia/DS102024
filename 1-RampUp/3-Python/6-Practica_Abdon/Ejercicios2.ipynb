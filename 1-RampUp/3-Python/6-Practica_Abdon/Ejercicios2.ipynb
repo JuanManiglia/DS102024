{
 "cells": [
  {
   "cell_type": "code",
   "execution_count": 10,
   "metadata": {},
   "outputs": [
    {
     "name": "stdout",
     "output_type": "stream",
     "text": [
      "['i', 'H', '1', '7', 'Y']\n",
      "iH17Y\n"
     ]
    }
   ],
   "source": [
    "from random import sample\n",
    "\n",
    "longitud = 10\n",
    "letras = 'abcdefghijklmnopqrstuxyzABCDEFGHIJKLMOPQRSTUXYZ'\n",
    "simbolos = '{}[]()*;/,_-'\n",
    "numeros = '1234567890'\n",
    "\n",
    "contrasena = letras + simbolos + numeros\n",
    "resultado = sample(contrasena,5)\n",
    "print(resultado)\n",
    "password = ''.join(resultado)\n",
    "\n",
    "print(password)"
   ]
  }
 ],
 "metadata": {
  "kernelspec": {
   "display_name": "Python 3",
   "language": "python",
   "name": "python3"
  },
  "language_info": {
   "codemirror_mode": {
    "name": "ipython",
    "version": 3
   },
   "file_extension": ".py",
   "mimetype": "text/x-python",
   "name": "python",
   "nbconvert_exporter": "python",
   "pygments_lexer": "ipython3",
   "version": "3.12.6"
  }
 },
 "nbformat": 4,
 "nbformat_minor": 2
}
