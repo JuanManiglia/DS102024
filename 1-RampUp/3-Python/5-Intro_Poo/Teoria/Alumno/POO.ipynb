{
 "cells": [
  {
   "cell_type": "markdown",
   "metadata": {},
   "source": [
    "## Programacion Orientada a Objetos (POO) con Python\n",
    "\n",
    "La programacion orientada a objetos es un paradigma de programacion, en otras palabras es una forma de resolver problemas siguiendo una metodologia en particular, en este caso es una forma especial de programar, más cercana a como expresaríamos las cosas en la vida real.\n",
    "\n",
    "Tenemos que aprender a pensar las cosas de una manera distinta para poder escribir nuestros programas en términos de objetos, propiedades y métodos; la POO tiene como principio que todo en la vida es un objeto programable, entonces para empezar a programar con este paradigma, tendríamos que empezar con desarrollar nuestro pensamiento basado en objetos.\n",
    "\n",
    "Pensar en términos de objetos es pensar de manera natural como lo haríamos en la vida real. Un objeto contiene propiedades que almacenan valores y metodos que le añaden funcionalidad. Por ejemplo:\n",
    "al pensar en una espada como un objeto para ser programado, diriamos que la espada contiene una serie de caracteristicas, como podria ser el filo, el nombre, el daño o el color; además tiene una serie de funcionalidades o métodos asociados al mismo, como pueden ser: cortar o atacar.\n",
    "\n",
    "En un esquema POO la espada sería el objeto, las propiedades serían las características como el filo o el daño y los métodos serían las funcionalidades asociadas como cortar o atacar.\n",
    "\n",
    "vamos a ver esto de manera practica para entenderlo mejor.."
   ]
  },
  {
   "cell_type": "markdown",
   "metadata": {},
   "source": [
    "![img1_copy](img1_copy.png)"
   ]
  },
  {
   "cell_type": "code",
   "execution_count": 2,
   "metadata": {},
   "outputs": [],
   "source": [
    "espada = {\n",
    "    'daño': 9,\n",
    "    'filo':8\n",
    "}\n"
   ]
  },
  {
   "cell_type": "markdown",
   "metadata": {},
   "source": [
    "como vimos en la imagen de arriba el objeto espada contiene la propiedad daño con un valor de 9 y filo con un valor de 8, tambien se puede apreciar que las propiedades se separan unas de otras por medio de una coma \",\"."
   ]
  },
  {
   "cell_type": "markdown",
   "metadata": {},
   "source": [
    "Ahora supongamos que tenemos un objeto llamado kraken 🦑 el cual es un mounstruo marino, este objeto contendra propiedades como nombre, tipo, vida y resistencia. para crear dicho objeto escribamos el siguiente codigo:"
   ]
  },
  {
   "cell_type": "markdown",
   "metadata": {},
   "source": [
    "![img2_copy](img2_copy.png)"
   ]
  },
  {
   "cell_type": "markdown",
   "metadata": {},
   "source": [
    "como vimos en la imagen anterior, para acceder a una propiedad de un objeto se hace mediante el nombre del objeto seguido por el nombre de la propiedad entre corchetes [] ejemplo: Kraken['vida'] esto retornara 12"
   ]
  },
  {
   "cell_type": "code",
   "execution_count": 1,
   "metadata": {},
   "outputs": [],
   "source": [
    "kraken = {\n",
    "          'nombre' : 'Kraken',\n",
    "          'tipo' : 'marino',\n",
    "          'vida' : 12,\n",
    "          'resistencia' : 2\n",
    "         }"
   ]
  },
  {
   "cell_type": "code",
   "execution_count": 3,
   "metadata": {},
   "outputs": [
    {
     "ename": "KeyError",
     "evalue": "'nombtre'",
     "output_type": "error",
     "traceback": [
      "\u001b[1;31m---------------------------------------------------------------------------\u001b[0m",
      "\u001b[1;31mKeyError\u001b[0m                                  Traceback (most recent call last)",
      "Cell \u001b[1;32mIn[3], line 2\u001b[0m\n\u001b[0;32m      1\u001b[0m \u001b[38;5;66;03m#nombre\u001b[39;00m\n\u001b[1;32m----> 2\u001b[0m \u001b[38;5;28mprint\u001b[39m(\u001b[43mkraken\u001b[49m\u001b[43m[\u001b[49m\u001b[38;5;124;43m'\u001b[39;49m\u001b[38;5;124;43mnombtre\u001b[39;49m\u001b[38;5;124;43m'\u001b[39;49m\u001b[43m]\u001b[49m)\n\u001b[0;32m      3\u001b[0m \u001b[38;5;66;03m#tipo\u001b[39;00m\n\u001b[0;32m      4\u001b[0m \u001b[38;5;28mprint\u001b[39m(kraken[\u001b[38;5;124m'\u001b[39m\u001b[38;5;124mtipo\u001b[39m\u001b[38;5;124m'\u001b[39m])\n",
      "\u001b[1;31mKeyError\u001b[0m: 'nombtre'"
     ]
    }
   ],
   "source": [
    "#nombre\n",
    "print(kraken['nombtre'])\n",
    "#tipo\n",
    "print(kraken['tipo'])\n",
    "#vida\n",
    "print(kraken['vida'])\n",
    "#resistencia\n",
    "print(kraken['resistencia'])"
   ]
  },
  {
   "cell_type": "markdown",
   "metadata": {},
   "source": [
    "Ahora que ya sabemos crear un objeto de manera estática veamos como crearlo a partir de una plantilla o clase\n",
    "\n",
    "Una Clase es una plantilla para crear un nuevo objeto donde podemos definir que propiedades y métodos contendrá el objeto .\n",
    "\n",
    "Pensemos en las clases como plantillas con las que podemos crear uno o varios objetos que tendrán más o menos la misma estructura. En el siguiente ejemplo crearemos una plantilla para crear espadas las cuales contendrán propiedades tales como nombre, rareza, daño, filo y un método llamado atacar() el cual restara vida a un objetivo dado:"
   ]
  },
  {
   "cell_type": "markdown",
   "metadata": {},
   "source": [
    "![img3_copy](img3_copy.png)"
   ]
  },
  {
   "cell_type": "code",
   "execution_count": 4,
   "metadata": {},
   "outputs": [],
   "source": [
    "class Espada:\n",
    "    def __init__(self, nombre, rareza, daño, filo):  # __init__ es para indentificar al iniciador SIEMPRE LA TIENE ## para que la funcion def duncione hay que poner self,  \n",
    "        self.nombre=nombre\n",
    "        self.rareza=rareza\n",
    "        self.daño=daño\n",
    "        self.filo=filo\n",
    "\n",
    "        \n",
    "    def atacar(self, objetivo):\n",
    "       \n",
    "        if self.filo> 0 and objetivo['vida']>0:\n",
    "            print('atacando')\n",
    "            #codigo# #si la espada tiene filo suficiente y el objetivo esta vivo la espada atacara\n",
    "            #se le restaran los puntos de daño de la espada a la vida del objetivo y se le sumara la resistencia del objetivo\n",
    "            objetivo['vida']=objetivo['vida']+objetivo['resistencia']-self.daño \n",
    "            #codigo#\n",
    "            #codigo# #Cada vez que la espada ataque perdera 2 puntos de filo\n",
    "            self.filo=self.filo-2\n",
    "        #codigo# #si la vida del objetivo es igual o menor que cero\n",
    "            #codigo#\n",
    "            if objetivo['vida']<=0:\n",
    "                return (f'El {objetivo['nombre']} ha muerto')\n",
    "        #codigo#\n",
    "            #codigo# #si el filo de la espada llega a cero\n",
    "        else:\n",
    "            return 'la espada {self.nombre}esta rota'\n",
    "\n",
    "        "
   ]
  },
  {
   "cell_type": "code",
   "execution_count": 5,
   "metadata": {},
   "outputs": [],
   "source": [
    "mi_espada=Espada('Duc','comun',8,2) #hemos creado nuestra espaca Duc"
   ]
  },
  {
   "cell_type": "code",
   "execution_count": 6,
   "metadata": {},
   "outputs": [
    {
     "data": {
      "text/plain": [
       "8"
      ]
     },
     "execution_count": 6,
     "metadata": {},
     "output_type": "execute_result"
    }
   ],
   "source": [
    "mi_espada.daño"
   ]
  },
  {
   "cell_type": "code",
   "execution_count": 7,
   "metadata": {},
   "outputs": [
    {
     "name": "stdout",
     "output_type": "stream",
     "text": [
      "atacando\n"
     ]
    }
   ],
   "source": [
    "mi_espada.atacar(kraken)"
   ]
  },
  {
   "cell_type": "code",
   "execution_count": 8,
   "metadata": {},
   "outputs": [
    {
     "data": {
      "text/plain": [
       "6"
      ]
     },
     "execution_count": 8,
     "metadata": {},
     "output_type": "execute_result"
    }
   ],
   "source": [
    "kraken['vida']"
   ]
  },
  {
   "cell_type": "markdown",
   "metadata": {},
   "source": [
    "Ahora Podremos crear tantas espadas como queramos!!! y definir su daño, filo ,nombre o rareza asi que manos a la obra!!!\n",
    "A continuación vamos a ver como crear objetos a partir de una clase:"
   ]
  },
  {
   "cell_type": "markdown",
   "metadata": {},
   "source": [
    "![img4_copy](img4_copy.png)"
   ]
  },
  {
   "cell_type": "code",
   "execution_count": 34,
   "metadata": {},
   "outputs": [],
   "source": [
    "kraken['vida']=12"
   ]
  },
  {
   "cell_type": "code",
   "execution_count": 35,
   "metadata": {},
   "outputs": [
    {
     "name": "stdout",
     "output_type": "stream",
     "text": [
      "Vida antes del ataque: 12\n",
      "atacando\n",
      "Vida después del ataque: 8\n"
     ]
    }
   ],
   "source": [
    "#crear una espada vikinga comun con 6 de daño y 7 de filo\n",
    "espadaVikinga = Espada('Vikinga','comun',6,7)\n",
    "\n",
    "#crear una espada heorica rar con filo 8 y daño igual a 7\n",
    "espadaHeroica = Espada('Heroica','rara',7,9)\n",
    "\n",
    "print('Vida antes del ataque:', kraken['vida'])\n",
    "\n",
    "espadaVikinga.atacar(kraken)\n",
    "\n",
    "print('Vida después del ataque:', kraken['vida'])"
   ]
  },
  {
   "cell_type": "markdown",
   "metadata": {},
   "source": [
    "En la imagen que acabamos de ver se instancian dos objetos de la clase Espada llamados espadaVikinga y espadaHeroica en otras palabras se crean dos objetos con la plantilla Espada, y tan solo usando dos líneas de código!! y es que el objetivo de las clases es ayudar a reducir el código. cada vez que se ejecute la linea espadaVikinga.atacar(kraken) se le restan 6 puntos de vida al kraken y el filo de la espada vikinga disminuye 2 puntos, cuando el filo de la espada sea 0 o menos de 0 ya atacar() no causara daño alguno al kraken."
   ]
  },
  {
   "cell_type": "markdown",
   "metadata": {},
   "source": [
    "## La herencia\n",
    "\n",
    "Es uno de los fundamentos de la programación orientada a objetos, Se usa para hacer que una clase hija obtenga o herede todos los elementos (métodos y propiedades) de una clase padre, a partir de esta copia del padre podemos crear nuevos métodos y propiedades, así como mantener, modificar o eliminar los ya existentes que hemos heredado.\n",
    "\n",
    "Uno de los objetivos de la herencia es reducir la cantidad de código, ya que no tenemos que escribir una clase desde cero, si no que podemos reutilizar métodos o atributos definidos ya en otra clase.\n",
    "\n",
    "Ya tenemos una plantilla para crear espadas básicas con los atributos: nombre, rareza, daño y filo, así como un método para atacar a un objetivo, ahora supongamos que queremos crear un tipo especial de espadas que contenga un ataque especial para monstruos de tipo marino, para hacer esto solo tenemos que crear una clase que herede las propiedades y métodos de la clase Espada y luego añadirle la nueva funcionalidad “ataque tsunami”."
   ]
  },
  {
   "cell_type": "markdown",
   "metadata": {},
   "source": [
    "![img5_copy](img5_copy.png)"
   ]
  },
  {
   "cell_type": "markdown",
   "metadata": {},
   "source": [
    "La clase EspadaMarina hereda los atributos nombre, rareza, daño, filo y el método atacar() de la clase Espada y luego le agregamos el nuevo método ataqueTsunami()."
   ]
  },
  {
   "cell_type": "markdown",
   "metadata": {},
   "source": [
    "Ahora vamos a ver esto de manera practica para entender mejor el concepto:"
   ]
  },
  {
   "cell_type": "markdown",
   "metadata": {},
   "source": [
    "![img6_copy](img6_copy.png)"
   ]
  },
  {
   "cell_type": "code",
   "execution_count": 47,
   "metadata": {},
   "outputs": [],
   "source": [
    "class EspadaMarina(Espada): #estamos heredando dodo de la clase Espada\n",
    "\t\n",
    "\tdef ataqueTsunami(self, objetivo):\n",
    "\t\tif objetivo['tipo']=='Marino':\n",
    "\t\t\tobjetivo['Marina']=objetivo['vida']+objetivo['resistencia']-10\n",
    "\t\telse:\n",
    "\t\t\treturn f'el {objetivo['nombre']} no es marino'\n",
    "\t\t\n",
    "\t\t"
   ]
  },
  {
   "cell_type": "code",
   "execution_count": 48,
   "metadata": {},
   "outputs": [],
   "source": [
    "espada=EspadaMarina('Marina','comun',8,7)"
   ]
  },
  {
   "cell_type": "markdown",
   "metadata": {},
   "source": [
    "Ahora ya tenemos una clase nueva para crear espadas con un nuevo tipo de ataque que solo causa daño a enemigos de tipo marino, procedamos a crear dos espadas nuevas"
   ]
  },
  {
   "cell_type": "markdown",
   "metadata": {},
   "source": [
    "![img7_copy](img7_copy.png)"
   ]
  },
  {
   "cell_type": "markdown",
   "metadata": {},
   "source": [
    "![img8_copy](img8_copy.png)"
   ]
  },
  {
   "cell_type": "code",
   "execution_count": 49,
   "metadata": {},
   "outputs": [],
   "source": [
    "kraken = {\n",
    "          'nombre' : 'Kraken',\n",
    "          'tipo' : 'Marino',\n",
    "          'vida' : 12,\n",
    "          'resistencia' : 2\n",
    "         }"
   ]
  },
  {
   "cell_type": "code",
   "execution_count": 51,
   "metadata": {},
   "outputs": [
    {
     "ename": "TypeError",
     "evalue": "type 'EspadaMarina' is not subscriptable",
     "output_type": "error",
     "traceback": [
      "\u001b[1;31m---------------------------------------------------------------------------\u001b[0m",
      "\u001b[1;31mTypeError\u001b[0m                                 Traceback (most recent call last)",
      "Cell \u001b[1;32mIn[51], line 5\u001b[0m\n\u001b[0;32m      2\u001b[0m espadaPirata \u001b[38;5;241m=\u001b[39m EspadaMarina(\u001b[38;5;124m'\u001b[39m\u001b[38;5;124mpirata\u001b[39m\u001b[38;5;124m'\u001b[39m,\u001b[38;5;124m'\u001b[39m\u001b[38;5;124mrara\u001b[39m\u001b[38;5;124m'\u001b[39m,\u001b[38;5;241m10\u001b[39m,\u001b[38;5;241m7\u001b[39m) \n\u001b[0;32m      4\u001b[0m \u001b[38;5;66;03m#creamos la espada de Poseidon la cual contara con el nuevo ataque del tipo epica con daño 12 y filo 10\u001b[39;00m\n\u001b[1;32m----> 5\u001b[0m espadaDePoseidon \u001b[38;5;241m=\u001b[39m \u001b[43mEspadaMarina\u001b[49m\u001b[43m[\u001b[49m\u001b[38;5;124;43m'\u001b[39;49m\u001b[38;5;124;43mposeido\u001b[39;49m\u001b[38;5;124;43m'\u001b[39;49m\u001b[43m,\u001b[49m\u001b[38;5;124;43m'\u001b[39;49m\u001b[38;5;124;43mepica\u001b[39;49m\u001b[38;5;124;43m'\u001b[39;49m\u001b[43m,\u001b[49m\u001b[38;5;241;43m12\u001b[39;49m\u001b[43m,\u001b[49m\u001b[38;5;241;43m10\u001b[39;49m\u001b[43m]\u001b[49m \n\u001b[0;32m      7\u001b[0m \u001b[38;5;66;03m#ahora si estamos bien Armados, acabemos con el Kraken con la espada de poseidon!!!\u001b[39;00m\n\u001b[0;32m      9\u001b[0m \u001b[38;5;28mprint\u001b[39m(\u001b[38;5;124m'\u001b[39m\u001b[38;5;124mVida antes del ataque:\u001b[39m\u001b[38;5;124m'\u001b[39m, kraken[\u001b[38;5;124m'\u001b[39m\u001b[38;5;124mvida\u001b[39m\u001b[38;5;124m'\u001b[39m])\n",
      "\u001b[1;31mTypeError\u001b[0m: type 'EspadaMarina' is not subscriptable"
     ]
    }
   ],
   "source": [
    "#creamos la espada pirata la cual contara con el nuevo ataque del tipo rara con daño 10 y filo 7\n",
    "espadaPirata = EspadaMarina('pirata','rara',10,7) \n",
    "\n",
    "#creamos la espada de Poseidon la cual contara con el nuevo ataque del tipo epica con daño 12 y filo 10\n",
    "espadaDePoseidon = EspadaMarina['poseido','epica',12,10] \n",
    "\n",
    "#ahora si estamos bien Armados, acabemos con el Kraken con la espada de poseidon!!!\n",
    "\n",
    "print('Vida antes del ataque:', kraken['vida'])\n",
    "\n",
    "espadaDePoseidon.ataqueTsunami(kraken)\n",
    "\n",
    "print('Vida después del ataque:', kraken['vida'])\n"
   ]
  }
 ],
 "metadata": {
  "kernelspec": {
   "display_name": "Python 3",
   "language": "python",
   "name": "python3"
  },
  "language_info": {
   "codemirror_mode": {
    "name": "ipython",
    "version": 3
   },
   "file_extension": ".py",
   "mimetype": "text/x-python",
   "name": "python",
   "nbconvert_exporter": "python",
   "pygments_lexer": "ipython3",
   "version": "3.12.6"
  },
  "orig_nbformat": 4
 },
 "nbformat": 4,
 "nbformat_minor": 2
}
