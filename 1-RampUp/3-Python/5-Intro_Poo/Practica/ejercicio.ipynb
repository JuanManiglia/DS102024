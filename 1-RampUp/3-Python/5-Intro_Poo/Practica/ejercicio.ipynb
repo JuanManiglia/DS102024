{
 "cells": [
  {
   "cell_type": "markdown",
   "metadata": {},
   "source": [
    "# Ejercicios POO IV\n",
    "\n",
    "## Programación orientada a objetos\n",
    "\n",
    "En este ejercicio vamos a programar un carrito de compras.\n",
    "\n",
    "Para esto vamos a escribir dos clases: Carrito e Item.\n",
    "\n",
    "El ítem va a tener como propiedades un nombre, un precio y una url de la imágen que lo representa. Por default, la url se inicializa en blanco.\n",
    "\n",
    "El Carrito tiene como propiedad una lista de diccionarios, la variable _lineas. \n",
    "\n",
    "Los carritos se inicializan vacíos y luego se agregan líneas utilizando el método agregar_línea(). Cada línea es un diccionario con dos claves: \"ítem\" que contiene un objeto de tipo ítem y \"cantidad\" según la cantidad que queremos agregar al carrito.\n",
    "\n",
    "Por último los carritos tienen un método get_total() que devuelve la suma de los precios de los ítems, multiplicados por las cantidades que hay en cada línea."
   ]
  },
  {
   "cell_type": "code",
   "execution_count": 18,
   "metadata": {},
   "outputs": [],
   "source": [
    "# Clase Item\n",
    "class Item:\n",
    "    def __init__(self, nombre, precio, url_imagen=\"\"):\n",
    "        self.nombre = nombre\n",
    "        self.precio = precio\n",
    "        self.url_imagen = url_imagen\n",
    "\n",
    "# Clase Carrito\n",
    "class Carrito:\n",
    "    def __init__(self):\n",
    "        # Inicializa la lista para almacenar las líneas del carrito\n",
    "        self._lineas = []\n",
    "\n",
    "    def agregar_linea(self, item, cantidad):\n",
    "        # Cada línea es un diccionario con el ítem y la cantidad\n",
    "        linea = {\"item\": item, \"cantidad\": cantidad}\n",
    "        self._lineas.append(linea)\n",
    "\n",
    "    def get_total(self):\n",
    "        # Calcula el total multiplicando el precio del item por su cantidad en cada línea\n",
    "        total = sum(linea[\"item\"].precio * linea[\"cantidad\"] for linea in self._lineas)\n",
    "        return total\n"
   ]
  },
  {
   "cell_type": "markdown",
   "metadata": {},
   "source": [
    "Ahora vamos a instanciar el carrito y agregarle una \"línea\" con dos kilos de harina y otra con tres peperonis."
   ]
  },
  {
   "cell_type": "code",
   "execution_count": 19,
   "metadata": {},
   "outputs": [
    {
     "name": "stdout",
     "output_type": "stream",
     "text": [
      "El total del carrito es: 9.0\n"
     ]
    }
   ],
   "source": [
    "# Instancias de ítems\n",
    "harina = Item(nombre=\"Harina\", precio=1.5)     # 1.5 por kilo de harina\n",
    "peperoni = Item(nombre=\"Peperoni\", precio=2.0)  # 2.0 por cada peperoni\n",
    "\n",
    "# Instancia del carrito\n",
    "carrito = Carrito()\n",
    "\n",
    "# Agregar líneas al carrito\n",
    "carrito.agregar_linea(item=harina, cantidad=2)   # 2 kilos de harina\n",
    "carrito.agregar_linea(item=peperoni, cantidad=3)  # 3 peperonis\n",
    "\n",
    "# Obtener el total del carrito\n",
    "total = carrito.get_total()\n",
    "print(\"El total del carrito es:\", total)"
   ]
  },
  {
   "cell_type": "markdown",
   "metadata": {},
   "source": [
    "## Ejercicio II\n",
    "\n",
    "Ahora vamos a crear dos clases. Primero una clase Réctangulo con los métodos area y base. Y luego una clase más específica que sea la Clase Cuadrado que herede los métodos de la clase Rectángulo. \n",
    "\n",
    "Una vez logrado esto vamos a crear una Tercera clase llamada Cubo cuya clase base va a responder a Cuadrado. En esta clase vas a agregar un método que sea volumen utilizando el método Área de su clase base o madre. "
   ]
  },
  {
   "cell_type": "code",
   "execution_count": 20,
   "metadata": {},
   "outputs": [],
   "source": [
    "# Clase Rectangulo\n",
    "class Rectangulo:\n",
    "    def __init__(self, base, altura):\n",
    "        self.base = base\n",
    "        self.altura = altura\n",
    "\n",
    "    def area(self):\n",
    "        return self.base * self.altura\n",
    "    \n",
    "    def get_base(self):\n",
    "        return self.base\n",
    "    \n",
    "class Cuadrado(Rectangulo):\n",
    "    def __init__(self, lado):\n",
    "        super().__init__(lado, lado) # Un cuadrado es un rectángulo con base y altura iguales\n",
    "\n",
    "class Cubo(Cuadrado):\n",
    "    def __init__(self,lado):\n",
    "        super().__init__(lado) # Llama al constructor de Cuadrado\n",
    "    def volumen(self):\n",
    "        area_base = self.area() # Llama al método área de la clase base (Cuadrado)\n",
    "        return area_base * self.get_base() # Volumen = área de la base * altura (que es igual al lado)"
   ]
  },
  {
   "cell_type": "code",
   "execution_count": 21,
   "metadata": {},
   "outputs": [
    {
     "name": "stdout",
     "output_type": "stream",
     "text": [
      "Área del rectángulo: 50\n",
      "Base del rectángulo: 5\n",
      "Área del cuadrado: 16\n",
      "Volumen del cubo: 27\n"
     ]
    }
   ],
   "source": [
    "# Crear un rectángulo\n",
    "rectangulo = Rectangulo(base=5, altura=10)\n",
    "print(\"Área del rectángulo:\", rectangulo.area())\n",
    "print(\"Base del rectángulo:\", rectangulo.get_base())\n",
    "\n",
    "# Crear un cuadrado\n",
    "cuadrado = Cuadrado(lado=4)\n",
    "print(\"Área del cuadrado:\", cuadrado.area())\n",
    "\n",
    "# Crear un cubo\n",
    "cubo = Cubo(lado=3)\n",
    "print(\"Volumen del cubo:\", cubo.volumen())\n"
   ]
  },
  {
   "cell_type": "code",
   "execution_count": null,
   "metadata": {},
   "outputs": [],
   "source": []
  }
 ],
 "metadata": {
  "kernelspec": {
   "display_name": "Python 3",
   "language": "python",
   "name": "python3"
  },
  "language_info": {
   "codemirror_mode": {
    "name": "ipython",
    "version": 3
   },
   "file_extension": ".py",
   "mimetype": "text/x-python",
   "name": "python",
   "nbconvert_exporter": "python",
   "pygments_lexer": "ipython3",
   "version": "3.10.11"
  }
 },
 "nbformat": 4,
 "nbformat_minor": 4
}
