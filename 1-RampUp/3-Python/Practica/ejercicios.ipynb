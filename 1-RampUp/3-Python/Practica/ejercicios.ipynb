{
 "cells": [
  {
   "cell_type": "markdown",
   "metadata": {},
   "source": [
    "1. Escribir un programa que pregunte el usuario, su edad y muestre por pantalla si es mayor de edad o no"
   ]
  },
  {
   "cell_type": "code",
   "execution_count": 15,
   "metadata": {},
   "outputs": [
    {
     "name": "stdout",
     "output_type": "stream",
     "text": [
      "Es mayor de edad:  19\n"
     ]
    }
   ],
   "source": [
    "#edad = int(input(\"Ingrese su edad: \"))\n",
    "edad = 19\n",
    "if edad >= 18:\n",
    "    print('Es mayor de edad: ', edad)\n",
    "else:   \n",
    "    print('No es mayor de edad: ',edad)  \n"
   ]
  },
  {
   "cell_type": "markdown",
   "metadata": {},
   "source": [
    "2. Escribir un programa que pida al usuario un numero entero y muestre por pantalla si es par o impar"
   ]
  },
  {
   "cell_type": "markdown",
   "metadata": {},
   "source": [
    "3. \n"
   ]
  },
  {
   "cell_type": "markdown",
   "metadata": {},
   "source": [
    "4. Esribir un programa que pida al usuario una palabra y luego muestre por pantalla una a una las letras de la palabra introducida empezando por la ultima"
   ]
  },
  {
   "cell_type": "markdown",
   "metadata": {},
   "source": [
    "5. Escribir un programa que almacene el abecedario en una lista, elimine de la lista las letras que ocupen posiciones multiplos de 3, y muestre por pantalla la lista resultante"
   ]
  },
  {
   "cell_type": "markdown",
   "metadata": {},
   "source": [
    "6. Escrbir un programa que guarde en un diccionario los precios de las frutas de la tabla, pregunte al usuario por una fruta, un numero de kilos y muestre por pantalla el precio de ese numero de kilos de fruta. Si la fruta no esta en el diccionario debe mostrar un mensaje informando ello."
   ]
  },
  {
   "cell_type": "markdown",
   "metadata": {},
   "source": [
    "7. Escribir una funcion que reciba una muestra de numeros en una lista y devuelva su media y mediana"
   ]
  },
  {
   "cell_type": "markdown",
   "metadata": {},
   "source": [
    "8. crear un programa que sin utilizar if-else si le pasas la variable XY te devielve el paîs ejemplo: ES-> España, usEstados Unidos"
   ]
  },
  {
   "cell_type": "markdown",
   "metadata": {},
   "source": [
    "9. Nuria es fitness entonces tiene un itinerario para el gym\n",
    "lunes =  piernas\n",
    "martes = brazos\n",
    "miercoles = abdomen\n",
    "jueves = cardio\n",
    "viernes = cerveza\n",
    "sabado = pizza\n",
    "domingo = descansa\n",
    "vamos hacer un programa que dependiendo del dia nos diga que tenemos que hacer.\n",
    "pero resulta que Juan ahora es IFfobico y GETfobico..\n",
    "puedes ayudar a ambos??"
   ]
  },
  {
   "cell_type": "code",
   "execution_count": 59,
   "metadata": {},
   "outputs": [
    {
     "ename": "TypeError",
     "evalue": "'str' object is not callable",
     "output_type": "error",
     "traceback": [
      "\u001b[1;31m---------------------------------------------------------------------------\u001b[0m",
      "\u001b[1;31mTypeError\u001b[0m                                 Traceback (most recent call last)",
      "Cell \u001b[1;32mIn[59], line 11\u001b[0m\n\u001b[0;32m      7\u001b[0m     \u001b[38;5;28;01mreturn\u001b[39;00m actividades[dia()]\n\u001b[0;32m      9\u001b[0m dia\u001b[38;5;241m=\u001b[39m\u001b[38;5;124m'\u001b[39m\u001b[38;5;124mlunes\u001b[39m\u001b[38;5;124m'\u001b[39m\n\u001b[1;32m---> 11\u001b[0m \u001b[38;5;28mprint\u001b[39m(\u001b[38;5;124mf\u001b[39m\u001b[38;5;124m'\u001b[39m\u001b[38;5;124mHoy es \u001b[39m\u001b[38;5;132;01m{\u001b[39;00mdia\u001b[38;5;132;01m}\u001b[39;00m\u001b[38;5;124m, tienes que realizar la siguiente actividad: \u001b[39m\u001b[38;5;132;01m{\u001b[39;00m\u001b[43macividad_dia\u001b[49m\u001b[43m(\u001b[49m\u001b[43mdia\u001b[49m\u001b[43m)\u001b[49m\u001b[38;5;132;01m}\u001b[39;00m\u001b[38;5;124m'\u001b[39m)\n",
      "Cell \u001b[1;32mIn[59], line 7\u001b[0m, in \u001b[0;36macividad_dia\u001b[1;34m(dia)\u001b[0m\n\u001b[0;32m      5\u001b[0m \u001b[38;5;28;01mdef\u001b[39;00m \u001b[38;5;21macividad_dia\u001b[39m(dia):\n\u001b[0;32m      6\u001b[0m     index \u001b[38;5;241m=\u001b[39m dias\u001b[38;5;241m.\u001b[39mindex(dia)\n\u001b[1;32m----> 7\u001b[0m     \u001b[38;5;28;01mreturn\u001b[39;00m actividades[\u001b[43mdia\u001b[49m\u001b[43m(\u001b[49m\u001b[43m)\u001b[49m]\n",
      "\u001b[1;31mTypeError\u001b[0m: 'str' object is not callable"
     ]
    }
   ],
   "source": [
    "actividades = {'lunes':'piernas', 'martes':'brazos', 'miercoles':'abdomen', 'jueves':'cardio', 'viernes':'cerveza', 'sabado':'pizza', 'domingo':'descnasa'}\n",
    "\n",
    "dias = ['lunes','martes','miercoles','jueves','viernes','sabado','domingo']\n",
    "\n",
    "def acividad_dia(dia):\n",
    "    index = dias.index(dia)\n",
    "    return actividades[dia()]\n",
    "\n",
    "dia='lunes'\n",
    "\n",
    "print(f'Hoy es {dia}, tienes que realizar la siguiente actividad: {acividad_dia(dia)}')"
   ]
  },
  {
   "cell_type": "markdown",
   "metadata": {},
   "source": [
    "10. Imprimir los primeros 10 números naturales\n",
    "Escribe un programa que imprima los números del 1 al 10 utilizando un bucle for.\n",
    "\n"
   ]
  },
  {
   "cell_type": "code",
   "execution_count": 34,
   "metadata": {},
   "outputs": [
    {
     "name": "stdout",
     "output_type": "stream",
     "text": [
      "1 2 3 4 5 6 7 8 9 10 "
     ]
    }
   ],
   "source": [
    "for i in range(1,11):\n",
    "    print (i,end=' ')"
   ]
  },
  {
   "cell_type": "markdown",
   "metadata": {},
   "source": [
    "11. Suma de dos números\n",
    "Escribe un programa que solicite al usuario dos números y muestre la suma de ellos.\n"
   ]
  },
  {
   "cell_type": "code",
   "execution_count": 35,
   "metadata": {},
   "outputs": [
    {
     "name": "stdout",
     "output_type": "stream",
     "text": [
      "25.0\n"
     ]
    }
   ],
   "source": [
    "numero1 = float(input('Primer número: '))\n",
    "numero2 = float(input('Segundo número: '))\n",
    "\n",
    "suma = numero1+numero2\n",
    "\n",
    "print (suma)"
   ]
  },
  {
   "cell_type": "markdown",
   "metadata": {},
   "source": [
    "12. Identificar números pares e impares\n",
    "Escribe un programa que pida un número al usuario e indique si es par o impar.\n"
   ]
  },
  {
   "cell_type": "code",
   "execution_count": 55,
   "metadata": {},
   "outputs": [
    {
     "name": "stdout",
     "output_type": "stream",
     "text": [
      "el número es par\n"
     ]
    }
   ],
   "source": [
    "num = float(input('numero'))\n",
    "\n",
    "if num % 2 == 0:\n",
    "    print('el número es par')\n",
    "\n",
    "else:\n",
    "    print('el numero es impar')\n",
    "\n",
    "\n"
   ]
  },
  {
   "cell_type": "markdown",
   "metadata": {},
   "source": [
    "13. Reverso de una cadena\n",
    "Escribe un programa que pida al usuario una cadena y la imprima al revés.\n"
   ]
  },
  {
   "cell_type": "markdown",
   "metadata": {},
   "source": [
    "14. Comprobar si un número es positivo, negativo o cero\n",
    "Escribe un programa que solicite un número y muestre si es positivo, negativo o cero.\n"
   ]
  },
  {
   "cell_type": "code",
   "execution_count": 40,
   "metadata": {},
   "outputs": [
    {
     "name": "stdout",
     "output_type": "stream",
     "text": [
      "El número es positivo.\n"
     ]
    }
   ],
   "source": [
    "numero = float(input(\"numero\"))\n",
    "\n",
    "if numero > 0:\n",
    "    print(f\"El número es positivo.\")\n",
    "elif numero < 0:\n",
    "    print(f\"El número es negativo.\")\n",
    "else:\n",
    "    print(f\"El número es cero.\")"
   ]
  },
  {
   "cell_type": "markdown",
   "metadata": {},
   "source": [
    "15. Suma de elementos de una lista\n",
    "Escribe un programa que tome una lista de números y devuelva la suma de todos los elementos de la lista.\n"
   ]
  },
  {
   "cell_type": "code",
   "execution_count": 43,
   "metadata": {},
   "outputs": [
    {
     "data": {
      "text/plain": [
       "15"
      ]
     },
     "execution_count": 43,
     "metadata": {},
     "output_type": "execute_result"
    }
   ],
   "source": [
    "numeros = [1, 2, 3, 4, 5] \n",
    "\n",
    "sum(numeros)"
   ]
  },
  {
   "cell_type": "markdown",
   "metadata": {},
   "source": [
    "16. Conteo de vocales en una cadena\n",
    "Escribe un programa que tome una cadena de entrada y cuente cuántas vocales (a, e, i, o, u) contiene.\n"
   ]
  },
  {
   "cell_type": "code",
   "execution_count": 54,
   "metadata": {},
   "outputs": [],
   "source": [
    "def contar_vocales(c:str):\n",
    "    contador = 0\n"
   ]
  },
  {
   "cell_type": "markdown",
   "metadata": {},
   "source": [
    "18. Calcular el factorial de un número\n",
    "Escribe una función que reciba un número entero como argumento y devuelva su factorial utilizando recursión.\n"
   ]
  },
  {
   "cell_type": "code",
   "execution_count": 45,
   "metadata": {},
   "outputs": [
    {
     "data": {
      "text/plain": [
       "120"
      ]
     },
     "execution_count": 45,
     "metadata": {},
     "output_type": "execute_result"
    }
   ],
   "source": [
    "def factorial(num:int)->int:\n",
    "    if num==1:\n",
    "        return 1\n",
    "    else:\n",
    "        return num*factorial(num-1)\n",
    "\n",
    "factorial(5)"
   ]
  },
  {
   "cell_type": "markdown",
   "metadata": {},
   "source": [
    "19. Crear un generador de contraseñas aleatorias\n",
    "Escribe un programa que genere contraseñas aleatorias de longitud variable. Las contraseñas deben incluir letras mayúsculas, minúsculas, números y símbolos especiales."
   ]
  },
  {
   "cell_type": "markdown",
   "metadata": {},
   "source": [
    "20. Crear una baraja de póker\n",
    "Escribe un programa que cree una baraja de cartas de póker (52 cartas). Cada carta debe tener un palo (corazones, diamantes, tréboles, picas) y un valor (del 2 al 10, J, Q, K, A). Luego, simula mezclar la baraja y reparte 5 cartas al azar a un \"jugador\""
   ]
  },
  {
   "cell_type": "markdown",
   "metadata": {},
   "source": [
    "21. crear una función que al pasarle un texto debe retornar un diccionario con las letras y sus cantidades"
   ]
  },
  {
   "cell_type": "code",
   "execution_count": null,
   "metadata": {},
   "outputs": [],
   "source": [
    "def texto(text:str)-> str:\n",
    "    "
   ]
  },
  {
   "cell_type": "markdown",
   "metadata": {},
   "source": [
    "22. Crea un juego de adivina el número"
   ]
  },
  {
   "cell_type": "markdown",
   "metadata": {},
   "source": [
    "23. Crea una función que solicite una lista que te devuela el número de elementos por cada tipo de dato"
   ]
  },
  {
   "cell_type": "markdown",
   "metadata": {},
   "source": [
    "20. crear una funcion que al pasarle un texto debe retornar un diccionario con las letras y sus cantidades"
   ]
  },
  {
   "cell_type": "code",
   "execution_count": 80,
   "metadata": {},
   "outputs": [
    {
     "data": {
      "text/plain": [
       "{'h': 4, 'o': 2, 'l': 1, 'a': 1, 'm': 1, 'u': 1, 'n': 1, 'd': 1}"
      ]
     },
     "execution_count": 80,
     "metadata": {},
     "output_type": "execute_result"
    }
   ],
   "source": [
    "def contar_letras(texto:str) -> dict:\n",
    "    diccionario = {}\n",
    "    for letra in texto.lower():\n",
    "        if letra.isalpha():\n",
    "            if letra in diccionario:\n",
    "                diccionario[letra] += 1\n",
    "            else:\n",
    "                diccionario[letra] = 1\n",
    "    return diccionario\n",
    "\n",
    "contar_letras('Hola, mundo!hhh')"
   ]
  },
  {
   "cell_type": "markdown",
   "metadata": {},
   "source": [
    "21. crea un juego de adivina el numero"
   ]
  },
  {
   "cell_type": "code",
   "execution_count": 82,
   "metadata": {},
   "outputs": [
    {
     "name": "stdout",
     "output_type": "stream",
     "text": [
      "Tienes 5 intentos.\n",
      "El número es más grande.\n",
      "El número es más grande.\n",
      "El número es más grande.\n",
      "El número es más grande.\n",
      "��Ganaste!\n",
      "Tienes 4 intentos.\n",
      "��Ganaste!\n",
      "Tienes 3 intentos.\n"
     ]
    },
    {
     "ename": "KeyboardInterrupt",
     "evalue": "Interrupted by user",
     "output_type": "error",
     "traceback": [
      "\u001b[1;31m---------------------------------------------------------------------------\u001b[0m",
      "\u001b[1;31mKeyboardInterrupt\u001b[0m                         Traceback (most recent call last)",
      "Cell \u001b[1;32mIn[82], line 7\u001b[0m\n\u001b[0;32m      5\u001b[0m \u001b[38;5;28mprint\u001b[39m(\u001b[38;5;124mf\u001b[39m\u001b[38;5;124m'\u001b[39m\u001b[38;5;124mTienes \u001b[39m\u001b[38;5;132;01m{\u001b[39;00mintentos\u001b[38;5;132;01m}\u001b[39;00m\u001b[38;5;124m intentos.\u001b[39m\u001b[38;5;124m'\u001b[39m)\n\u001b[0;32m      6\u001b[0m \u001b[38;5;28;01mfor\u001b[39;00m i \u001b[38;5;129;01min\u001b[39;00m \u001b[38;5;28mrange\u001b[39m(intentos):\n\u001b[1;32m----> 7\u001b[0m     intento \u001b[38;5;241m=\u001b[39m \u001b[38;5;28mint\u001b[39m(\u001b[38;5;28;43minput\u001b[39;49m\u001b[43m(\u001b[49m\u001b[38;5;124;43m'\u001b[39;49m\u001b[38;5;124;43mAdivina el número: \u001b[39;49m\u001b[38;5;124;43m'\u001b[39;49m\u001b[43m)\u001b[49m)\n\u001b[0;32m      8\u001b[0m     \u001b[38;5;28;01mif\u001b[39;00m intento \u001b[38;5;241m==\u001b[39m numero_secreto:\n\u001b[0;32m      9\u001b[0m         \u001b[38;5;28mprint\u001b[39m(\u001b[38;5;124m'\u001b[39m\u001b[38;5;124m��Ganaste!\u001b[39m\u001b[38;5;124m'\u001b[39m)\n",
      "File \u001b[1;32mc:\\Users\\jamr1\\.pyenv\\pyenv-win\\versions\\3.11.9\\Lib\\site-packages\\ipykernel\\kernelbase.py:1282\u001b[0m, in \u001b[0;36mKernel.raw_input\u001b[1;34m(self, prompt)\u001b[0m\n\u001b[0;32m   1280\u001b[0m     msg \u001b[38;5;241m=\u001b[39m \u001b[38;5;124m\"\u001b[39m\u001b[38;5;124mraw_input was called, but this frontend does not support input requests.\u001b[39m\u001b[38;5;124m\"\u001b[39m\n\u001b[0;32m   1281\u001b[0m     \u001b[38;5;28;01mraise\u001b[39;00m StdinNotImplementedError(msg)\n\u001b[1;32m-> 1282\u001b[0m \u001b[38;5;28;01mreturn\u001b[39;00m \u001b[38;5;28;43mself\u001b[39;49m\u001b[38;5;241;43m.\u001b[39;49m\u001b[43m_input_request\u001b[49m\u001b[43m(\u001b[49m\n\u001b[0;32m   1283\u001b[0m \u001b[43m    \u001b[49m\u001b[38;5;28;43mstr\u001b[39;49m\u001b[43m(\u001b[49m\u001b[43mprompt\u001b[49m\u001b[43m)\u001b[49m\u001b[43m,\u001b[49m\n\u001b[0;32m   1284\u001b[0m \u001b[43m    \u001b[49m\u001b[38;5;28;43mself\u001b[39;49m\u001b[38;5;241;43m.\u001b[39;49m\u001b[43m_parent_ident\u001b[49m\u001b[43m[\u001b[49m\u001b[38;5;124;43m\"\u001b[39;49m\u001b[38;5;124;43mshell\u001b[39;49m\u001b[38;5;124;43m\"\u001b[39;49m\u001b[43m]\u001b[49m\u001b[43m,\u001b[49m\n\u001b[0;32m   1285\u001b[0m \u001b[43m    \u001b[49m\u001b[38;5;28;43mself\u001b[39;49m\u001b[38;5;241;43m.\u001b[39;49m\u001b[43mget_parent\u001b[49m\u001b[43m(\u001b[49m\u001b[38;5;124;43m\"\u001b[39;49m\u001b[38;5;124;43mshell\u001b[39;49m\u001b[38;5;124;43m\"\u001b[39;49m\u001b[43m)\u001b[49m\u001b[43m,\u001b[49m\n\u001b[0;32m   1286\u001b[0m \u001b[43m    \u001b[49m\u001b[43mpassword\u001b[49m\u001b[38;5;241;43m=\u001b[39;49m\u001b[38;5;28;43;01mFalse\u001b[39;49;00m\u001b[43m,\u001b[49m\n\u001b[0;32m   1287\u001b[0m \u001b[43m\u001b[49m\u001b[43m)\u001b[49m\n",
      "File \u001b[1;32mc:\\Users\\jamr1\\.pyenv\\pyenv-win\\versions\\3.11.9\\Lib\\site-packages\\ipykernel\\kernelbase.py:1325\u001b[0m, in \u001b[0;36mKernel._input_request\u001b[1;34m(self, prompt, ident, parent, password)\u001b[0m\n\u001b[0;32m   1322\u001b[0m \u001b[38;5;28;01mexcept\u001b[39;00m \u001b[38;5;167;01mKeyboardInterrupt\u001b[39;00m:\n\u001b[0;32m   1323\u001b[0m     \u001b[38;5;66;03m# re-raise KeyboardInterrupt, to truncate traceback\u001b[39;00m\n\u001b[0;32m   1324\u001b[0m     msg \u001b[38;5;241m=\u001b[39m \u001b[38;5;124m\"\u001b[39m\u001b[38;5;124mInterrupted by user\u001b[39m\u001b[38;5;124m\"\u001b[39m\n\u001b[1;32m-> 1325\u001b[0m     \u001b[38;5;28;01mraise\u001b[39;00m \u001b[38;5;167;01mKeyboardInterrupt\u001b[39;00m(msg) \u001b[38;5;28;01mfrom\u001b[39;00m \u001b[38;5;28;01mNone\u001b[39;00m\n\u001b[0;32m   1326\u001b[0m \u001b[38;5;28;01mexcept\u001b[39;00m \u001b[38;5;167;01mException\u001b[39;00m:\n\u001b[0;32m   1327\u001b[0m     \u001b[38;5;28mself\u001b[39m\u001b[38;5;241m.\u001b[39mlog\u001b[38;5;241m.\u001b[39mwarning(\u001b[38;5;124m\"\u001b[39m\u001b[38;5;124mInvalid Message:\u001b[39m\u001b[38;5;124m\"\u001b[39m, exc_info\u001b[38;5;241m=\u001b[39m\u001b[38;5;28;01mTrue\u001b[39;00m)\n",
      "\u001b[1;31mKeyboardInterrupt\u001b[0m: Interrupted by user"
     ]
    }
   ],
   "source": [
    "intentos = 5\n",
    "\n",
    "while True:\n",
    "    numero_secreto = random.randint(1, 20)\n",
    "    print(f'Tienes {intentos} intentos.')\n",
    "    for i in range(intentos):\n",
    "        intento = int(input('Adivina el número: '))\n",
    "        if intento == numero_secreto:\n",
    "            print('��Ganaste!')\n",
    "            break\n",
    "        elif intento < numero_secreto:\n",
    "            print('El número es más grande.')\n",
    "        else:\n",
    "            print('El número es más pequeño.')\n",
    "    else:\n",
    "        print(f'Perdiste, el número era {numero_secreto}.')\n",
    "        break\n",
    "    intentos -= 1"
   ]
  },
  {
   "cell_type": "markdown",
   "metadata": {},
   "source": [
    "22. crea una funcion que solicite una lista y te devuelva el numero de elementos por cada tipo dato"
   ]
  },
  {
   "cell_type": "code",
   "execution_count": 83,
   "metadata": {},
   "outputs": [
    {
     "data": {
      "text/plain": [
       "{int: 3, str: 2, bool: 0, list: 1, NoneType: 1}"
      ]
     },
     "execution_count": 83,
     "metadata": {},
     "output_type": "execute_result"
    }
   ],
   "source": [
    "lista = [1,2,'a','b',None,True,[],()]\n",
    "\n",
    "def contar_tipos(lista: list) -> dict:\n",
    "    tipo_datos = {\n",
    "        int: 0,\n",
    "        str: 0,\n",
    "        bool: 0,\n",
    "        list: 0,\n",
    "        type(None): 0\n",
    "    }\n",
    "    for elemento in lista:\n",
    "        if isinstance(elemento, int):\n",
    "            tipo_datos[int] += 1\n",
    "        elif isinstance(elemento, str):\n",
    "            tipo_datos[str] += 1\n",
    "        elif isinstance(elemento, bool):\n",
    "            tipo_datos[bool] += 1\n",
    "        elif isinstance(elemento, list):\n",
    "            tipo_datos[list] += 1\n",
    "        elif elemento is None:\n",
    "            tipo_datos[type(None)] += 1\n",
    "    return tipo_datos\n",
    "\n",
    "contar_tipos(lista)"
   ]
  }
 ],
 "metadata": {
  "kernelspec": {
   "display_name": "Python 3",
   "language": "python",
   "name": "python3"
  },
  "language_info": {
   "codemirror_mode": {
    "name": "ipython",
    "version": 3
   },
   "file_extension": ".py",
   "mimetype": "text/x-python",
   "name": "python",
   "nbconvert_exporter": "python",
   "pygments_lexer": "ipython3",
   "version": "3.12.4"
  }
 },
 "nbformat": 4,
 "nbformat_minor": 2
}
