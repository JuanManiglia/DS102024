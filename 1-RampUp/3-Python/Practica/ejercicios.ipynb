{
 "cells": [
  {
   "cell_type": "markdown",
   "metadata": {},
   "source": [
    "1. Escribir un programa que pregunte al usuario su edad y muestre por pantalla si es mayor de edad o no"
   ]
  },
  {
   "cell_type": "code",
   "execution_count": 6,
   "metadata": {},
   "outputs": [
    {
     "name": "stdout",
     "output_type": "stream",
     "text": [
      "Eres mayor de edad\n"
     ]
    }
   ],
   "source": [
    "edad = int(input(\"¿Cual es tu edad?\"))\n",
    "\n",
    "if edad > 18:\n",
    "    print(\"Eres mayor de edad\")\n",
    "else:\n",
    "    print(\"eres menor\")"
   ]
  },
  {
   "cell_type": "markdown",
   "metadata": {},
   "source": [
    "2. Escribir un programa que pida al usuario un numero entero y muestre por pantalla si es par o impar"
   ]
  },
  {
   "cell_type": "code",
   "execution_count": 8,
   "metadata": {},
   "outputs": [
    {
     "name": "stdout",
     "output_type": "stream",
     "text": [
      "el numero es impar\n"
     ]
    }
   ],
   "source": [
    "numero = int(input(\"¿Como es el numero?\"))\n",
    "if numero % 2 == 0:\n",
    "    print(\"el numero es par\")\n",
    "else:\n",
    "    print(\"el numero es impar\")\n"
   ]
  },
  {
   "cell_type": "markdown",
   "metadata": {},
   "source": [
    "\n",
    "*\n",
    "**\n",
    "***\n",
    "****\n",
    "*****"
   ]
  },
  {
   "cell_type": "code",
   "execution_count": 14,
   "metadata": {},
   "outputs": [
    {
     "name": "stdout",
     "output_type": "stream",
     "text": [
      "*\n",
      "**\n",
      "***\n",
      "****\n",
      "*****\n"
     ]
    }
   ],
   "source": [
    "n = 5\n",
    "for i in range(1,n+1):\n",
    "    print('*'*i)\n"
   ]
  },
  {
   "cell_type": "markdown",
   "metadata": {},
   "source": [
    "4. Escribir un programa que pida al usuario una palabra y luego muestre por pantalla una a una las letras de la palabra introducida empezando por la última"
   ]
  },
  {
   "cell_type": "code",
   "execution_count": 20,
   "metadata": {},
   "outputs": [
    {
     "name": "stdout",
     "output_type": "stream",
     "text": [
      "n o m e k o p "
     ]
    }
   ],
   "source": [
    "palabra = str((input(\"¿escribe una palabra?\")))\n",
    "for letra in reversed(palabra):\n",
    "    print(letra,end=' ')\n",
    "\n"
   ]
  },
  {
   "cell_type": "markdown",
   "metadata": {},
   "source": [
    "5. Escribir un programa que almacene el abecedario en una lista, elimine de la lista las letras que ocupen posiciones multiplos de 3, y muestre por pantalla la lista resultante"
   ]
  },
  {
   "cell_type": "code",
   "execution_count": 24,
   "metadata": {},
   "outputs": [
    {
     "name": "stdout",
     "output_type": "stream",
     "text": [
      "['b', 'c', 'e', 'f', 'h', 'i', 'k', 'l', 'n', 'o', 'q', 'r', 't', 'u', 'w', 'x', 'z']\n"
     ]
    }
   ],
   "source": [
    "import string\n",
    "\n",
    "abc =string.ascii_lowercase\n",
    "\n",
    "lista = []\n",
    "\n",
    "for i in range(len(abc)):\n",
    "    if i % 3 == 0:\n",
    "        continue\n",
    "    else:\n",
    "        lista.append(abc[i])\n",
    "print(lista)"
   ]
  },
  {
   "cell_type": "markdown",
   "metadata": {},
   "source": [
    "6. Escribir un programa que guarde en un diccionario los precios de las frutas de la tabla, pregunte al usuario por una fruta, un numero de kilos y muestre por pantalla el precio de ese numero de kilos de fruta. Si la fruta no esta en el diccionario debe mostrar un mensaje informando de ello."
   ]
  },
  {
   "cell_type": "code",
   "execution_count": 15,
   "metadata": {},
   "outputs": [
    {
     "name": "stdout",
     "output_type": "stream",
     "text": [
      "32.0\n"
     ]
    }
   ],
   "source": [
    "precios_fruta = {\"pera\":8,\"manzana\":5,\"melon\":3,\"naranja\":2}\n",
    "fruta = input(\"¿que fruta quieres?\")\n",
    "kilos = float(input(\"¿cuantos kilos quieres?\"))\n",
    "if fruta in precios_fruta:\n",
    "    precio_total = precios_fruta[fruta] * kilos\n",
    "    print(precio_total)\n",
    "else:\n",
    "    fruta != precios_fruta\n",
    "    print(\"No tenemos esa fruta\")"
   ]
  },
  {
   "cell_type": "markdown",
   "metadata": {},
   "source": [
    "7. Escribir una función que reciba una muestra de números en una lista y devuelva su media y su mediana."
   ]
  },
  {
   "cell_type": "code",
   "execution_count": null,
   "metadata": {},
   "outputs": [],
   "source": [
    "import math\n"
   ]
  },
  {
   "cell_type": "code",
   "execution_count": 10,
   "metadata": {},
   "outputs": [],
   "source": [
    "def muestra(lista_numeros:list) -> float:\n",
    "    promedio = sum(lista_numeros)/len(lista_numeros)\n",
    "    \n",
    "    lista_numeros.sort()\n",
    "    punto_medio = len(lista_numeros)//2\n",
    "\n",
    "    if len(lista_numeros) % 2 != 0:        \n",
    "        \n",
    "        mediana = lista_numeros[punto_medio]\n",
    "\n",
    "    else: \n",
    "        mediana = sum(lista_numeros[punto_medio-1:punto_medio+1])/2\n",
    "\n",
    "    return promedio, mediana"
   ]
  },
  {
   "cell_type": "code",
   "execution_count": 11,
   "metadata": {},
   "outputs": [
    {
     "data": {
      "text/plain": [
       "(3.5, 3.5)"
      ]
     },
     "execution_count": 11,
     "metadata": {},
     "output_type": "execute_result"
    }
   ],
   "source": [
    "muestra([1,2,3,4,5,6])"
   ]
  },
  {
   "cell_type": "markdown",
   "metadata": {},
   "source": [
    "8. Crear un programa que sin utilizar if-else si le pasas la variable XX te devuelve el pais, ejemplo: ES -> España, US -> Estados unidos"
   ]
  },
  {
   "cell_type": "markdown",
   "metadata": {},
   "source": []
  },
  {
   "cell_type": "code",
   "execution_count": 1,
   "metadata": {},
   "outputs": [
    {
     "name": "stdout",
     "output_type": "stream",
     "text": [
      "España\n"
     ]
    }
   ],
   "source": [
    "def obtener_pais(codigo):\n",
    "    \n",
    "    paises = {'ES': 'España','US': 'Estados Unidos','FR': 'Francia','AR': 'Argentina'} \n",
    "            \n",
    "    return paises.get(codigo, 'Código de país no encontrado')\n",
    "\n",
    "codigo_pais = 'ES'\n",
    "print(obtener_pais(codigo_pais))"
   ]
  },
  {
   "cell_type": "markdown",
   "metadata": {},
   "source": [
    "9. Nuria es fitness, entonces tiene un itinerario para el gym\n",
    "\n",
    "lunes = piernas\n",
    "martes = brazos\n",
    "miercoles = abdomen\n",
    "jueves = cardio\n",
    "viernes = cerveza\n",
    "sabado = pizza\n",
    "domingo = descansa\n",
    "\n",
    "Vamos a hacer un programa que dependiendo del día nos diga que tenemos que hacer.\n",
    "\n",
    "Sin usar la funcion IF y la función GET"
   ]
  },
  {
   "cell_type": "code",
   "execution_count": 28,
   "metadata": {},
   "outputs": [],
   "source": [
    "def actividad(dia):\n",
    "\n",
    "    rutina = {\"lunes\": \"piernas\", \"martes\": \"brazos\", \"miercoles\": \"abdomen\", \"jueves\": \"cardio\", \"viernes\": \"cerveza\", \"sabado\": \"pizza\", \"domingo\": \"descansa\" }\n",
    "\n",
    "    try:\n",
    "        return rutina[dia]\n",
    "    except KeyError:\n",
    "        return \"dia no valido\"\n",
    "      "
   ]
  },
  {
   "cell_type": "code",
   "execution_count": 29,
   "metadata": {},
   "outputs": [
    {
     "data": {
      "text/plain": [
       "'piernas'"
      ]
     },
     "execution_count": 29,
     "metadata": {},
     "output_type": "execute_result"
    }
   ],
   "source": [
    "actividad(\"lunes\")"
   ]
  },
  {
   "cell_type": "markdown",
   "metadata": {},
   "source": [
    "10. Imprimir los primeros 10 números naturales\n",
    "Escribe un programa que imprima los números del 1 al 10 utilizando un bucle for."
   ]
  },
  {
   "cell_type": "code",
   "execution_count": 31,
   "metadata": {},
   "outputs": [
    {
     "name": "stdout",
     "output_type": "stream",
     "text": [
      "1\n",
      "2\n",
      "3\n",
      "4\n",
      "5\n",
      "6\n",
      "7\n",
      "8\n",
      "9\n",
      "10\n"
     ]
    }
   ],
   "source": [
    "numeros = range(10)\n",
    "for i in numeros:\n",
    "    print(i+1) #si lo queremos en horizontal pondremos print(i+1,end=\" \")"
   ]
  },
  {
   "cell_type": "markdown",
   "metadata": {},
   "source": [
    "11. Suma de dos números\n",
    "Escribe un programa que solicite al usuario dos números y muestre la suma de ellos."
   ]
  },
  {
   "cell_type": "code",
   "execution_count": 33,
   "metadata": {},
   "outputs": [
    {
     "name": "stdout",
     "output_type": "stream",
     "text": [
      "4.0\n"
     ]
    }
   ],
   "source": [
    "primer_numero = float(input())\n",
    "segundo_numero = float(input())\n",
    "\n",
    "total = primer_numero + segundo_numero\n",
    "\n",
    "print(total)"
   ]
  },
  {
   "cell_type": "markdown",
   "metadata": {},
   "source": [
    "12. Identificar números pares e impares\n",
    "Escribe un programa que pida un número al usuario e indique si es par o impar."
   ]
  },
  {
   "cell_type": "code",
   "execution_count": 22,
   "metadata": {},
   "outputs": [
    {
     "name": "stdout",
     "output_type": "stream",
     "text": [
      "el numero no puede ser cero\n"
     ]
    }
   ],
   "source": [
    "numero = float(input())\n",
    "\n",
    "if numero != 0:\n",
    "    if numero % 2 == 0:\n",
    "        print(\"el numero es par\")\n",
    "    else:\n",
    "        print(\"el numero es impar\")\n",
    "else:\n",
    "    print(\"el numero no puede ser cero\")\n"
   ]
  },
  {
   "cell_type": "markdown",
   "metadata": {},
   "source": [
    "13. Reverso de una cadena\n",
    "Escribe un programa que pida al usuario una cadena y la imprima al revés."
   ]
  },
  {
   "cell_type": "code",
   "execution_count": 23,
   "metadata": {},
   "outputs": [
    {
     "name": "stdout",
     "output_type": "stream",
     "text": [
      "a m a m   a l o h\n"
     ]
    }
   ],
   "source": [
    "palabra = list(input())\n",
    "print(*reversed(palabra))\n"
   ]
  },
  {
   "cell_type": "markdown",
   "metadata": {},
   "source": [
    "14. Comprobar si un número es positivo, negativo o cero\n",
    "Escribe un programa que solicite un número y muestre si es positivo, negativo o cero."
   ]
  },
  {
   "cell_type": "code",
   "execution_count": 41,
   "metadata": {},
   "outputs": [
    {
     "name": "stdout",
     "output_type": "stream",
     "text": [
      "el numero es positivo\n"
     ]
    }
   ],
   "source": [
    "numero = int(input())\n",
    "\n",
    "if numero == 0:\n",
    "    print(\"el número es cero\")\n",
    "elif numero > 0:\n",
    "    print(\"el numero es positivo\")\n",
    "elif numero < 0:\n",
    "    print(\"el numero es negativo\")"
   ]
  },
  {
   "cell_type": "markdown",
   "metadata": {},
   "source": [
    "15. Suma de elementos de una lista\n",
    "Escribe un programa que tome una lista de números y devuelva la suma de todos los elementos de la lista."
   ]
  },
  {
   "cell_type": "code",
   "execution_count": 51,
   "metadata": {},
   "outputs": [
    {
     "name": "stdout",
     "output_type": "stream",
     "text": [
      "10\n"
     ]
    }
   ],
   "source": [
    "prueba =[]\n",
    "\n",
    "def suma (prueba =list) -> float:\n",
    "    print(sum(prueba))\n",
    "\n",
    "suma(prueba=[1,2,3,4])"
   ]
  },
  {
   "cell_type": "markdown",
   "metadata": {},
   "source": [
    "16. Conteo de vocales en una cadena\n",
    "Escribe un programa que tome una cadena de entrada y cuente cuántas vocales (a, e, i, o, u) contiene."
   ]
  },
  {
   "cell_type": "code",
   "execution_count": 26,
   "metadata": {},
   "outputs": [
    {
     "ename": "TypeError",
     "evalue": "unsupported operand type(s) for +: 'int' and 'str'",
     "output_type": "error",
     "traceback": [
      "\u001b[1;31m---------------------------------------------------------------------------\u001b[0m",
      "\u001b[1;31mTypeError\u001b[0m                                 Traceback (most recent call last)",
      "Cell \u001b[1;32mIn[26], line 9\u001b[0m\n\u001b[0;32m      5\u001b[0m             palabra \u001b[38;5;241m=\u001b[39m \u001b[38;5;28mlist\u001b[39m(palabra)\n\u001b[0;32m      6\u001b[0m             \u001b[38;5;28msum\u001b[39m(letra)\n\u001b[1;32m----> 9\u001b[0m \u001b[43mcontar_vocales\u001b[49m\u001b[43m(\u001b[49m\u001b[38;5;124;43m\"\u001b[39;49m\u001b[38;5;124;43mojo\u001b[39;49m\u001b[38;5;124;43m\"\u001b[39;49m\u001b[43m)\u001b[49m\n",
      "Cell \u001b[1;32mIn[26], line 6\u001b[0m, in \u001b[0;36mcontar_vocales\u001b[1;34m(palabra)\u001b[0m\n\u001b[0;32m      4\u001b[0m \u001b[38;5;28;01mif\u001b[39;00m letra  \u001b[38;5;241m==\u001b[39m \u001b[38;5;124m\"\u001b[39m\u001b[38;5;124ma\u001b[39m\u001b[38;5;124m\"\u001b[39m \u001b[38;5;129;01mor\u001b[39;00m letra\u001b[38;5;241m==\u001b[39m \u001b[38;5;124m\"\u001b[39m\u001b[38;5;124me\u001b[39m\u001b[38;5;124m\"\u001b[39m \u001b[38;5;129;01mor\u001b[39;00m letra\u001b[38;5;241m==\u001b[39m \u001b[38;5;124m\"\u001b[39m\u001b[38;5;124mi\u001b[39m\u001b[38;5;124m\"\u001b[39m \u001b[38;5;129;01mor\u001b[39;00m letra\u001b[38;5;241m==\u001b[39m \u001b[38;5;124m\"\u001b[39m\u001b[38;5;124mo\u001b[39m\u001b[38;5;124m\"\u001b[39m \u001b[38;5;129;01mor\u001b[39;00m letra\u001b[38;5;241m==\u001b[39m \u001b[38;5;124m\"\u001b[39m\u001b[38;5;124mu\u001b[39m\u001b[38;5;124m\"\u001b[39m:\n\u001b[0;32m      5\u001b[0m     palabra \u001b[38;5;241m=\u001b[39m \u001b[38;5;28mlist\u001b[39m(palabra)\n\u001b[1;32m----> 6\u001b[0m     \u001b[38;5;28;43msum\u001b[39;49m\u001b[43m(\u001b[49m\u001b[43mletra\u001b[49m\u001b[43m)\u001b[49m\n",
      "\u001b[1;31mTypeError\u001b[0m: unsupported operand type(s) for +: 'int' and 'str'"
     ]
    }
   ],
   "source": [
    "def contar_vocales(palabra:list) -> int:\n",
    "\n",
    "    for letra in palabra:\n",
    "        if letra  == \"a\" or letra== \"e\" or letra== \"i\" or letra== \"o\" or letra== \"u\":\n",
    "            palabra = list(palabra)\n",
    "            sum(letra)\n",
    "\n",
    "\n",
    "contar_vocales(\"ojo\")\n",
    "    "
   ]
  },
  {
   "cell_type": "code",
   "execution_count": 29,
   "metadata": {},
   "outputs": [
    {
     "data": {
      "text/plain": [
       "4"
      ]
     },
     "execution_count": 29,
     "metadata": {},
     "output_type": "execute_result"
    }
   ],
   "source": [
    "# hecho en clase por Juan\n",
    "\n",
    "def contar_vocales(palabra:str):\n",
    "    contador = 0\n",
    "    for letra in palabra.lower():\n",
    "        if letra == \"a\"or letra== \"e\"or letra== \"i\" or\\\n",
    "        letra == \"o\" or letra == \"u\":\n",
    "            contador += 1\n",
    "    return contador\n",
    "    \n",
    "contar_vocales(\"hola mundo\")"
   ]
  },
  {
   "cell_type": "markdown",
   "metadata": {},
   "source": [
    "17. Calcular el factorial de un número\n",
    "Escribe una función que reciba un número entero como argumento y devuelva su factorial utilizando recursión."
   ]
  },
  {
   "cell_type": "code",
   "execution_count": 8,
   "metadata": {},
   "outputs": [
    {
     "name": "stdout",
     "output_type": "stream",
     "text": [
      "1\n",
      "2\n",
      "3\n",
      "4\n",
      "5\n",
      "6\n",
      "7\n",
      "\u0007 5040\n"
     ]
    }
   ],
   "source": [
    "num_factorial = 7\n",
    "output = 1\n",
    "for i in range(num_factorial):\n",
    "    output = output *(i+1)\n",
    "    print(i+1)\n",
    "print(\"\\7\",output)\n"
   ]
  },
  {
   "cell_type": "markdown",
   "metadata": {},
   "source": [
    "18. Crear un generador de contraseñas aleatorias\n",
    "Escribe un programa que genere contraseñas aleatorias de longitud variable. Las contraseñas deben incluir letras mayúsculas, minúsculas, números y símbolos especiales."
   ]
  },
  {
   "cell_type": "code",
   "execution_count": 38,
   "metadata": {},
   "outputs": [
    {
     "name": "stdout",
     "output_type": "stream",
     "text": [
      "Y y F C K 0 p u S # & ^ t Q (\n"
     ]
    }
   ],
   "source": [
    "import random\n",
    "import string\n",
    "caracteres = string.ascii_letters + string.digits + string.punctuation\n",
    "contraseña = ''.join(random.sample(caracteres,random.randint(8,15)))\n",
    "\n",
    "print(*contraseña)"
   ]
  },
  {
   "cell_type": "markdown",
   "metadata": {},
   "source": [
    "19. Crear una baraja de póker\n",
    "Escribe un programa que cree una baraja de cartas de póker (52 cartas). Cada carta debe tener un palo (corazones, diamantes, tréboles, picas) y un valor (del 2 al 10, J, Q, K, A). Luego, simula mezclar la baraja y reparte 5 cartas al azar a un \"jugador\"."
   ]
  },
  {
   "cell_type": "markdown",
   "metadata": {},
   "source": []
  },
  {
   "cell_type": "code",
   "execution_count": 6,
   "metadata": {},
   "outputs": [
    {
     "data": {
      "text/plain": [
       "['diamanteQ', 'diamante2', 'trebolJ', 'picaK', 'pica7']"
      ]
     },
     "execution_count": 6,
     "metadata": {},
     "output_type": "execute_result"
    }
   ],
   "source": [
    "import random\n",
    "baraja = [\"trebolA\", \"trebol2\", \"trebol3\", \"trebol4\",\"trebol5\",\"trebol6\",\"trebol7\",\"trebol8\",\"trebol9\",\"trebol10\",\"trebolJ\",\n",
    "          \"trebolQ\",\"trebolK\", \"picaA\", \"pica2\", \"pica3\", \"pica4\",\"pica5\",\"pica6\",\"pica7\",\"pica8\",\"pica9\",\"pica10\",\"picaJ\",\n",
    "          \"picaQ\",\"picaK\",\"diamanteA\", \"diamante2\", \"diamante3\", \"diamante4\",\"diamante5\",\"diamante6\",\"diamante7\",\"diamante8\",\n",
    "          \"diamante9\",\"diamante10\",\"diamanteJ\",\"diamanteQ\",\"diamanteK\", \"corazonA\", \"corazon2\", \"corazon3\", \"corazon4\",\"corazon5\",\n",
    "          \"corazon6\",\"corazon7\",\"corazon8\",\"corazon9\",\"corazon10\",\"corazonJ\",\"corazonQ\",\"corazonK\"]\n",
    "\n",
    "random.sample(baraja,5)"
   ]
  },
  {
   "cell_type": "code",
   "execution_count": 44,
   "metadata": {},
   "outputs": [
    {
     "data": {
      "text/plain": [
       "['K♣', 'Q♠', '4♦', '10♣', '10♠']"
      ]
     },
     "execution_count": 44,
     "metadata": {},
     "output_type": "execute_result"
    }
   ],
   "source": [
    "palos = [\"♥\", \"♦\", \"♣\", \"♠\"]\n",
    "valores = [\"2\",\"3\",\"4\",\"5\",\"6\",\"7\",\"8\",\"9\",\"10\",\"A\",\"J\",\"Q\",\"K\"]\n",
    "baraja = []\n",
    "for valor in valores:\n",
    "    for palo in palos:\n",
    "        baraja.append(f'{valor}{palo}')\n",
    "\n",
    "\n",
    "\n",
    "random.sample(baraja,5)"
   ]
  },
  {
   "cell_type": "markdown",
   "metadata": {},
   "source": [
    "20. Crear una función que al pasarle un texto debe retornar un diccionario con las letras y sus cantidades"
   ]
  },
  {
   "cell_type": "code",
   "execution_count": 3,
   "metadata": {},
   "outputs": [],
   "source": [
    "def convertir(texto:str) -> dict:\n",
    "\n",
    "    conteo ={}\n",
    "\n",
    "    for letra in texto:\n",
    "        if letra.isalpha():\n",
    "            letra = letra.lower()\n",
    "            if letra in conteo:\n",
    "                conteo[letra]+= 1\n",
    "            else:\n",
    "                conteo[letra] = 1\n",
    "    return conteo\n"
   ]
  },
  {
   "cell_type": "code",
   "execution_count": 5,
   "metadata": {},
   "outputs": [
    {
     "data": {
      "text/plain": [
       "{'j': 2, 'o': 2, 'l': 3, 'a': 3, 'm': 2, 'e': 2, 'v': 1, 'i': 1, 'r': 1}"
      ]
     },
     "execution_count": 5,
     "metadata": {},
     "output_type": "execute_result"
    }
   ],
   "source": [
    "convertir(\"Hola me llamo Javier\")"
   ]
  },
  {
   "cell_type": "markdown",
   "metadata": {},
   "source": [
    "21. Crea un juego de adivina el numero"
   ]
  },
  {
   "cell_type": "code",
   "execution_count": 27,
   "metadata": {},
   "outputs": [
    {
     "name": "stdout",
     "output_type": "stream",
     "text": [
      "¡Has fallado, intentalo de nuevo!\n"
     ]
    }
   ],
   "source": [
    "import random\n",
    "\n",
    "adivina_el_numero = random.randint(1,10)\n",
    "\n",
    "intento = input(\"Di un número del 1 al 10\")\n",
    "\n",
    "if intento == adivina_el_numero:\n",
    "    print(\"¡Acertaste!\")\n",
    "else:\n",
    "    print(\"¡Has fallado, intentalo de nuevo!\")\n"
   ]
  },
  {
   "cell_type": "markdown",
   "metadata": {},
   "source": [
    "22. Crea una función que solicite una lista y te devuelva el numero de elementos por tipo cada tipo de dato."
   ]
  },
  {
   "cell_type": "code",
   "execution_count": 29,
   "metadata": {},
   "outputs": [],
   "source": [
    "def contar_tipos(lista:list) -> dict:\n",
    "\n",
    "    contador = {}\n",
    "\n",
    "    for i in lista:\n",
    "        tipo = type(i).__name__\n",
    "        if tipo in contador:\n",
    "            contador[tipo] += 1\n",
    "        else:\n",
    "            contador[tipo] = 1\n",
    "    \n",
    "    return contador\n",
    "  \n"
   ]
  },
  {
   "cell_type": "code",
   "execution_count": 31,
   "metadata": {},
   "outputs": [
    {
     "ename": "TypeError",
     "evalue": "'function' object is not subscriptable",
     "output_type": "error",
     "traceback": [
      "\u001b[1;31m---------------------------------------------------------------------------\u001b[0m",
      "\u001b[1;31mTypeError\u001b[0m                                 Traceback (most recent call last)",
      "Cell \u001b[1;32mIn[31], line 1\u001b[0m\n\u001b[1;32m----> 1\u001b[0m \u001b[43mcontar_tipos\u001b[49m\u001b[43m[\u001b[49m\u001b[38;5;124;43m\"\u001b[39;49m\u001b[38;5;124;43mhola\u001b[39;49m\u001b[38;5;124;43m\"\u001b[39;49m\u001b[43m,\u001b[49m\u001b[38;5;241;43m7\u001b[39;49m\u001b[43m,\u001b[49m\u001b[38;5;241;43m2.3\u001b[39;49m\u001b[43m,\u001b[49m\u001b[38;5;241;43m5\u001b[39;49m\u001b[43m,\u001b[49m\u001b[38;5;124;43m\"\u001b[39;49m\u001b[38;5;124;43mque\u001b[39;49m\u001b[38;5;124;43m\"\u001b[39;49m\u001b[43m,\u001b[49m\u001b[38;5;124;43m\"\u001b[39;49m\u001b[38;5;124;43msaludo\u001b[39;49m\u001b[38;5;124;43m\"\u001b[39;49m\u001b[43m,\u001b[49m\u001b[38;5;241;43m2.6\u001b[39;49m\u001b[43m,\u001b[49m\u001b[38;5;241;43m9\u001b[39;49m\u001b[43m,\u001b[49m\u001b[38;5;28;43;01mTrue\u001b[39;49;00m\u001b[43m,\u001b[49m\u001b[38;5;28;43;01mFalse\u001b[39;49;00m\u001b[43m]\u001b[49m\n",
      "\u001b[1;31mTypeError\u001b[0m: 'function' object is not subscriptable"
     ]
    }
   ],
   "source": [
    "contar_tipos[\"hola\",7,2.3,5,\"que\",\"saludo\",2.6,9,True,False]"
   ]
  },
  {
   "cell_type": "markdown",
   "metadata": {},
   "source": []
  }
 ],
 "metadata": {
  "kernelspec": {
   "display_name": "Python 3",
   "language": "python",
   "name": "python3"
  },
  "language_info": {
   "codemirror_mode": {
    "name": "ipython",
    "version": 3
   },
   "file_extension": ".py",
   "mimetype": "text/x-python",
   "name": "python",
   "nbconvert_exporter": "python",
   "pygments_lexer": "ipython3",
   "version": "3.10.11"
  }
 },
 "nbformat": 4,
 "nbformat_minor": 2
}
