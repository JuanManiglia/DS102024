{
 "cells": [
  {
   "cell_type": "markdown",
   "metadata": {},
   "source": [
    "Ejercicios hechos en clase"
   ]
  },
  {
   "cell_type": "markdown",
   "metadata": {},
   "source": [
    "Preguntar al usuario la edad y muestrelo por pantalla si es mayor de edad o no"
   ]
  },
  {
   "cell_type": "code",
   "execution_count": 3,
   "metadata": {},
   "outputs": [
    {
     "name": "stdout",
     "output_type": "stream",
     "text": [
      "dime tu edad:\n",
      "Eres mayor de edad\n"
     ]
    }
   ],
   "source": [
    "print('dime tu edad:')\n",
    "edad=int(input())\n",
    "\n",
    "if edad <0 or edad>130:\n",
    "    print(\"Edad no valida\")\n",
    "elif edad <18:\n",
    "    print(\"No heres mayor de edad\")\n",
    "else:\n",
    "    print(\"Eres mayor de edad\")"
   ]
  },
  {
   "cell_type": "markdown",
   "metadata": {},
   "source": [
    "2.Escribe un programa que pida al usuraio un numero entero y myuestre por pantalla si es par o impar"
   ]
  },
  {
   "cell_type": "code",
   "execution_count": 15,
   "metadata": {},
   "outputs": [
    {
     "name": "stdout",
     "output_type": "stream",
     "text": [
      "dame un numero entero\n",
      "Numero impar\n"
     ]
    }
   ],
   "source": [
    "print(\"dame un numero entero\")\n",
    "numero=int(input())\n",
    "\n",
    "if abs(numero)%2==0:\n",
    "    print(\"Numero par\")\n",
    "else:\n",
    "    print(\"Numero impar\")\n",
    "\n"
   ]
  },
  {
   "cell_type": "markdown",
   "metadata": {},
   "source": [
    "3. hacer una piramide do *"
   ]
  },
  {
   "cell_type": "code",
   "execution_count": 10,
   "metadata": {},
   "outputs": [],
   "source": [
    "\n",
    "def piramide (n_piramide)->None:\n",
    "    r='*'\n",
    "    t=0\n",
    "    while t<n_piramide:\n",
    "        print(r*(t+1))\n",
    "        t=t+1\n",
    "        \n",
    "    "
   ]
  },
  {
   "cell_type": "code",
   "execution_count": 11,
   "metadata": {},
   "outputs": [
    {
     "name": "stdout",
     "output_type": "stream",
     "text": [
      "*\n",
      "**\n",
      "***\n",
      "****\n",
      "*****\n"
     ]
    }
   ],
   "source": [
    "piramide(5)"
   ]
  },
  {
   "cell_type": "markdown",
   "metadata": {},
   "source": [
    "## Para quitar los cporchetes de una lista cuando lo pinta\n"
   ]
  },
  {
   "cell_type": "code",
   "execution_count": 21,
   "metadata": {},
   "outputs": [
    {
     "name": "stdout",
     "output_type": "stream",
     "text": [
      "['*']\n",
      "*\n"
     ]
    }
   ],
   "source": [
    "lista=['*']\n",
    "print(lista)\n",
    "print(*lista)"
   ]
  },
  {
   "cell_type": "code",
   "execution_count": null,
   "metadata": {},
   "outputs": [],
   "source": [
    "#El profesor\n",
    "n=5\n",
    "for i in range(1,n+1):\n",
    "    print('*'*i)"
   ]
  },
  {
   "cell_type": "markdown",
   "metadata": {},
   "source": [
    "4. Escribir un programa que pida al usuario una palabra y luego muestre por pantalla una a una las letras de la palabra introducida empezando por la última."
   ]
  },
  {
   "cell_type": "code",
   "execution_count": 32,
   "metadata": {},
   "outputs": [
    {
     "name": "stdout",
     "output_type": "stream",
     "text": [
      "Dame tu nombre\n",
      "i\n",
      "n\n",
      "e\n",
      "D\n"
     ]
    }
   ],
   "source": [
    "print('Dame tu nombre')\n",
    "nombre=input()\n",
    "lista=[nombre]\n",
    "lista_2=[]\n",
    "\n",
    "for nom in nombre:\n",
    "    lista_2.append(nom)\n",
    "    \n",
    "lista_2.reverse()\n",
    "\n",
    "for n in lista_2:\n",
    "    print(n)\n"
   ]
  },
  {
   "cell_type": "code",
   "execution_count": 3,
   "metadata": {},
   "outputs": [
    {
     "name": "stdout",
     "output_type": "stream",
     "text": [
      "i\n",
      "n\n",
      "e\n",
      "D\n"
     ]
    }
   ],
   "source": [
    "#Profe \n",
    "nombre=\"Deni\"\n",
    "for nombre in reversed(nombre):\n",
    "    print(nombre)\n",
    "    #print(nombre,edn=\" \")"
   ]
  },
  {
   "cell_type": "markdown",
   "metadata": {},
   "source": [
    "5. Escribir un programa que almacene el abecedario en una lista, elimine de la lista las letras que ocupen posiciones múltiplos de 3, y muestre por pantalla la lista resultante."
   ]
  },
  {
   "cell_type": "code",
   "execution_count": 36,
   "metadata": {},
   "outputs": [],
   "source": [
    "import string\n",
    "string.ascii_lowercase\n",
    "lista_3=[string.ascii_lowercase]\n"
   ]
  },
  {
   "cell_type": "markdown",
   "metadata": {},
   "source": [
    "6. Escribir un programa que guarde en un diccionario los precios de las frutas de la tabla, pregunte al usuario por una fruta, un número de kilos y muestre por pantalla el precio de ese número de kilos de fruta. Si la fruta no está en el diccionario debe mostrar un mensaje informando de ello."
   ]
  },
  {
   "cell_type": "code",
   "execution_count": 16,
   "metadata": {},
   "outputs": [
    {
     "data": {
      "text/plain": [
       "6.5"
      ]
     },
     "execution_count": 16,
     "metadata": {},
     "output_type": "execute_result"
    }
   ],
   "source": [
    "def calcular_precio(fruta,kilos):\n",
    "    dic={\n",
    "        'manzana':1.3,\n",
    "        'peras':2.4,\n",
    "        'pimiento':1.5\n",
    "    }\n",
    "    if fruta.lower() in dic.keys():   #.capitalize() y .lower() es para que ignore las mayusculas y minusculas\n",
    "        return dic[fruta.lower()]*kilos\n",
    "    else:\n",
    "        return 'Fruta no encontrada'\n",
    "\n",
    "\n",
    "calcular_precio('Manzana',5)\n",
    "   "
   ]
  },
  {
   "cell_type": "markdown",
   "metadata": {},
   "source": [
    "7. Escribir una función que reciba una muestra de números en una lista y devuelva su media y mediana."
   ]
  },
  {
   "cell_type": "code",
   "execution_count": 1,
   "metadata": {},
   "outputs": [],
   "source": [
    "import numpy as np"
   ]
  },
  {
   "cell_type": "code",
   "execution_count": 23,
   "metadata": {},
   "outputs": [
    {
     "ename": "TypeError",
     "evalue": "'NoneType' object is not iterable",
     "output_type": "error",
     "traceback": [
      "\u001b[1;31m---------------------------------------------------------------------------\u001b[0m",
      "\u001b[1;31mTypeError\u001b[0m                                 Traceback (most recent call last)",
      "Cell \u001b[1;32mIn[23], line 19\u001b[0m\n\u001b[0;32m     15\u001b[0m         \u001b[38;5;28mprint\u001b[39m(\u001b[38;5;124m'\u001b[39m\u001b[38;5;124mmediana\u001b[39m\u001b[38;5;124m'\u001b[39m,mediana)\n\u001b[0;32m     16\u001b[0m     \u001b[38;5;28;01mreturn\u001b[39;00m media,mediana\n\u001b[1;32m---> 19\u001b[0m \u001b[43mmedia_mediana\u001b[49m\u001b[43m(\u001b[49m\u001b[43mlista\u001b[49m\u001b[43m)\u001b[49m\n",
      "Cell \u001b[1;32mIn[23], line 5\u001b[0m, in \u001b[0;36mmedia_mediana\u001b[1;34m(lista)\u001b[0m\n\u001b[0;32m      2\u001b[0m lista\u001b[38;5;241m=\u001b[39m[\u001b[38;5;241m1\u001b[39m,\u001b[38;5;241m2\u001b[39m,\u001b[38;5;241m34\u001b[39m,\u001b[38;5;241m4\u001b[39m,\u001b[38;5;241m5\u001b[39m,\u001b[38;5;241m66\u001b[39m,\u001b[38;5;241m7\u001b[39m,\u001b[38;5;241m8\u001b[39m,\u001b[38;5;241m9\u001b[39m,\u001b[38;5;241m8\u001b[39m]\n\u001b[0;32m      3\u001b[0m lista\u001b[38;5;241m=\u001b[39mlista\u001b[38;5;241m.\u001b[39msort()\n\u001b[1;32m----> 5\u001b[0m media\u001b[38;5;241m=\u001b[39m\u001b[38;5;28;43msum\u001b[39;49m\u001b[43m(\u001b[49m\u001b[43mlista\u001b[49m\u001b[43m)\u001b[49m\u001b[38;5;241m/\u001b[39m\u001b[38;5;28mlen\u001b[39m(lista)\n\u001b[0;32m      6\u001b[0m \u001b[38;5;66;03m#si la lista es par , seria la suma de la posicion de la media y el anterior \u001b[39;00m\n\u001b[0;32m      7\u001b[0m x \u001b[38;5;241m=\u001b[39m\u001b[38;5;28mint\u001b[39m(\u001b[38;5;28mlen\u001b[39m(lista)\u001b[38;5;241m/\u001b[39m\u001b[38;5;241m2\u001b[39m)  \u001b[38;5;66;03m# para quitar las decimales se pondria //2 ... no es muy correcto poner el int\u001b[39;00m\n",
      "\u001b[1;31mTypeError\u001b[0m: 'NoneType' object is not iterable"
     ]
    }
   ],
   "source": [
    "\n",
    "def media_mediana(lista:list)->float:\n",
    "    lista=[1,2,34,4,5,66,7,8,9,8]\n",
    "    lista=lista.sort()\n",
    "\n",
    "    media=sum(lista)/len(lista)\n",
    "    #si la lista es par , seria la suma de la posicion de la media y el anterior \n",
    "    x =int(len(lista)/2)  # para quitar las decimales se pondria //2 ... no es muy correcto poner el int\n",
    "    print(x)\n",
    "    \n",
    "    if len(lista)%2!=0 :\n",
    "        mediana=lista[mediana]\n",
    "        print('Mediana',mediana)\n",
    "    else:\n",
    "        mediana=sum(lista[media-1:media+1])/2  # recordar que [3,5] la posicion 5 no lo incluie por eso se le pone +1\n",
    "        print('mediana',mediana)\n",
    "    return media,mediana\n",
    "\n",
    "\n",
    "media_mediana(lista)"
   ]
  },
  {
   "cell_type": "markdown",
   "metadata": {},
   "source": [
    "8. crear un programa que sin utilizar if-else si le pasas la variable XX te devuelva el pais. ejemplo: ES->España, us:Estados Unidos\n",
    "\n"
   ]
  },
  {
   "cell_type": "code",
   "execution_count": 22,
   "metadata": {},
   "outputs": [
    {
     "name": "stdout",
     "output_type": "stream",
     "text": [
      "España\n"
     ]
    }
   ],
   "source": [
    "\n",
    "\n",
    "def traducir_pais(codigo):\n",
    "    dicc = {\n",
    "    'es':'España',\n",
    "    'fr':'Francia'\n",
    "    \n",
    "    }\n",
    "\n",
    "    codigo=codigo.lower()\n",
    "    return dicc.get(codigo,'No esta act')\n",
    "\n",
    "\n",
    "print(traducir_pais('es'))\n"
   ]
  },
  {
   "cell_type": "markdown",
   "metadata": {},
   "source": [
    "9. Nuria es fitnes entonces tiene un intinerario para el gym :\n",
    "lunes= piernas\n",
    "martes= brazos\n",
    "miercoles=abdomen\n",
    "jueves=cardio\n",
    "viernes=cerveza\n",
    "sabado= pizza\n",
    "domingo = descansa\n",
    "\n",
    "vamos hacer un programa que dependiendo del dia le diga que tiene que hacer.\n",
    "\n",
    "pero resulta que Juan ahora es IFfobico y GETfobico..\n",
    "puedes ayudar a ambos."
   ]
  },
  {
   "cell_type": "code",
   "execution_count": 34,
   "metadata": {},
   "outputs": [
    {
     "name": "stdout",
     "output_type": "stream",
     "text": [
      "('martes', 'brazos')\n"
     ]
    }
   ],
   "source": [
    "tupla=(('lunes', 'piernas'),('martes','brazos'),('miercoles','abdomen'),('jueves','cardio'),('viernes','cerveza'),('sabado', 'pizza'),('domingo ','descansa'))\n",
    "\n",
    "def intinerario(tuplaa,dia):\n",
    "    f=0\n",
    "    for key in tupla:\n",
    "        \n",
    "        while key[0]==dia:   # para no poner en el for el  value for key, value in tupla:.... ponemos en key 0... key[0] ya que el 0  representa la parte de la key ... si ponemos 1 seria el value ... ya que son duplas(0,1)\n",
    "            tupla[f]\n",
    "            print(tupla[f])\n",
    "            break\n",
    "        f=f+1\n",
    "intinerario(tupla,'martes')\n"
   ]
  },
  {
   "cell_type": "code",
   "execution_count": 37,
   "metadata": {},
   "outputs": [
    {
     "data": {
      "text/plain": [
       "'piernas'"
      ]
     },
     "execution_count": 37,
     "metadata": {},
     "output_type": "execute_result"
    }
   ],
   "source": [
    "def intinerario(dia):\n",
    "    dic={\n",
    "        'lunes': 'piernas',\n",
    "        'martes':'brazos',\n",
    "        'miercoles':'abdomen',\n",
    "        'jueves':'cardio',\n",
    "        'viernes':'cerveza',\n",
    "        'sabado': 'pizza',\n",
    "        'domingo ':'descansa'\n",
    "    }\n",
    "\n",
    "    try:\n",
    "        return dic[dia]\n",
    "    except KeyError:\n",
    "        return 'dia no valido'\n",
    "intinerario('lunes')"
   ]
  },
  {
   "cell_type": "markdown",
   "metadata": {},
   "source": [
    "Imprimir los primeros 10 números naturales\n",
    "Escribe un programa que imprima los números del 1 al 10 utilizando un bucle for."
   ]
  },
  {
   "cell_type": "code",
   "execution_count": 39,
   "metadata": {},
   "outputs": [
    {
     "name": "stdout",
     "output_type": "stream",
     "text": [
      "1 2 3 4 5 6 7 8 9 10 "
     ]
    }
   ],
   "source": [
    "#profe\n",
    "for i in range(1,11):\n",
    "    print(i,end=' ')\n"
   ]
  },
  {
   "cell_type": "code",
   "execution_count": 52,
   "metadata": {},
   "outputs": [
    {
     "name": "stdout",
     "output_type": "stream",
     "text": [
      "1\n",
      "2\n",
      "3\n",
      "4\n",
      "5\n",
      "6\n",
      "7\n",
      "8\n",
      "9\n",
      "10\n"
     ]
    }
   ],
   "source": [
    "#yo\n",
    "for i in range(1,11):\n",
    "    print(i)"
   ]
  },
  {
   "cell_type": "markdown",
   "metadata": {},
   "source": [
    "11. Suma de dos números\n",
    "Escribe un programa que solicite al usuario dos números y muestre la suma de ellos."
   ]
  },
  {
   "cell_type": "code",
   "execution_count": 59,
   "metadata": {},
   "outputs": [
    {
     "name": "stdout",
     "output_type": "stream",
     "text": [
      "8\n"
     ]
    }
   ],
   "source": [
    "n=2\n",
    "m=6\n",
    "suma=m+n\n",
    "print(suma)\n"
   ]
  },
  {
   "cell_type": "code",
   "execution_count": 61,
   "metadata": {},
   "outputs": [
    {
     "name": "stdout",
     "output_type": "stream",
     "text": [
      "6.0\n"
     ]
    }
   ],
   "source": [
    "n=float(input('introduzca numero'))\n",
    "m=float(input('introduzca numero '))\n",
    "\n",
    "print(n+m)"
   ]
  },
  {
   "cell_type": "markdown",
   "metadata": {},
   "source": [
    "12. Identificar números pares e impares\n",
    "Escribe un programa que pida un número al usuario e indique si es par o impar.\n",
    " "
   ]
  },
  {
   "cell_type": "code",
   "execution_count": 65,
   "metadata": {},
   "outputs": [
    {
     "name": "stdout",
     "output_type": "stream",
     "text": [
      "es impar\n"
     ]
    }
   ],
   "source": [
    "i=float(input())\n",
    "if i !=0: \n",
    "    if i%2==0:\n",
    "        print('es par')\n",
    "    else:\n",
    "        print('es impar')\n",
    "else:\n",
    "    print(\"error el numero no puede ser 0\")"
   ]
  },
  {
   "cell_type": "markdown",
   "metadata": {},
   "source": [
    "\n",
    "13. Reverso de una cadena\n",
    "Escribe un programa que pida al usuario una cadena y la imprima al revés.\n"
   ]
  },
  {
   "cell_type": "code",
   "execution_count": 40,
   "metadata": {},
   "outputs": [
    {
     "name": "stdout",
     "output_type": "stream",
     "text": [
      "i n e D   a l o h\n"
     ]
    }
   ],
   "source": [
    "\n",
    "n=list(input('introduzca la cadena'))\n",
    "\n",
    "print(*reversed(n))  # para que no me lo muestre como lista y que lo muestre caracter por caracter\n",
    "\n"
   ]
  },
  {
   "cell_type": "markdown",
   "metadata": {},
   "source": [
    "14. Comprobar si un número es positivo, negativo o cero\n",
    "Escribe un programa que solicite un número y muestre si es positivo, negativo o cero.\n"
   ]
  },
  {
   "cell_type": "code",
   "execution_count": 81,
   "metadata": {},
   "outputs": [
    {
     "name": "stdout",
     "output_type": "stream",
     "text": [
      "es cero\n"
     ]
    }
   ],
   "source": [
    "n=int(input())\n",
    "\n",
    "if n<0:\n",
    "    print('es negativo')\n",
    "elif n>0:\n",
    "    print('positivo')\n",
    "else:\n",
    "    print('es cero')\n"
   ]
  },
  {
   "cell_type": "markdown",
   "metadata": {},
   "source": [
    "15. Suma de elementos de una lista\n",
    "Escribe un programa que tome una lista de números y devuelva la suma de todos los elementos de la lista.\n"
   ]
  },
  {
   "cell_type": "code",
   "execution_count": 44,
   "metadata": {},
   "outputs": [
    {
     "name": "stdout",
     "output_type": "stream",
     "text": [
      "56\n",
      "56\n"
     ]
    }
   ],
   "source": [
    "lista=[1,22,3,4,5,6,7,8]\n",
    "\n",
    "suma=0\n",
    "for i in lista:\n",
    "    suma=suma+i\n",
    "    \n",
    "print(suma)\n",
    "\n",
    "print(sum(lista)) #profe"
   ]
  },
  {
   "cell_type": "markdown",
   "metadata": {},
   "source": [
    "16. Conteo de vocales en una cadena\n",
    "Escribe un programa que tome una cadena de entrada y cuente cuántas vocales (a, e, i, o, u) contiene.\n"
   ]
  },
  {
   "cell_type": "code",
   "execution_count": 21,
   "metadata": {},
   "outputs": [
    {
     "name": "stdout",
     "output_type": "stream",
     "text": [
      "hay  2 de a\n",
      "3 de e\n",
      "1 de i\n",
      "3 de o\n",
      "0 de au\n"
     ]
    }
   ],
   "source": [
    "vocales=['a', 'e', 'i', 'o', 'u']\n",
    "\n",
    "palabra='No estoy de vacaciones'\n",
    "\n",
    "contador_a=palabra.count('a')\n",
    "contador_e=palabra.count('e')\n",
    "contador_i=palabra.count('i')\n",
    "contador_o=palabra.count('o')\n",
    "contador_u=palabra.count('u')\n",
    "\n",
    "\n",
    "print('hay ',contador_a , 'de a')\n",
    "print(contador_e, 'de e')\n",
    "print(contador_i, 'de i')\n",
    "print(contador_o, 'de o')\n",
    "print(contador_u, 'de au')\n",
    "\n"
   ]
  },
  {
   "cell_type": "markdown",
   "metadata": {},
   "source": [
    "17. Calcular el factorial de un número\n",
    "Escribe una función que reciba un número entero como argumento y devuelva su factorial utilizando recursión.\n"
   ]
  },
  {
   "cell_type": "code",
   "execution_count": 23,
   "metadata": {},
   "outputs": [
    {
     "name": "stdout",
     "output_type": "stream",
     "text": [
      "6\n"
     ]
    }
   ],
   "source": [
    "\n",
    "def factorial (n)->int:\n",
    "    if n==0:\n",
    "        return 1\n",
    "    else:\n",
    "        return n*factorial(n-1)\n",
    "\n",
    "print(factorial(3))\n"
   ]
  },
  {
   "cell_type": "markdown",
   "metadata": {},
   "source": [
    "18. Crear un generador de contraseñas aleatorias\n",
    "Escribe un programa que genere contraseñas aleatorias de longitud variable. Las contraseñas deben incluir letras mayúsculas, minúsculas, números y símbolos especiales.\n",
    "\n"
   ]
  },
  {
   "cell_type": "code",
   "execution_count": 57,
   "metadata": {},
   "outputs": [],
   "source": [
    "from string import ascii_letters \n",
    "import random"
   ]
  },
  {
   "cell_type": "code",
   "execution_count": 83,
   "metadata": {},
   "outputs": [
    {
     "name": "stdout",
     "output_type": "stream",
     "text": [
      "13\n",
      "Z @ e x F N _ C : l / ' `\n"
     ]
    }
   ],
   "source": [
    "Cadena=string.printable\n",
    "lista=list(range(5,20))\n",
    "n=random.randint(5,20)\n",
    "print(n)\n",
    "\n",
    "contraseña=' '.join(random.sample(Cadena,n))  # ' '.join (concatena cualquier string : mi_string=\"Deni\" y mi_string.join('perro') nos da = DeniPerroDeniPerro) es para quitar las comillas de la lista cuando lo imprime\n",
    "\n",
    "print(contraseña)\n"
   ]
  },
  {
   "cell_type": "markdown",
   "metadata": {},
   "source": [
    "Crear una baraja de póker\n",
    "Escribe un programa que cree una baraja de cartas de póker (52 cartas). Cada carta debe tener un palo (corazones, diamantes, tréboles, picas) y un valor (del 2 al 10, J, Q, K, A). Luego, simula mezclar la baraja y reparte 5 cartas al azar a un \"jugador\". (editado)"
   ]
  },
  {
   "cell_type": "code",
   "execution_count": 93,
   "metadata": {},
   "outputs": [
    {
     "data": {
      "text/plain": [
       "{'corazones': '♥', 'diamantes': '♦', 'tréboles': '♣', 'picas': '♠'}"
      ]
     },
     "execution_count": 93,
     "metadata": {},
     "output_type": "execute_result"
    }
   ],
   "source": [
    "symbols = {\n",
    "    'corazones': '\\u2665',\n",
    "    'diamantes': '\\u2666',\n",
    "    'tréboles': '\\u2663',\n",
    "    'picas': '\\u2660'\n",
    "}\n",
    "\n",
    "symbols"
   ]
  },
  {
   "cell_type": "code",
   "execution_count": 91,
   "metadata": {},
   "outputs": [
    {
     "data": {
      "text/plain": [
       "['Kcn', '10t', '7t', '3cn', '8c']"
      ]
     },
     "execution_count": 91,
     "metadata": {},
     "output_type": "execute_result"
    }
   ],
   "source": [
    "# profe\n",
    "numeros=['A','1','2','3','4','5','6','7','8','9','10','J','Q','K']\n",
    "palos=['c','r','t','cn']\n",
    "baraja=[]\n",
    "for numero in numeros:\n",
    "    for palo in palos:\n",
    "        baraja.append(f'{numero}{palo}')\n",
    "random.sample(baraja,5)"
   ]
  },
  {
   "cell_type": "code",
   "execution_count": 92,
   "metadata": {},
   "outputs": [
    {
     "data": {
      "text/plain": [
       "['Ac',\n",
       " 'Ar',\n",
       " 'At',\n",
       " 'Acn',\n",
       " '1c',\n",
       " '1r',\n",
       " '1t',\n",
       " '1cn',\n",
       " '2c',\n",
       " '2r',\n",
       " '2t',\n",
       " '2cn',\n",
       " '3c',\n",
       " '3r',\n",
       " '3t',\n",
       " '3cn',\n",
       " '4c',\n",
       " '4r',\n",
       " '4t',\n",
       " '4cn',\n",
       " '5c',\n",
       " '5r',\n",
       " '5t',\n",
       " '5cn',\n",
       " '6c',\n",
       " '6r',\n",
       " '6t',\n",
       " '6cn',\n",
       " '7c',\n",
       " '7r',\n",
       " '7t',\n",
       " '7cn',\n",
       " '8c',\n",
       " '8r',\n",
       " '8t',\n",
       " '8cn',\n",
       " '9c',\n",
       " '9r',\n",
       " '9t',\n",
       " '9cn',\n",
       " '10c',\n",
       " '10r',\n",
       " '10t',\n",
       " '10cn',\n",
       " 'Jc',\n",
       " 'Jr',\n",
       " 'Jt',\n",
       " 'Jcn',\n",
       " 'Qc',\n",
       " 'Qr',\n",
       " 'Qt',\n",
       " 'Qcn',\n",
       " 'Kc',\n",
       " 'Kr',\n",
       " 'Kt',\n",
       " 'Kcn']"
      ]
     },
     "execution_count": 92,
     "metadata": {},
     "output_type": "execute_result"
    }
   ],
   "source": [
    "baraja=[numero+palo for numero in numeros for palo in palos]\n",
    "baraja"
   ]
  }
 ],
 "metadata": {
  "kernelspec": {
   "display_name": "Python 3",
   "language": "python",
   "name": "python3"
  },
  "language_info": {
   "codemirror_mode": {
    "name": "ipython",
    "version": 3
   },
   "file_extension": ".py",
   "mimetype": "text/x-python",
   "name": "python",
   "nbconvert_exporter": "python",
   "pygments_lexer": "ipython3",
   "version": "3.12.6"
  }
 },
 "nbformat": 4,
 "nbformat_minor": 2
}
