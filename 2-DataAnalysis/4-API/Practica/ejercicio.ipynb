{
 "cells": [
  {
   "cell_type": "markdown",
   "metadata": {},
   "source": [
    "# Ejercicio: Crear un DataFrame Completo con SWAPI"
   ]
  },
  {
   "cell_type": "markdown",
   "metadata": {},
   "source": [
    "## Objetivo:\n",
    "El objetivo de este ejercicio es que los alumnos practiquen la obtención de datos de una API REST y su posterior procesamiento para crear un DataFrame en Pandas que contenga información detallada sobre personajes de Star Wars."
   ]
  },
  {
   "cell_type": "markdown",
   "metadata": {},
   "source": [
    "## Instrucciones:\n",
    "\n",
    "1. Obtener los datos:\n",
    "\n",
    "- Utilizar la API de Star Wars (SWAPI) para obtener datos sobre los personajes (people) de la saga.\n",
    "- La URL base para obtener la lista de personajes es: https://swapi.tech/api/.\n",
    "- Dado que los datos están paginados, deberán recorrer todas las páginas para obtener la lista completa de personajes.\n",
    "\n",
    "2. Crear el DataFrame:\n",
    "\n",
    "    Crear un DataFrame que incluya las siguientes columnas con la información detallada de cada personaje:\n",
    "\n",
    "    - id: Identificador único del personaje.\n",
    "    - name: Nombre del personaje.\n",
    "    - height: Altura del personaje (en centímetros).\n",
    "    - mass: Peso del personaje (en kilogramos).\n",
    "    - hair_color: Color de cabello.\n",
    "    - skin_color: Color de piel.\n",
    "    - eye_color: Color de ojos.\n",
    "    - birth_year: Año de nacimiento.\n",
    "    - gender: Género.\n",
    "    - homeworld: Nombre del planeta de origen (obtenido mediante una petición adicional a la API).\n",
    "    - species: Nombre de la especie del personaje (obtenido mediante una petición adicional si el campo species no está vacío).\n",
    "    - films: Lista de nombres de películas en las que aparece el personaje (obtenido mediante peticiones adicionales).\n",
    "\n",
    "3. Procesamiento de datos:\n",
    "\n",
    "    - Cada entrada en el campo homeworld de los personajes es un enlace a la API, desde el cual se debe obtener el nombre del planeta.\n",
    "\n",
    "    - El campo species contiene una lista de enlaces. Si no está vacío, se debe obtener el nombre de la especie desde la API.\n",
    "\n",
    "    - El campo films contiene una lista de enlaces a las películas. Se debe realizar una petición por cada enlace para obtener el título de la película.\n",
    "\n",
    "4. Entrega del ejercicio:\n",
    "\n",
    "    - Se debe entregar un archivo .ipynb (Jupyter Notebook) con el código que obtenga los datos, procese las respuestas y construya el DataFrame completo.\n",
    "\n",
    "    - También deben incluir en el notebook una breve descripción de cómo organizaron el proceso para obtener los datos y construir el DataFrame."
   ]
  },
  {
   "cell_type": "markdown",
   "metadata": {},
   "source": [
    "Tips:\n",
    "\n",
    "- Utilicen la librería requests para realizar las peticiones HTTP.\n",
    "- Tengan en cuenta que la API utiliza paginación, por lo que deberán iterar sobre las páginas hasta obtener todos los datos.\n",
    "- Los datos relacionados (homeworld, species, films) requieren realizar peticiones adicionales, así que gestionen adecuadamente los tiempos de espera (pueden considerar utilizar la función time.sleep() para evitar sobrecargar la API).\n",
    "- Si encuentran campos con datos faltantes o errores, documenten cómo lo manejan en su notebook."
   ]
  },
  {
   "cell_type": "code",
   "execution_count": 1,
   "metadata": {},
   "outputs": [],
   "source": [
    "import hashlib\n",
    "import requests\n",
    "import datetime\n",
    "import pandas as pd\n",
    "from concurrent.futures import ThreadPoolExecutor, as_completed\n",
    "from IPython.display import HTML\n",
    "import warnings\n",
    "warnings.filterwarnings('ignore')"
   ]
  },
  {
   "cell_type": "code",
   "execution_count": 6,
   "metadata": {},
   "outputs": [
    {
     "name": "stdout",
     "output_type": "stream",
     "text": [
      "{\"message\":\"ok\",\"result\":{\"films\":\"https://swapi.tech/api/films\",\"people\":\"https://swapi.tech/api/people\",\"planets\":\"https://swapi.tech/api/planets\",\"species\":\"https://swapi.tech/api/species\",\"starships\":\"https://swapi.tech/api/starships\",\"vehicles\":\"https://swapi.tech/api/vehicles\"}}\n"
     ]
    }
   ],
   "source": [
    "url = \"https://swapi.tech/api/\"\n",
    "response = requests.get(url)\n",
    "print(response.text)"
   ]
  },
  {
   "cell_type": "code",
   "execution_count": 10,
   "metadata": {},
   "outputs": [],
   "source": [
    "def almacenar_dataframe(respuesta):\n",
    "\n",
    "    starwars_dict = {\n",
    "        \"id\": [x.get('id') for x in respuesta['data']['results']],\n",
    "        \"name\": [x.get('name') for x in respuesta['data']['results']],\n",
    "        \"height\": [x.get('height') for x in respuesta['data']['results']],\n",
    "        \"mass\": [x.get('mass') for x in respuesta['data']['results']],        \n",
    "        \"hair_color\": [x.get('hair_color') for x in respuesta['data']['results']],\n",
    "        \"skin_color\": [x.get('skin_color') for x in respuesta['data']['results']],\n",
    "        \"eye_color\": [x.get('eye_color') for x in respuesta['data']['results']],\n",
    "        \"birth_year\": [x.get('birth_year') for x in respuesta['data']['results']],\n",
    "        \"gender\": [x.get('gender') for x in respuesta['data']['results']],\n",
    "        \"homeworld\": [x.get('homeworld') for x in respuesta['data']['results']],\n",
    "        \"species\": [x.get('species') for x in respuesta['data']['results']],\n",
    "        \"films\": [x.get('films') for x in respuesta['data']['results']],\n",
    "\n",
    "    }\n",
    "    df = pd.DataFrame(starwars_dict)"
   ]
  }
 ],
 "metadata": {
  "kernelspec": {
   "display_name": "bootcamp-ds-gDITtNOb-py3.11",
   "language": "python",
   "name": "python3"
  },
  "language_info": {
   "codemirror_mode": {
    "name": "ipython",
    "version": 3
   },
   "file_extension": ".py",
   "mimetype": "text/x-python",
   "name": "python",
   "nbconvert_exporter": "python",
   "pygments_lexer": "ipython3",
   "version": "3.11.7"
  },
  "orig_nbformat": 4
 },
 "nbformat": 4,
 "nbformat_minor": 2
}
