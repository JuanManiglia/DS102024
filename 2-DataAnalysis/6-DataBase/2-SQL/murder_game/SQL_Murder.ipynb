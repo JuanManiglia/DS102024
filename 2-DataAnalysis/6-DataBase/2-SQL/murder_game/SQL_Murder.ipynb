{
  "cells": [
    {
      "cell_type": "markdown",
      "metadata": {
        "id": "Ej11X-Yvy6Y9"
      },
      "source": [
        "# SQL"
      ]
    },
    {
      "cell_type": "markdown",
      "metadata": {},
      "source": [
        "## Conexión a PostgreSQL usando SQLAlchemy"
      ]
    },
    {
      "cell_type": "code",
      "execution_count": 2,
      "metadata": {},
      "outputs": [
        {
          "name": "stdout",
          "output_type": "stream",
          "text": [
            "Conexión exitosa\n"
          ]
        }
      ],
      "source": [
        "import os\n",
        "import pandas as pd\n",
        "from typing import Union\n",
        "from sqlalchemy import create_engine, text\n",
        "\n",
        "# Reemplaza USER y PASSWORD del .env\n",
        "engine = create_engine(\"sqlite:///data/sql-murder-mystery.db\")\n",
        "\n",
        "# Probar la conexión\n",
        "try:\n",
        "    connection = engine.connect()\n",
        "    print(\"Conexión exitosa\")\n",
        "    connection.close()\n",
        "except Exception as e:\n",
        "    print(f\"Error al conectar: {e}\")\n",
        "\n",
        "\n",
        "def ejecutar_query(query: str) -> Union[pd.DataFrame, str]:\n",
        "    \"\"\"\n",
        "    Ejecuta una consulta SQL en la base de datos y devuelve un DataFrame.\n",
        "\n",
        "    Parámetros:\n",
        "    - query (str): La consulta SQL a ejecutar.\n",
        "\n",
        "    Retorna:\n",
        "    - Union[pd.DataFrame, pl.DataFrame, str]: Retorna un DataFrame en pandas o polars dependiendo del parámetro 'devolver_polars',\n",
        "      o un mensaje de éxito/error si la operación no es un SELECT.\n",
        "    \"\"\"\n",
        "    \n",
        "    with engine.connect() as connection:\n",
        "        try:\n",
        "            result = connection.execute(text(query))\n",
        "            \n",
        "            # Determinar si es una consulta SELECT para devolver datos\n",
        "            if result.returns_rows:\n",
        "                rows = result.fetchall()\n",
        "                columns = result.keys()\n",
        "\n",
        "                # Convertir filas en un diccionario de listas para crear correctamente el DataFrame en polars\n",
        "                data_dict = {col: [row[idx] for row in rows] for idx, col in enumerate(columns)}\n",
        "\n",
        "                # Verificación de coincidencia de columnas y filas\n",
        "                return pd.DataFrame(data_dict)\n",
        "            else:\n",
        "                connection.commit()\n",
        "                return f\"Query ejecutada correctamente: {result.rowcount} filas afectadas.\"\n",
        "        except Exception as e:\n",
        "            return f\"Error al ejecutar la query: {e}\"\n"
      ]
    },
    {
      "cell_type": "code",
      "execution_count": 5,
      "metadata": {
        "colab": {
          "base_uri": "https://localhost:8080/",
          "height": 159
        },
        "id": "GoWPG4ne6iCz",
        "outputId": "00902065-d2be-429b-cd67-4a495f4aa7b8"
      },
      "outputs": [
        {
          "data": {
            "text/html": [
              "<div>\n",
              "<style scoped>\n",
              "    .dataframe tbody tr th:only-of-type {\n",
              "        vertical-align: middle;\n",
              "    }\n",
              "\n",
              "    .dataframe tbody tr th {\n",
              "        vertical-align: top;\n",
              "    }\n",
              "\n",
              "    .dataframe thead th {\n",
              "        text-align: right;\n",
              "    }\n",
              "</style>\n",
              "<table border=\"1\" class=\"dataframe\">\n",
              "  <thead>\n",
              "    <tr style=\"text-align: right;\">\n",
              "      <th></th>\n",
              "      <th>date</th>\n",
              "      <th>type</th>\n",
              "      <th>description</th>\n",
              "      <th>city</th>\n",
              "    </tr>\n",
              "  </thead>\n",
              "  <tbody>\n",
              "    <tr>\n",
              "      <th>0</th>\n",
              "      <td>20180115</td>\n",
              "      <td>murder</td>\n",
              "      <td>Security footage shows that there were 2 witne...</td>\n",
              "      <td>SQL City</td>\n",
              "    </tr>\n",
              "  </tbody>\n",
              "</table>\n",
              "</div>"
            ],
            "text/plain": [
              "       date    type                                        description  \\\n",
              "0  20180115  murder  Security footage shows that there were 2 witne...   \n",
              "\n",
              "       city  \n",
              "0  SQL City  "
            ]
          },
          "execution_count": 5,
          "metadata": {},
          "output_type": "execute_result"
        }
      ],
      "source": [
        "query = 'SELECT * FROM crime_scene_report WHERE date = 20180115 AND city = \"SQL City\" AND type=\"murder\" '\n",
        "\n",
        "ejecutar_query(query=query)"
      ]
    },
    {
      "cell_type": "code",
      "execution_count": 6,
      "metadata": {
        "colab": {
          "base_uri": "https://localhost:8080/",
          "height": 159
        },
        "id": "9jYYgjP568zC",
        "outputId": "5a050c26-a8d5-4bc0-acf3-c50d3a02128d"
      },
      "outputs": [
        {
          "data": {
            "text/html": [
              "<div>\n",
              "<style scoped>\n",
              "    .dataframe tbody tr th:only-of-type {\n",
              "        vertical-align: middle;\n",
              "    }\n",
              "\n",
              "    .dataframe tbody tr th {\n",
              "        vertical-align: top;\n",
              "    }\n",
              "\n",
              "    .dataframe thead th {\n",
              "        text-align: right;\n",
              "    }\n",
              "</style>\n",
              "<table border=\"1\" class=\"dataframe\">\n",
              "  <thead>\n",
              "    <tr style=\"text-align: right;\">\n",
              "      <th></th>\n",
              "      <th>id</th>\n",
              "      <th>name</th>\n",
              "      <th>license_id</th>\n",
              "      <th>address_number</th>\n",
              "      <th>address_street_name</th>\n",
              "      <th>ssn</th>\n",
              "    </tr>\n",
              "  </thead>\n",
              "  <tbody>\n",
              "    <tr>\n",
              "      <th>0</th>\n",
              "      <td>14887</td>\n",
              "      <td>Morty Schapiro</td>\n",
              "      <td>118009</td>\n",
              "      <td>4919</td>\n",
              "      <td>Northwestern Dr</td>\n",
              "      <td>111564949</td>\n",
              "    </tr>\n",
              "  </tbody>\n",
              "</table>\n",
              "</div>"
            ],
            "text/plain": [
              "      id            name  license_id  address_number address_street_name  \\\n",
              "0  14887  Morty Schapiro      118009            4919     Northwestern Dr   \n",
              "\n",
              "         ssn  \n",
              "0  111564949  "
            ]
          },
          "execution_count": 6,
          "metadata": {},
          "output_type": "execute_result"
        }
      ],
      "source": [
        "query ='SELECT * FROM person WHERE address_street_name = \"Northwestern Dr\"  ORDER BY address_number DESC LIMIT 1'\n",
        "\n",
        "\n",
        "ejecutar_query(query=query)"
      ]
    },
    {
      "cell_type": "code",
      "execution_count": 9,
      "metadata": {
        "colab": {
          "base_uri": "https://localhost:8080/",
          "height": 97
        },
        "id": "zgfE-oyR6bEw",
        "outputId": "29909a01-8e0a-4d89-ea81-9c931d1bcb22"
      },
      "outputs": [
        {
          "data": {
            "text/html": [
              "<div>\n",
              "<style scoped>\n",
              "    .dataframe tbody tr th:only-of-type {\n",
              "        vertical-align: middle;\n",
              "    }\n",
              "\n",
              "    .dataframe tbody tr th {\n",
              "        vertical-align: top;\n",
              "    }\n",
              "\n",
              "    .dataframe thead th {\n",
              "        text-align: right;\n",
              "    }\n",
              "</style>\n",
              "<table border=\"1\" class=\"dataframe\">\n",
              "  <thead>\n",
              "    <tr style=\"text-align: right;\">\n",
              "      <th></th>\n",
              "      <th>id</th>\n",
              "      <th>name</th>\n",
              "      <th>license_id</th>\n",
              "      <th>address_number</th>\n",
              "      <th>address_street_name</th>\n",
              "      <th>ssn</th>\n",
              "    </tr>\n",
              "  </thead>\n",
              "  <tbody>\n",
              "    <tr>\n",
              "      <th>0</th>\n",
              "      <td>16371</td>\n",
              "      <td>Annabel Miller</td>\n",
              "      <td>490173</td>\n",
              "      <td>103</td>\n",
              "      <td>Franklin Ave</td>\n",
              "      <td>318771143</td>\n",
              "    </tr>\n",
              "  </tbody>\n",
              "</table>\n",
              "</div>"
            ],
            "text/plain": [
              "      id            name  license_id  address_number address_street_name  \\\n",
              "0  16371  Annabel Miller      490173             103        Franklin Ave   \n",
              "\n",
              "         ssn  \n",
              "0  318771143  "
            ]
          },
          "execution_count": 9,
          "metadata": {},
          "output_type": "execute_result"
        }
      ],
      "source": [
        "query = \"SELECT * FROM person WHERE name LIKE '%Annabel%'AND address_street_name = 'Franklin Ave'\"\n",
        "\n",
        "ejecutar_query(query=query)"
      ]
    },
    {
      "cell_type": "code",
      "execution_count": 10,
      "metadata": {
        "colab": {
          "base_uri": "https://localhost:8080/",
          "height": 159
        },
        "id": "QSXZaaiVY87_",
        "outputId": "a4c1a398-2a5d-4f4b-f0df-d354442c1a40"
      },
      "outputs": [
        {
          "data": {
            "text/html": [
              "<div>\n",
              "<style scoped>\n",
              "    .dataframe tbody tr th:only-of-type {\n",
              "        vertical-align: middle;\n",
              "    }\n",
              "\n",
              "    .dataframe tbody tr th {\n",
              "        vertical-align: top;\n",
              "    }\n",
              "\n",
              "    .dataframe thead th {\n",
              "        text-align: right;\n",
              "    }\n",
              "</style>\n",
              "<table border=\"1\" class=\"dataframe\">\n",
              "  <thead>\n",
              "    <tr style=\"text-align: right;\">\n",
              "      <th></th>\n",
              "      <th>person_id</th>\n",
              "      <th>transcript</th>\n",
              "    </tr>\n",
              "  </thead>\n",
              "  <tbody>\n",
              "    <tr>\n",
              "      <th>0</th>\n",
              "      <td>14887</td>\n",
              "      <td>I heard a gunshot and then saw a man run out. ...</td>\n",
              "    </tr>\n",
              "    <tr>\n",
              "      <th>1</th>\n",
              "      <td>16371</td>\n",
              "      <td>I saw the murder happen, and I recognized the ...</td>\n",
              "    </tr>\n",
              "  </tbody>\n",
              "</table>\n",
              "</div>"
            ],
            "text/plain": [
              "   person_id                                         transcript\n",
              "0      14887  I heard a gunshot and then saw a man run out. ...\n",
              "1      16371  I saw the murder happen, and I recognized the ..."
            ]
          },
          "execution_count": 10,
          "metadata": {},
          "output_type": "execute_result"
        }
      ],
      "source": [
        "query= 'SELECT * FROM interview WHERE person_id IN (\"14887\", \"16371\")'\n",
        "\n",
        "ejecutar_query(query=query)"
      ]
    },
    {
      "cell_type": "code",
      "execution_count": 11,
      "metadata": {
        "colab": {
          "base_uri": "https://localhost:8080/",
          "height": 97
        },
        "id": "-bmjZbx1ZonS",
        "outputId": "00762230-f24f-4bb8-9b8c-3cb1fa1dcc51"
      },
      "outputs": [
        {
          "data": {
            "text/html": [
              "<div>\n",
              "<style scoped>\n",
              "    .dataframe tbody tr th:only-of-type {\n",
              "        vertical-align: middle;\n",
              "    }\n",
              "\n",
              "    .dataframe tbody tr th {\n",
              "        vertical-align: top;\n",
              "    }\n",
              "\n",
              "    .dataframe thead th {\n",
              "        text-align: right;\n",
              "    }\n",
              "</style>\n",
              "<table border=\"1\" class=\"dataframe\">\n",
              "  <thead>\n",
              "    <tr style=\"text-align: right;\">\n",
              "      <th></th>\n",
              "      <th>membership_id</th>\n",
              "      <th>check_in_date</th>\n",
              "      <th>check_in_time</th>\n",
              "      <th>check_out_time</th>\n",
              "    </tr>\n",
              "  </thead>\n",
              "  <tbody>\n",
              "    <tr>\n",
              "      <th>0</th>\n",
              "      <td>48Z7A</td>\n",
              "      <td>20180109</td>\n",
              "      <td>1600</td>\n",
              "      <td>1730</td>\n",
              "    </tr>\n",
              "    <tr>\n",
              "      <th>1</th>\n",
              "      <td>48Z55</td>\n",
              "      <td>20180109</td>\n",
              "      <td>1530</td>\n",
              "      <td>1700</td>\n",
              "    </tr>\n",
              "  </tbody>\n",
              "</table>\n",
              "</div>"
            ],
            "text/plain": [
              "  membership_id  check_in_date  check_in_time  check_out_time\n",
              "0         48Z7A       20180109           1600            1730\n",
              "1         48Z55       20180109           1530            1700"
            ]
          },
          "execution_count": 11,
          "metadata": {},
          "output_type": "execute_result"
        }
      ],
      "source": [
        "query= 'SELECT * FROM get_fit_now_check_in WHERE membership_id LIKE \"48Z%\" AND check_in_date = \"20180109\"'\n",
        "\n",
        "ejecutar_query(query=query)"
      ]
    },
    {
      "cell_type": "code",
      "execution_count": 12,
      "metadata": {
        "colab": {
          "base_uri": "https://localhost:8080/",
          "height": 97
        },
        "id": "hJRXJmuraJfJ",
        "outputId": "6ef2728b-de42-4f29-86ff-d3a7b324312c"
      },
      "outputs": [
        {
          "data": {
            "text/html": [
              "<div>\n",
              "<style scoped>\n",
              "    .dataframe tbody tr th:only-of-type {\n",
              "        vertical-align: middle;\n",
              "    }\n",
              "\n",
              "    .dataframe tbody tr th {\n",
              "        vertical-align: top;\n",
              "    }\n",
              "\n",
              "    .dataframe thead th {\n",
              "        text-align: right;\n",
              "    }\n",
              "</style>\n",
              "<table border=\"1\" class=\"dataframe\">\n",
              "  <thead>\n",
              "    <tr style=\"text-align: right;\">\n",
              "      <th></th>\n",
              "      <th>id</th>\n",
              "      <th>age</th>\n",
              "      <th>height</th>\n",
              "      <th>eye_color</th>\n",
              "      <th>hair_color</th>\n",
              "      <th>gender</th>\n",
              "      <th>plate_number</th>\n",
              "      <th>car_make</th>\n",
              "      <th>car_model</th>\n",
              "    </tr>\n",
              "  </thead>\n",
              "  <tbody>\n",
              "    <tr>\n",
              "      <th>0</th>\n",
              "      <td>423327</td>\n",
              "      <td>30</td>\n",
              "      <td>70</td>\n",
              "      <td>brown</td>\n",
              "      <td>brown</td>\n",
              "      <td>male</td>\n",
              "      <td>0H42W2</td>\n",
              "      <td>Chevrolet</td>\n",
              "      <td>Spark LS</td>\n",
              "    </tr>\n",
              "    <tr>\n",
              "      <th>1</th>\n",
              "      <td>664760</td>\n",
              "      <td>21</td>\n",
              "      <td>71</td>\n",
              "      <td>black</td>\n",
              "      <td>black</td>\n",
              "      <td>male</td>\n",
              "      <td>4H42WR</td>\n",
              "      <td>Nissan</td>\n",
              "      <td>Altima</td>\n",
              "    </tr>\n",
              "  </tbody>\n",
              "</table>\n",
              "</div>"
            ],
            "text/plain": [
              "       id  age  height eye_color hair_color gender plate_number   car_make  \\\n",
              "0  423327   30      70     brown      brown   male       0H42W2  Chevrolet   \n",
              "1  664760   21      71     black      black   male       4H42WR     Nissan   \n",
              "\n",
              "  car_model  \n",
              "0  Spark LS  \n",
              "1    Altima  "
            ]
          },
          "execution_count": 12,
          "metadata": {},
          "output_type": "execute_result"
        }
      ],
      "source": [
        "query= 'SELECT * FROM drivers_license WHERE gender = \"male\" AND plate_number LIKE \"%H42W%\"'\n",
        "\n",
        "ejecutar_query(query=query)"
      ]
    },
    {
      "cell_type": "code",
      "execution_count": 13,
      "metadata": {
        "colab": {
          "base_uri": "https://localhost:8080/",
          "height": 97
        },
        "id": "cVdeElzqa968",
        "outputId": "5678aae8-53af-4c6c-b35b-993f24b815ae"
      },
      "outputs": [
        {
          "data": {
            "text/html": [
              "<div>\n",
              "<style scoped>\n",
              "    .dataframe tbody tr th:only-of-type {\n",
              "        vertical-align: middle;\n",
              "    }\n",
              "\n",
              "    .dataframe tbody tr th {\n",
              "        vertical-align: top;\n",
              "    }\n",
              "\n",
              "    .dataframe thead th {\n",
              "        text-align: right;\n",
              "    }\n",
              "</style>\n",
              "<table border=\"1\" class=\"dataframe\">\n",
              "  <thead>\n",
              "    <tr style=\"text-align: right;\">\n",
              "      <th></th>\n",
              "      <th>id</th>\n",
              "      <th>name</th>\n",
              "      <th>license_id</th>\n",
              "      <th>address_number</th>\n",
              "      <th>address_street_name</th>\n",
              "      <th>ssn</th>\n",
              "    </tr>\n",
              "  </thead>\n",
              "  <tbody>\n",
              "    <tr>\n",
              "      <th>0</th>\n",
              "      <td>51739</td>\n",
              "      <td>Tushar Chandra</td>\n",
              "      <td>664760</td>\n",
              "      <td>312</td>\n",
              "      <td>Phi St</td>\n",
              "      <td>137882671</td>\n",
              "    </tr>\n",
              "    <tr>\n",
              "      <th>1</th>\n",
              "      <td>67318</td>\n",
              "      <td>Jeremy Bowers</td>\n",
              "      <td>423327</td>\n",
              "      <td>530</td>\n",
              "      <td>Washington Pl, Apt 3A</td>\n",
              "      <td>871539279</td>\n",
              "    </tr>\n",
              "  </tbody>\n",
              "</table>\n",
              "</div>"
            ],
            "text/plain": [
              "      id            name  license_id  address_number    address_street_name  \\\n",
              "0  51739  Tushar Chandra      664760             312                 Phi St   \n",
              "1  67318   Jeremy Bowers      423327             530  Washington Pl, Apt 3A   \n",
              "\n",
              "         ssn  \n",
              "0  137882671  \n",
              "1  871539279  "
            ]
          },
          "execution_count": 13,
          "metadata": {},
          "output_type": "execute_result"
        }
      ],
      "source": [
        "query= 'SELECT * FROM person WHERE license_id IN (\"423327\", \"664760\")'\n",
        "\n",
        "ejecutar_query(query=query)"
      ]
    },
    {
      "cell_type": "code",
      "execution_count": 15,
      "metadata": {
        "colab": {
          "base_uri": "https://localhost:8080/",
          "height": 128
        },
        "id": "hRBWuE-Ec8TO",
        "outputId": "74eb542d-4704-4d64-844e-77be4e19b728"
      },
      "outputs": [
        {
          "data": {
            "text/html": [
              "<div>\n",
              "<style scoped>\n",
              "    .dataframe tbody tr th:only-of-type {\n",
              "        vertical-align: middle;\n",
              "    }\n",
              "\n",
              "    .dataframe tbody tr th {\n",
              "        vertical-align: top;\n",
              "    }\n",
              "\n",
              "    .dataframe thead th {\n",
              "        text-align: right;\n",
              "    }\n",
              "</style>\n",
              "<table border=\"1\" class=\"dataframe\">\n",
              "  <thead>\n",
              "    <tr style=\"text-align: right;\">\n",
              "      <th></th>\n",
              "      <th>id</th>\n",
              "      <th>person_id</th>\n",
              "      <th>name</th>\n",
              "      <th>membership_start_date</th>\n",
              "      <th>membership_status</th>\n",
              "    </tr>\n",
              "  </thead>\n",
              "  <tbody>\n",
              "    <tr>\n",
              "      <th>0</th>\n",
              "      <td>48Z55</td>\n",
              "      <td>67318</td>\n",
              "      <td>Jeremy Bowers</td>\n",
              "      <td>20160101</td>\n",
              "      <td>gold</td>\n",
              "    </tr>\n",
              "  </tbody>\n",
              "</table>\n",
              "</div>"
            ],
            "text/plain": [
              "      id  person_id           name  membership_start_date membership_status\n",
              "0  48Z55      67318  Jeremy Bowers               20160101              gold"
            ]
          },
          "execution_count": 15,
          "metadata": {},
          "output_type": "execute_result"
        }
      ],
      "source": [
        "query= \"SELECT * FROM get_fit_now_member WHERE person_id IN ('51739', '67318')\"\n",
        "\n",
        "ejecutar_query(query=query)"
      ]
    }
  ],
  "metadata": {
    "colab": {
      "collapsed_sections": [],
      "name": "HUMAI - SQL.ipynb",
      "provenance": []
    },
    "kernelspec": {
      "display_name": "bootcamp-ds-gDITtNOb-py3.11",
      "language": "python",
      "name": "python3"
    },
    "language_info": {
      "codemirror_mode": {
        "name": "ipython",
        "version": 3
      },
      "file_extension": ".py",
      "mimetype": "text/x-python",
      "name": "python",
      "nbconvert_exporter": "python",
      "pygments_lexer": "ipython3",
      "version": "3.11.7"
    }
  },
  "nbformat": 4,
  "nbformat_minor": 0
}
