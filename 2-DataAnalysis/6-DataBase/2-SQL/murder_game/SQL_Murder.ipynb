{
  "cells": [
    {
      "cell_type": "markdown",
      "metadata": {
        "id": "Ej11X-Yvy6Y9"
      },
      "source": [
        "# SQL"
      ]
    },
    {
      "cell_type": "markdown",
      "metadata": {},
      "source": [
        "## Conexión a PostgreSQL usando SQLAlchemy"
      ]
    },
    {
      "cell_type": "code",
      "execution_count": 4,
      "metadata": {},
      "outputs": [
        {
          "name": "stdout",
          "output_type": "stream",
          "text": [
            "Conexión exitosa\n"
          ]
        }
      ],
      "source": [
        "import os\n",
        "import pandas as pd\n",
        "from typing import Union\n",
        "from sqlalchemy import create_engine, text\n",
        "\n",
        "# Reemplaza USER y PASSWORD del .env\n",
        "engine = create_engine(\"sqlite:///data/sql-murder-mystery.db\")\n",
        "\n",
        "# Probar la conexión\n",
        "try:\n",
        "    connection = engine.connect()\n",
        "    print(\"Conexión exitosa\")\n",
        "    connection.close()\n",
        "except Exception as e:\n",
        "    print(f\"Error al conectar: {e}\")\n",
        "\n",
        "\n",
        "def ejecutar_query(query: str) -> Union[pd.DataFrame, str]:\n",
        "    \"\"\"\n",
        "    Ejecuta una consulta SQL en la base de datos y devuelve un DataFrame.\n",
        "\n",
        "    Parámetros:\n",
        "    - query (str): La consulta SQL a ejecutar.\n",
        "\n",
        "    Retorna:\n",
        "    - Union[pd.DataFrame, pl.DataFrame, str]: Retorna un DataFrame en pandas o polars dependiendo del parámetro 'devolver_polars',\n",
        "      o un mensaje de éxito/error si la operación no es un SELECT.\n",
        "    \"\"\"\n",
        "    \n",
        "    with engine.connect() as connection:\n",
        "        try:\n",
        "            result = connection.execute(text(query))\n",
        "            \n",
        "            # Determinar si es una consulta SELECT para devolver datos\n",
        "            if result.returns_rows:\n",
        "                rows = result.fetchall()\n",
        "                columns = result.keys()\n",
        "\n",
        "                # Convertir filas en un diccionario de listas para crear correctamente el DataFrame en polars\n",
        "                data_dict = {col: [row[idx] for row in rows] for idx, col in enumerate(columns)}\n",
        "\n",
        "                # Verificación de coincidencia de columnas y filas\n",
        "                return pd.DataFrame(data_dict)\n",
        "            else:\n",
        "                connection.commit()\n",
        "                return f\"Query ejecutada correctamente: {result.rowcount} filas afectadas.\"\n",
        "        except Exception as e:\n",
        "            return f\"Error al ejecutar la query: {e}\"\n"
      ]
    },
    {
      "cell_type": "code",
      "execution_count": 6,
      "metadata": {
        "colab": {
          "base_uri": "https://localhost:8080/",
          "height": 159
        },
        "id": "GoWPG4ne6iCz",
        "outputId": "00902065-d2be-429b-cd67-4a495f4aa7b8"
      },
      "outputs": [
        {
          "data": {
            "text/html": [
              "<div>\n",
              "<style scoped>\n",
              "    .dataframe tbody tr th:only-of-type {\n",
              "        vertical-align: middle;\n",
              "    }\n",
              "\n",
              "    .dataframe tbody tr th {\n",
              "        vertical-align: top;\n",
              "    }\n",
              "\n",
              "    .dataframe thead th {\n",
              "        text-align: right;\n",
              "    }\n",
              "</style>\n",
              "<table border=\"1\" class=\"dataframe\">\n",
              "  <thead>\n",
              "    <tr style=\"text-align: right;\">\n",
              "      <th></th>\n",
              "      <th>date</th>\n",
              "      <th>type</th>\n",
              "      <th>description</th>\n",
              "      <th>city</th>\n",
              "    </tr>\n",
              "  </thead>\n",
              "  <tbody>\n",
              "    <tr>\n",
              "      <th>0</th>\n",
              "      <td>20180115</td>\n",
              "      <td>assault</td>\n",
              "      <td>Hamilton: Lee, do you yield? Burr: You shot hi...</td>\n",
              "      <td>SQL City</td>\n",
              "    </tr>\n",
              "    <tr>\n",
              "      <th>1</th>\n",
              "      <td>20180115</td>\n",
              "      <td>assault</td>\n",
              "      <td>Report Not Found</td>\n",
              "      <td>SQL City</td>\n",
              "    </tr>\n",
              "    <tr>\n",
              "      <th>2</th>\n",
              "      <td>20180115</td>\n",
              "      <td>murder</td>\n",
              "      <td>Security footage shows that there were 2 witne...</td>\n",
              "      <td>SQL City</td>\n",
              "    </tr>\n",
              "  </tbody>\n",
              "</table>\n",
              "</div>"
            ],
            "text/plain": [
              "       date     type                                        description  \\\n",
              "0  20180115  assault  Hamilton: Lee, do you yield? Burr: You shot hi...   \n",
              "1  20180115  assault                                   Report Not Found   \n",
              "2  20180115   murder  Security footage shows that there were 2 witne...   \n",
              "\n",
              "       city  \n",
              "0  SQL City  \n",
              "1  SQL City  \n",
              "2  SQL City  "
            ]
          },
          "execution_count": 6,
          "metadata": {},
          "output_type": "execute_result"
        }
      ],
      "source": [
        "query = 'SELECT * FROM crime_scene_report WHERE date = 20180115 AND city = \"SQL City\"'\n",
        "\n",
        "ejecutar_query(query=query)"
      ]
    },
    {
      "cell_type": "code",
      "execution_count": 3,
      "metadata": {
        "colab": {
          "base_uri": "https://localhost:8080/",
          "height": 159
        },
        "id": "9jYYgjP568zC",
        "outputId": "5a050c26-a8d5-4bc0-acf3-c50d3a02128d"
      },
      "outputs": [
        {
          "ename": "SyntaxError",
          "evalue": "invalid syntax (3037353974.py, line 1)",
          "output_type": "error",
          "traceback": [
            "\u001b[1;36m  Cell \u001b[1;32mIn[3], line 1\u001b[1;36m\u001b[0m\n\u001b[1;33m    query =SELECT * FROM person WHERE address_street_name = \"Northwestern Dr\"  ORDER BY address_number DESC LIMIT 1\u001b[0m\n\u001b[1;37m                         ^\u001b[0m\n\u001b[1;31mSyntaxError\u001b[0m\u001b[1;31m:\u001b[0m invalid syntax\n"
          ]
        }
      ],
      "source": [
        "query =SELECT * FROM person WHERE address_street_name = \"Northwestern Dr\"  ORDER BY address_number DESC LIMIT 1\n",
        "\n",
        "\n",
        "ejecutar_query(query=query)"
      ]
    },
    {
      "cell_type": "code",
      "execution_count": null,
      "metadata": {
        "colab": {
          "base_uri": "https://localhost:8080/",
          "height": 97
        },
        "id": "zgfE-oyR6bEw",
        "outputId": "29909a01-8e0a-4d89-ea81-9c931d1bcb22"
      },
      "outputs": [],
      "source": [
        "query = \"\"\n",
        "\n",
        "ejecutar_query(query=query)"
      ]
    },
    {
      "cell_type": "code",
      "execution_count": null,
      "metadata": {
        "colab": {
          "base_uri": "https://localhost:8080/",
          "height": 159
        },
        "id": "QSXZaaiVY87_",
        "outputId": "a4c1a398-2a5d-4f4b-f0df-d354442c1a40"
      },
      "outputs": [],
      "source": [
        "query= ''\n",
        "\n",
        "ejecutar_query(query=query)"
      ]
    },
    {
      "cell_type": "code",
      "execution_count": null,
      "metadata": {
        "colab": {
          "base_uri": "https://localhost:8080/",
          "height": 97
        },
        "id": "-bmjZbx1ZonS",
        "outputId": "00762230-f24f-4bb8-9b8c-3cb1fa1dcc51"
      },
      "outputs": [],
      "source": [
        "query= ''\n",
        "\n",
        "ejecutar_query(query=query)"
      ]
    },
    {
      "cell_type": "code",
      "execution_count": null,
      "metadata": {
        "colab": {
          "base_uri": "https://localhost:8080/",
          "height": 97
        },
        "id": "hJRXJmuraJfJ",
        "outputId": "6ef2728b-de42-4f29-86ff-d3a7b324312c"
      },
      "outputs": [],
      "source": [
        "query= ''\n",
        "\n",
        "ejecutar_query(query=query)"
      ]
    },
    {
      "cell_type": "code",
      "execution_count": null,
      "metadata": {
        "colab": {
          "base_uri": "https://localhost:8080/",
          "height": 97
        },
        "id": "cVdeElzqa968",
        "outputId": "5678aae8-53af-4c6c-b35b-993f24b815ae"
      },
      "outputs": [],
      "source": [
        "query= ''\n",
        "\n",
        "ejecutar_query(query=query)"
      ]
    },
    {
      "cell_type": "code",
      "execution_count": null,
      "metadata": {
        "colab": {
          "base_uri": "https://localhost:8080/",
          "height": 128
        },
        "id": "hRBWuE-Ec8TO",
        "outputId": "74eb542d-4704-4d64-844e-77be4e19b728"
      },
      "outputs": [],
      "source": [
        "query= \"\"\n",
        "\n",
        "ejecutar_query(query=query)"
      ]
    }
  ],
  "metadata": {
    "colab": {
      "collapsed_sections": [],
      "name": "HUMAI - SQL.ipynb",
      "provenance": []
    },
    "kernelspec": {
      "display_name": "bootcamp-ds-gDITtNOb-py3.11",
      "language": "python",
      "name": "python3"
    },
    "language_info": {
      "codemirror_mode": {
        "name": "ipython",
        "version": 3
      },
      "file_extension": ".py",
      "mimetype": "text/x-python",
      "name": "python",
      "nbconvert_exporter": "python",
      "pygments_lexer": "ipython3",
      "version": "3.11.7"
    }
  },
  "nbformat": 4,
  "nbformat_minor": 0
}
