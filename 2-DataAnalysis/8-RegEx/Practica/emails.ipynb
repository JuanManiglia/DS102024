{
 "cells": [
  {
   "cell_type": "code",
   "execution_count": 4,
   "metadata": {},
   "outputs": [],
   "source": [
    "import re\n",
    "\n",
    "emails = [\n",
    "\"loquesea@\",\n",
    "\"juanmaniglia@thebridgeschool.tech\",\n",
    "\"juan.maniglia@uc3m.es\",\n",
    "\"juan-12-1993@mi-correo.net\"\n",
    "]"
   ]
  },
  {
   "cell_type": "code",
   "execution_count": 5,
   "metadata": {},
   "outputs": [
    {
     "name": "stdout",
     "output_type": "stream",
     "text": [
      "['loquesea', 'juanmaniglia', 'juan.maniglia', 'juan-12-1993']\n"
     ]
    }
   ],
   "source": [
    "pattern = r\"^([^@]+)@\"\n",
    "\n",
    "usernames = [re.match(pattern, email).group(1) for email in emails if re.match(pattern, email)]\n",
    "\n",
    "print(usernames)"
   ]
  },
  {
   "cell_type": "code",
   "execution_count": 6,
   "metadata": {},
   "outputs": [
    {
     "name": "stdout",
     "output_type": "stream",
     "text": [
      "['thebridgeschool.tech', 'uc3m.es', 'mi-correo.net']\n"
     ]
    }
   ],
   "source": [
    "pattern = r\"@(.+)$\"\n",
    "\n",
    "domains = []\n",
    "for email in emails:\n",
    "    match = re.search(pattern, email.strip())\n",
    "    if match and match.group(1):\n",
    "        domains.append(match.group(1))\n",
    "\n",
    "print(domains)"
   ]
  }
 ],
 "metadata": {
  "kernelspec": {
   "display_name": "bootcamp-ds-gDITtNOb-py3.11",
   "language": "python",
   "name": "python3"
  },
  "language_info": {
   "codemirror_mode": {
    "name": "ipython",
    "version": 3
   },
   "file_extension": ".py",
   "mimetype": "text/x-python",
   "name": "python",
   "nbconvert_exporter": "python",
   "pygments_lexer": "ipython3",
   "version": "3.11.7"
  },
  "orig_nbformat": 4
 },
 "nbformat": 4,
 "nbformat_minor": 2
}
