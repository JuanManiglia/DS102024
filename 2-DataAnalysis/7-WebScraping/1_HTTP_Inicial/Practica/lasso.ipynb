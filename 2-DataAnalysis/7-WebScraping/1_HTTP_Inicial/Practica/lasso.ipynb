{
 "cells": [
  {
   "cell_type": "markdown",
   "metadata": {},
   "source": [
    "# Ejercicio Scraping\n",
    "\n",
    "Descargar letras de canciones\n",
    "\n",
    "Utilizando beautiful soup descargar todas las canciones de [Lasso](https://es.wikipedia.org/wiki/Lasso_(cantante)) que hay en [letras.com](https://www.letras.com/lasso/)"
   ]
  },
  {
   "cell_type": "code",
   "execution_count": 8,
   "metadata": {},
   "outputs": [],
   "source": [
    "from bs4 import BeautifulSoup\n",
    "import requests\n",
    "import os\n",
    "import csv\n",
    "import time\n",
    "\n",
    "letras_url = \"https://www.letras.com/lasso/\"\n",
    "\n",
    "HEADERS = {\"User-Agent\": \"Mozilla/5.0\"}\n",
    "\n",
    "def descargar_letras(artista):\n",
    "    response = requests.get(letras_url, headers=HEADERS)\n",
    "    if response.status_code != 200:\n",
    "        print(\"Error al acceder a la página del artista.\")# COMPLETAR\n",
    "    return\n",
    "        \n",
    "    soup = BeautifulSoup(response.text, \"html.parser\")\n",
    "    song_links = []\n",
    "\n",
    "    # Buscar los enlaces de canciones\n",
    "    for link in soup.select(\"ul.cnt-list li a\"):\n",
    "        song_url = BASE_URL + link[\"href\"]\n",
    "        song_links.append(song_url)\n",
    "\n",
    "    return song_links\n",
    "\n",
    "def get_song_lyrics(song_url):\n",
    "    response = requests.get(song_url, headers=HEADERS)\n",
    "    if response.status_code != 200:\n",
    "        print(f\"Error al acceder a {song_url}\")\n",
    "        return None, None\n",
    "\n",
    "    soup = BeautifulSoup(response.text, \"html.parser\")\n",
    "\n",
    "    # Extraer título de la canción\n",
    "    title = soup.select_one(\"h1\").text.strip() if soup.select_one(\"h1\") else \"Título no encontrado\"\n",
    "\n",
    "artista = \"lasso\"\n",
    "descargar_letras(artista)"
   ]
  }
 ],
 "metadata": {
  "instance_type": "ml.t3.medium",
  "kernelspec": {
   "display_name": "bootcamp-ds-gDITtNOb-py3.11",
   "language": "python",
   "name": "python3"
  },
  "language_info": {
   "codemirror_mode": {
    "name": "ipython",
    "version": 3
   },
   "file_extension": ".py",
   "mimetype": "text/x-python",
   "name": "python",
   "nbconvert_exporter": "python",
   "pygments_lexer": "ipython3",
   "version": "3.11.7"
  }
 },
 "nbformat": 4,
 "nbformat_minor": 4
}
