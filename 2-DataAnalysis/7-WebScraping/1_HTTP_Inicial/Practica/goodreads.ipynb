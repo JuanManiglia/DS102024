{
  "cells": [
    {
      "cell_type": "markdown",
      "metadata": {
        "id": "0EFJ4GlydmZ6"
      },
      "source": [
        "<a href=\"https://colab.research.google.com/github/institutohumai/cursos-python/blob/master/Scraping/1_HTTP_Inicial/ejercicio/7Puentes_ejercicios_web_scraping_http_inicial.ipynb\" target=\"_parent\"><img src=\"https://colab.research.google.com/assets/colab-badge.svg\" alt=\"Open In Colab\" data-canonical-src=\"https://colab.research.google.com/assets/colab-badge.svg\"></a>"
      ]
    },
    {
      "cell_type": "markdown",
      "metadata": {
        "id": "HFbPvfyu3yaS"
      },
      "source": [
        "# **Web scraping con Python**\n",
        "\n",
        "## Más ejercicios!\n",
        "<img src=\"https://c.tenor.com/S4Sz_yvlLn4AAAAC/cats-cat.gif\" height=250>\n"
      ]
    },
    {
      "cell_type": "markdown",
      "metadata": {
        "id": "XDFHciyn8ZWY"
      },
      "source": [
        "## **Vamos a scrapear las novedades de Goodreads.com**\n",
        "<hr>\n",
        "<img src='https://digital.hbs.edu/platform-digit/wp-content/uploads/sites/2/2015/10/goodreads-620x200.png'>\n",
        "\n",
        "- GoodReads es una red social donde se comparte lo que uno esta leyendo, se ofecen recomendaciones de lectura, etc.\n",
        "\n",
        "- En particular nos ofrece una serie de titulos catalogados como \"novedades\" para varios generos entrando a: https://www.goodreads.com/genres/\n",
        "\n",
        "\n",
        "El objetivo del ejercicios será *scrapear* esas novedades para un género de nuestro interés (o para todos!)\n",
        "\n",
        "1. Obtener el HTML de https://www.goodreads.com/genres/new_releases/{CATEGORIA}, siendo CATEGORIA el género de interés\n",
        "2. Entrar a cada uno de los links de los libros\n",
        "3. Obtener el título y el resumen\n",
        "4. Guardar toda la informacion en un archivo *.csv* "
      ]
    },
    {
      "cell_type": "code",
      "execution_count": null,
      "metadata": {
        "id": "2M0SZqJU-MQG"
      },
      "outputs": [],
      "source": [
        "# Importamos librerias\n",
        "from bs4 import BeautifulSoup\n",
        "import requests\n",
        "import json\n",
        "import time\n",
        "import re \n",
        "import pandas as pd"
      ]
    },
    {
      "cell_type": "code",
      "execution_count": 14,
      "metadata": {},
      "outputs": [],
      "source": [
        "# Función para obtener la lista de libros desde una categoría\n",
        "def get_books_links(category):\n",
        "    url = f\"https://www.goodreads.com/genres/new_releases/{category}\"\n",
        "    headers = {\"User-Agent\": \"Mozilla/5.0\"}  # Evitar bloqueos por scrapers\n",
        "    response = requests.get(url, headers=headers)\n",
        "    \n",
        "    if response.status_code != 200:\n",
        "        print(f\"Error al acceder a {url}\")\n",
        "        return []\n",
        "    \n",
        "    soup = BeautifulSoup(response.text, \"html.parser\")\n",
        "    book_links = []\n",
        "    \n",
        "    for link in soup.select(\"a.bookTitle\"):\n",
        "        book_url = \"https://www.goodreads.com\" + link[\"href\"]\n",
        "        book_links.append(book_url)\n",
        "    \n",
        "    return book_links"
      ]
    },
    {
      "cell_type": "code",
      "execution_count": 15,
      "metadata": {},
      "outputs": [],
      "source": [
        "def get_book_info(book_url):\n",
        "    headers = {\"User-Agent\": \"Mozilla/5.0\"}\n",
        "    response = requests.get(book_url, headers=headers)\n",
        "    \n",
        "    if response.status_code != 200:\n",
        "        print(f\"Error al acceder a {book_url}\")\n",
        "        return None, None\n",
        "    \n",
        "    soup = BeautifulSoup(response.text, \"html.parser\")\n",
        "    \n",
        "    title = soup.select_one(\"h1.Text__title1\").text.strip() if soup.select_one(\"h1.Text__title1\") else \"Título no encontrado\"\n",
        "    summary = soup.select_one(\"span.Formatted\").text.strip() if soup.select_one(\"span.Formatted\") else \"Resumen no encontrado\"\n",
        "    \n",
        "    return title, summary\n"
      ]
    },
    {
      "cell_type": "code",
      "execution_count": 16,
      "metadata": {
        "cellView": "form",
        "colab": {
          "base_uri": "https://localhost:8080/",
          "height": 1000
        },
        "id": "RT0BCF4IjR7b",
        "outputId": "015b3ca2-73cd-47a6-afec-be3c10a331a0"
      },
      "outputs": [],
      "source": [
        "def save_to_csv(data, filename=\"books.csv\"):\n",
        "    with open(filename, \"w\", newline=\"\", encoding=\"utf-8\") as file:\n",
        "        writer = csv.writer(file)\n",
        "        writer.writerow([\"Título\", \"Resumen\", \"URL\"])\n",
        "        writer.writerows(data)"
      ]
    },
    {
      "cell_type": "markdown",
      "metadata": {
        "id": "cY8nt55lX3NM"
      },
      "source": [
        "## Si se coparon mucho pueden hacer un mega scrapeo iterando sobre algunas de las categorias\n",
        " \n",
        "### **Tip para que no les raje colab:**\n",
        "* En la consola del navegador pegan esto y le dan enter:\n",
        "\n",
        "\n",
        "\n",
        "```javascript\n",
        "\n",
        "// Código en JavaScript\n",
        "function ClickConnect() {\n",
        "  console.log('Trabajando...')\n",
        "  document\n",
        "    .querySelector('#top-toolbar > colab-connect-button')\n",
        "    .shadowRoot.querySelector('#connect')\n",
        "    .click()\n",
        "}\n",
        "intervalTiming = setInterval(ClickConnect, 60000)\n",
        "```\n",
        " \n",
        "Para desactivarlo: \n",
        " \n",
        "```javascript\n",
        "clearInterval(intervalTiming)\n",
        "```\n",
        " \n",
        " \n",
        " \n",
        " \n",
        " \n",
        "<img src='https://bookbub-res.cloudinary.com/image/upload/f_auto,q_auto/v1584035706/blog/justification-for-too-many-books-memes-we-need-more-books.jpg'>"
      ]
    },
    {
      "cell_type": "code",
      "execution_count": 18,
      "metadata": {
        "cellView": "form",
        "colab": {
          "base_uri": "https://localhost:8080/"
        },
        "id": "rSpmige8InEg",
        "outputId": "4f85eb2a-e466-4600-c899-1e30ee1343ff"
      },
      "outputs": [],
      "source": [
        "category = \"fiction\"  # Cambia esto por la categoría deseada\n",
        "\n",
        "# Obtener enlaces de libros\n",
        "book_links = get_books_links(category)\n",
        "\n",
        "# Extraer información de cada libro\n",
        "books_data = []\n",
        "for link in book_links[:10]:  # Limitar a 10 libros para evitar bloqueos\n",
        "    print(f\"Extrayendo: {link}\")\n",
        "    title, summary = get_book_info(link)\n",
        "    if title and summary:\n",
        "        books_data.append([title, summary, link])\n",
        "    time.sleep(2)  # Evitar bloqueos por demasiadas solicitudes rápidas"
      ]
    }
  ],
  "metadata": {
    "colab": {
      "collapsed_sections": [
        "KcHglp06hnfy"
      ],
      "name": "7Puentes_ejercicios_web_scraping_http_inicial.ipynb",
      "provenance": []
    },
    "kernelspec": {
      "display_name": "bootcamp-ds-gDITtNOb-py3.11",
      "language": "python",
      "name": "python3"
    },
    "language_info": {
      "codemirror_mode": {
        "name": "ipython",
        "version": 3
      },
      "file_extension": ".py",
      "mimetype": "text/x-python",
      "name": "python",
      "nbconvert_exporter": "python",
      "pygments_lexer": "ipython3",
      "version": "3.11.7"
    }
  },
  "nbformat": 4,
  "nbformat_minor": 0
}
